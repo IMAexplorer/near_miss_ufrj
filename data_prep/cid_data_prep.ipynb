{
 "metadata": {
  "language_info": {
   "codemirror_mode": {
    "name": "ipython",
    "version": 3
   },
   "file_extension": ".py",
   "mimetype": "text/x-python",
   "name": "python",
   "nbconvert_exporter": "python",
   "pygments_lexer": "ipython3",
   "version": "3.6.9"
  },
  "orig_nbformat": 2,
  "kernelspec": {
   "name": "python36964bit6e27bf3fac52401e881c093f1f20b564",
   "display_name": "Python 3.6.9 64-bit"
  },
  "metadata": {
   "interpreter": {
    "hash": "31f2aee4e71d21fbe5cf8b01ff0e069b9275f58929596ceb00d14d90e3e16cd6"
   }
  }
 },
 "nbformat": 4,
 "nbformat_minor": 2,
 "cells": [
  {
   "cell_type": "code",
   "execution_count": 1,
   "metadata": {},
   "outputs": [],
   "source": [
    "import pandas as pd"
   ]
  },
  {
   "source": [
    "### Read complete CID-10 csv"
   ],
   "cell_type": "markdown",
   "metadata": {}
  },
  {
   "cell_type": "code",
   "execution_count": 2,
   "metadata": {},
   "outputs": [
    {
     "output_type": "execute_result",
     "data": {
      "text/plain": [
       "         influence_type  code                           description\n",
       "0  Morte Materna Direta  O000                    Gravidez abdominal\n",
       "1  Morte Materna Direta  O001                      Gravidez tubária\n",
       "2  Morte Materna Direta  O002                     Gravidez ovariana\n",
       "3  Morte Materna Direta  O008    Outras formas de gravidez ectópica\n",
       "4  Morte Materna Direta  O009  Gravidez ectópica, não especificada "
      ],
      "text/html": "<div>\n<style scoped>\n    .dataframe tbody tr th:only-of-type {\n        vertical-align: middle;\n    }\n\n    .dataframe tbody tr th {\n        vertical-align: top;\n    }\n\n    .dataframe thead th {\n        text-align: right;\n    }\n</style>\n<table border=\"1\" class=\"dataframe\">\n  <thead>\n    <tr style=\"text-align: right;\">\n      <th></th>\n      <th>influence_type</th>\n      <th>code</th>\n      <th>description</th>\n    </tr>\n  </thead>\n  <tbody>\n    <tr>\n      <th>0</th>\n      <td>Morte Materna Direta</td>\n      <td>O000</td>\n      <td>Gravidez abdominal</td>\n    </tr>\n    <tr>\n      <th>1</th>\n      <td>Morte Materna Direta</td>\n      <td>O001</td>\n      <td>Gravidez tubária</td>\n    </tr>\n    <tr>\n      <th>2</th>\n      <td>Morte Materna Direta</td>\n      <td>O002</td>\n      <td>Gravidez ovariana</td>\n    </tr>\n    <tr>\n      <th>3</th>\n      <td>Morte Materna Direta</td>\n      <td>O008</td>\n      <td>Outras formas de gravidez ectópica</td>\n    </tr>\n    <tr>\n      <th>4</th>\n      <td>Morte Materna Direta</td>\n      <td>O009</td>\n      <td>Gravidez ectópica, não especificada</td>\n    </tr>\n  </tbody>\n</table>\n</div>"
     },
     "metadata": {},
     "execution_count": 2
    }
   ],
   "source": [
    "o_cids = pd.read_csv('csv/o_cids.csv', sep=';')\n",
    "o_cids.head()"
   ]
  },
  {
   "source": [
    "### Read SP - RJ - 2015 - Jan"
   ],
   "cell_type": "markdown",
   "metadata": {}
  },
  {
   "cell_type": "code",
   "execution_count": 3,
   "metadata": {},
   "outputs": [
    {
     "output_type": "stream",
     "name": "stderr",
     "text": [
      "/home/user4/.local/lib/python3.6/site-packages/IPython/core/interactiveshell.py:3058: DtypeWarning: Columns (16,25) have mixed types.Specify dtype option on import or set low_memory=False.\n  interactivity=interactivity, compiler=compiler, result=result)\n"
     ]
    },
    {
     "output_type": "execute_result",
     "data": {
      "text/plain": [
       "   SP_GESTOR  SP_UF  SP_AA  SP_MM  SP_CNES        SP_NAIH  SP_PROCREA  \\\n",
       "0     352800     35   2018      1  2082942  3518112635851   303060190   \n",
       "1     352800     35   2018      1  2082942  3518112635862   303070072   \n",
       "2     352800     35   2018      1  2082942  3518112635873   303030046   \n",
       "3     352800     35   2018      1  2082942  3518112635884   301060088   \n",
       "4     352800     35   2018      1  2082942  3518112635895   303010037   \n",
       "\n",
       "   SP_DTINTER  SP_DTSAIDA  SP_NUM_PR  ...  SP_PF_DOC  SP_PJ_DOC  IN_TP_VAL  \\\n",
       "0    20180116    20180117        NaN  ...          0    2082942          1   \n",
       "1    20180106    20180109        NaN  ...          0    2082942          1   \n",
       "2    20180106    20180107        NaN  ...          0    2082942          1   \n",
       "3    20180105    20180106        NaN  ...          0    2082942          1   \n",
       "4    20180109    20180111        NaN  ...          0    2082942          1   \n",
       "\n",
       "   SEQUENCIA                REMESSA  SERV_CLA SP_CIDPRI  SP_CIDSEC  \\\n",
       "0         30  HM35280001N201801.DTS         0      I219          0   \n",
       "1         31  HM35280001N201801.DTS         0      K729          0   \n",
       "2         32  HM35280001N201801.DTS         0       E86          0   \n",
       "3         33  HM35280001N201801.DTS         0      L020          0   \n",
       "4         34  HM35280001N201801.DTS         0      A415          0   \n",
       "\n",
       "   SP_QT_PROC  SP_U_AIH  \n",
       "0           1         0  \n",
       "1           1         0  \n",
       "2           1         0  \n",
       "3           1         0  \n",
       "4           1         0  \n",
       "\n",
       "[5 rows x 36 columns]"
      ],
      "text/html": "<div>\n<style scoped>\n    .dataframe tbody tr th:only-of-type {\n        vertical-align: middle;\n    }\n\n    .dataframe tbody tr th {\n        vertical-align: top;\n    }\n\n    .dataframe thead th {\n        text-align: right;\n    }\n</style>\n<table border=\"1\" class=\"dataframe\">\n  <thead>\n    <tr style=\"text-align: right;\">\n      <th></th>\n      <th>SP_GESTOR</th>\n      <th>SP_UF</th>\n      <th>SP_AA</th>\n      <th>SP_MM</th>\n      <th>SP_CNES</th>\n      <th>SP_NAIH</th>\n      <th>SP_PROCREA</th>\n      <th>SP_DTINTER</th>\n      <th>SP_DTSAIDA</th>\n      <th>SP_NUM_PR</th>\n      <th>...</th>\n      <th>SP_PF_DOC</th>\n      <th>SP_PJ_DOC</th>\n      <th>IN_TP_VAL</th>\n      <th>SEQUENCIA</th>\n      <th>REMESSA</th>\n      <th>SERV_CLA</th>\n      <th>SP_CIDPRI</th>\n      <th>SP_CIDSEC</th>\n      <th>SP_QT_PROC</th>\n      <th>SP_U_AIH</th>\n    </tr>\n  </thead>\n  <tbody>\n    <tr>\n      <th>0</th>\n      <td>352800</td>\n      <td>35</td>\n      <td>2018</td>\n      <td>1</td>\n      <td>2082942</td>\n      <td>3518112635851</td>\n      <td>303060190</td>\n      <td>20180116</td>\n      <td>20180117</td>\n      <td>NaN</td>\n      <td>...</td>\n      <td>0</td>\n      <td>2082942</td>\n      <td>1</td>\n      <td>30</td>\n      <td>HM35280001N201801.DTS</td>\n      <td>0</td>\n      <td>I219</td>\n      <td>0</td>\n      <td>1</td>\n      <td>0</td>\n    </tr>\n    <tr>\n      <th>1</th>\n      <td>352800</td>\n      <td>35</td>\n      <td>2018</td>\n      <td>1</td>\n      <td>2082942</td>\n      <td>3518112635862</td>\n      <td>303070072</td>\n      <td>20180106</td>\n      <td>20180109</td>\n      <td>NaN</td>\n      <td>...</td>\n      <td>0</td>\n      <td>2082942</td>\n      <td>1</td>\n      <td>31</td>\n      <td>HM35280001N201801.DTS</td>\n      <td>0</td>\n      <td>K729</td>\n      <td>0</td>\n      <td>1</td>\n      <td>0</td>\n    </tr>\n    <tr>\n      <th>2</th>\n      <td>352800</td>\n      <td>35</td>\n      <td>2018</td>\n      <td>1</td>\n      <td>2082942</td>\n      <td>3518112635873</td>\n      <td>303030046</td>\n      <td>20180106</td>\n      <td>20180107</td>\n      <td>NaN</td>\n      <td>...</td>\n      <td>0</td>\n      <td>2082942</td>\n      <td>1</td>\n      <td>32</td>\n      <td>HM35280001N201801.DTS</td>\n      <td>0</td>\n      <td>E86</td>\n      <td>0</td>\n      <td>1</td>\n      <td>0</td>\n    </tr>\n    <tr>\n      <th>3</th>\n      <td>352800</td>\n      <td>35</td>\n      <td>2018</td>\n      <td>1</td>\n      <td>2082942</td>\n      <td>3518112635884</td>\n      <td>301060088</td>\n      <td>20180105</td>\n      <td>20180106</td>\n      <td>NaN</td>\n      <td>...</td>\n      <td>0</td>\n      <td>2082942</td>\n      <td>1</td>\n      <td>33</td>\n      <td>HM35280001N201801.DTS</td>\n      <td>0</td>\n      <td>L020</td>\n      <td>0</td>\n      <td>1</td>\n      <td>0</td>\n    </tr>\n    <tr>\n      <th>4</th>\n      <td>352800</td>\n      <td>35</td>\n      <td>2018</td>\n      <td>1</td>\n      <td>2082942</td>\n      <td>3518112635895</td>\n      <td>303010037</td>\n      <td>20180109</td>\n      <td>20180111</td>\n      <td>NaN</td>\n      <td>...</td>\n      <td>0</td>\n      <td>2082942</td>\n      <td>1</td>\n      <td>34</td>\n      <td>HM35280001N201801.DTS</td>\n      <td>0</td>\n      <td>A415</td>\n      <td>0</td>\n      <td>1</td>\n      <td>0</td>\n    </tr>\n  </tbody>\n</table>\n<p>5 rows × 36 columns</p>\n</div>"
     },
     "metadata": {},
     "execution_count": 3
    }
   ],
   "source": [
    "sp_df = pd.read_csv('~/SPSP/SPSP1801.csv')\n",
    "sp_df.head()"
   ]
  },
  {
   "source": [
    "### Left join with the CIDs DF"
   ],
   "cell_type": "markdown",
   "metadata": {}
  },
  {
   "cell_type": "code",
   "execution_count": 4,
   "metadata": {},
   "outputs": [
    {
     "output_type": "execute_result",
     "data": {
      "text/plain": [
       "   SP_GESTOR  SP_UF  SP_AA  SP_MM  SP_CNES        SP_NAIH  SP_PROCREA  \\\n",
       "0     352800     35   2018      1  2082942  3518112635851   303060190   \n",
       "1     352800     35   2018      1  2082942  3518112635862   303070072   \n",
       "2     352800     35   2018      1  2082942  3518112635873   303030046   \n",
       "3     352800     35   2018      1  2082942  3518112635884   301060088   \n",
       "4     352800     35   2018      1  2082942  3518112635895   303010037   \n",
       "\n",
       "   SP_DTINTER  SP_DTSAIDA  SP_NUM_PR  ...  IN_TP_VAL  SEQUENCIA  \\\n",
       "0    20180116    20180117        NaN  ...          1         30   \n",
       "1    20180106    20180109        NaN  ...          1         31   \n",
       "2    20180106    20180107        NaN  ...          1         32   \n",
       "3    20180105    20180106        NaN  ...          1         33   \n",
       "4    20180109    20180111        NaN  ...          1         34   \n",
       "\n",
       "                 REMESSA  SERV_CLA  SP_CIDPRI  SP_CIDSEC SP_QT_PROC  SP_U_AIH  \\\n",
       "0  HM35280001N201801.DTS         0       I219          0          1         0   \n",
       "1  HM35280001N201801.DTS         0       K729          0          1         0   \n",
       "2  HM35280001N201801.DTS         0        E86          0          1         0   \n",
       "3  HM35280001N201801.DTS         0       L020          0          1         0   \n",
       "4  HM35280001N201801.DTS         0       A415          0          1         0   \n",
       "\n",
       "   influence_type  description  \n",
       "0             NaN          NaN  \n",
       "1             NaN          NaN  \n",
       "2             NaN          NaN  \n",
       "3             NaN          NaN  \n",
       "4             NaN          NaN  \n",
       "\n",
       "[5 rows x 38 columns]"
      ],
      "text/html": "<div>\n<style scoped>\n    .dataframe tbody tr th:only-of-type {\n        vertical-align: middle;\n    }\n\n    .dataframe tbody tr th {\n        vertical-align: top;\n    }\n\n    .dataframe thead th {\n        text-align: right;\n    }\n</style>\n<table border=\"1\" class=\"dataframe\">\n  <thead>\n    <tr style=\"text-align: right;\">\n      <th></th>\n      <th>SP_GESTOR</th>\n      <th>SP_UF</th>\n      <th>SP_AA</th>\n      <th>SP_MM</th>\n      <th>SP_CNES</th>\n      <th>SP_NAIH</th>\n      <th>SP_PROCREA</th>\n      <th>SP_DTINTER</th>\n      <th>SP_DTSAIDA</th>\n      <th>SP_NUM_PR</th>\n      <th>...</th>\n      <th>IN_TP_VAL</th>\n      <th>SEQUENCIA</th>\n      <th>REMESSA</th>\n      <th>SERV_CLA</th>\n      <th>SP_CIDPRI</th>\n      <th>SP_CIDSEC</th>\n      <th>SP_QT_PROC</th>\n      <th>SP_U_AIH</th>\n      <th>influence_type</th>\n      <th>description</th>\n    </tr>\n  </thead>\n  <tbody>\n    <tr>\n      <th>0</th>\n      <td>352800</td>\n      <td>35</td>\n      <td>2018</td>\n      <td>1</td>\n      <td>2082942</td>\n      <td>3518112635851</td>\n      <td>303060190</td>\n      <td>20180116</td>\n      <td>20180117</td>\n      <td>NaN</td>\n      <td>...</td>\n      <td>1</td>\n      <td>30</td>\n      <td>HM35280001N201801.DTS</td>\n      <td>0</td>\n      <td>I219</td>\n      <td>0</td>\n      <td>1</td>\n      <td>0</td>\n      <td>NaN</td>\n      <td>NaN</td>\n    </tr>\n    <tr>\n      <th>1</th>\n      <td>352800</td>\n      <td>35</td>\n      <td>2018</td>\n      <td>1</td>\n      <td>2082942</td>\n      <td>3518112635862</td>\n      <td>303070072</td>\n      <td>20180106</td>\n      <td>20180109</td>\n      <td>NaN</td>\n      <td>...</td>\n      <td>1</td>\n      <td>31</td>\n      <td>HM35280001N201801.DTS</td>\n      <td>0</td>\n      <td>K729</td>\n      <td>0</td>\n      <td>1</td>\n      <td>0</td>\n      <td>NaN</td>\n      <td>NaN</td>\n    </tr>\n    <tr>\n      <th>2</th>\n      <td>352800</td>\n      <td>35</td>\n      <td>2018</td>\n      <td>1</td>\n      <td>2082942</td>\n      <td>3518112635873</td>\n      <td>303030046</td>\n      <td>20180106</td>\n      <td>20180107</td>\n      <td>NaN</td>\n      <td>...</td>\n      <td>1</td>\n      <td>32</td>\n      <td>HM35280001N201801.DTS</td>\n      <td>0</td>\n      <td>E86</td>\n      <td>0</td>\n      <td>1</td>\n      <td>0</td>\n      <td>NaN</td>\n      <td>NaN</td>\n    </tr>\n    <tr>\n      <th>3</th>\n      <td>352800</td>\n      <td>35</td>\n      <td>2018</td>\n      <td>1</td>\n      <td>2082942</td>\n      <td>3518112635884</td>\n      <td>301060088</td>\n      <td>20180105</td>\n      <td>20180106</td>\n      <td>NaN</td>\n      <td>...</td>\n      <td>1</td>\n      <td>33</td>\n      <td>HM35280001N201801.DTS</td>\n      <td>0</td>\n      <td>L020</td>\n      <td>0</td>\n      <td>1</td>\n      <td>0</td>\n      <td>NaN</td>\n      <td>NaN</td>\n    </tr>\n    <tr>\n      <th>4</th>\n      <td>352800</td>\n      <td>35</td>\n      <td>2018</td>\n      <td>1</td>\n      <td>2082942</td>\n      <td>3518112635895</td>\n      <td>303010037</td>\n      <td>20180109</td>\n      <td>20180111</td>\n      <td>NaN</td>\n      <td>...</td>\n      <td>1</td>\n      <td>34</td>\n      <td>HM35280001N201801.DTS</td>\n      <td>0</td>\n      <td>A415</td>\n      <td>0</td>\n      <td>1</td>\n      <td>0</td>\n      <td>NaN</td>\n      <td>NaN</td>\n    </tr>\n  </tbody>\n</table>\n<p>5 rows × 38 columns</p>\n</div>"
     },
     "metadata": {},
     "execution_count": 4
    }
   ],
   "source": [
    "merged_dfs = sp_df.merge(o_cids, left_on='SP_CIDPRI', right_on='code', how='left').drop('code', axis=1)\n",
    "merged_dfs.head()"
   ]
  },
  {
   "source": [
    "### Number of lines"
   ],
   "cell_type": "markdown",
   "metadata": {}
  },
  {
   "cell_type": "code",
   "execution_count": 5,
   "metadata": {},
   "outputs": [
    {
     "output_type": "execute_result",
     "data": {
      "text/plain": [
       "2966364"
      ]
     },
     "metadata": {},
     "execution_count": 5
    }
   ],
   "source": [
    "number_of_lines = merged_dfs.shape[0]\n",
    "number_of_lines"
   ]
  },
  {
   "cell_type": "code",
   "execution_count": 6,
   "metadata": {},
   "outputs": [
    {
     "output_type": "execute_result",
     "data": {
      "text/plain": [
       "0"
      ]
     },
     "metadata": {},
     "execution_count": 6
    }
   ],
   "source": [
    "not_matched_count = merged_dfs.isna().sum()[3]\n",
    "not_matched_count"
   ]
  },
  {
   "cell_type": "code",
   "execution_count": 7,
   "metadata": {},
   "outputs": [
    {
     "output_type": "stream",
     "name": "stdout",
     "text": [
      "\npercentage of values that match the codes 100.0 %\n"
     ]
    }
   ],
   "source": [
    "percentage = round((number_of_lines - not_matched_count)/ number_of_lines * 100,2) \n",
    "print()\n",
    "print(f'percentage of values that match the codes {percentage} %')"
   ]
  },
  {
   "source": [
    "### Drop lines that are not in the codes mapped"
   ],
   "cell_type": "markdown",
   "metadata": {}
  },
  {
   "cell_type": "code",
   "execution_count": 10,
   "metadata": {},
   "outputs": [],
   "source": [
    "clean_df = merged_dfs[merged_dfs['influence_type'].notna()]"
   ]
  },
  {
   "source": [
    "### Group by influence type"
   ],
   "cell_type": "markdown",
   "metadata": {}
  },
  {
   "cell_type": "code",
   "execution_count": 11,
   "metadata": {},
   "outputs": [
    {
     "output_type": "execute_result",
     "data": {
      "text/plain": [
       "                        SP_GESTOR   SP_UF   SP_AA   SP_MM  SP_CNES  SP_NAIH  \\\n",
       "influence_type                                                                \n",
       "Morte Materna Direta       512394  512394  512394  512394   512394   512394   \n",
       "Morte Materna Indireta      21628   21628   21628   21628    21628    21628   \n",
       "\n",
       "                        SP_PROCREA  SP_DTINTER  SP_DTSAIDA  SP_NUM_PR  ...  \\\n",
       "influence_type                                                         ...   \n",
       "Morte Materna Direta        512394      512394      512394          0  ...   \n",
       "Morte Materna Indireta       21628       21628       21628          0  ...   \n",
       "\n",
       "                        SP_PJ_DOC  IN_TP_VAL  SEQUENCIA  REMESSA  SERV_CLA  \\\n",
       "influence_type                                                               \n",
       "Morte Materna Direta       512394     512394     512394   512394    512394   \n",
       "Morte Materna Indireta      21628      21628      21628    21628     21628   \n",
       "\n",
       "                        SP_CIDPRI  SP_CIDSEC  SP_QT_PROC  SP_U_AIH  \\\n",
       "influence_type                                                       \n",
       "Morte Materna Direta       512394     512394      512394    512394   \n",
       "Morte Materna Indireta      21628      21628       21628     21628   \n",
       "\n",
       "                        description  \n",
       "influence_type                       \n",
       "Morte Materna Direta         512394  \n",
       "Morte Materna Indireta        21628  \n",
       "\n",
       "[2 rows x 37 columns]"
      ],
      "text/html": "<div>\n<style scoped>\n    .dataframe tbody tr th:only-of-type {\n        vertical-align: middle;\n    }\n\n    .dataframe tbody tr th {\n        vertical-align: top;\n    }\n\n    .dataframe thead th {\n        text-align: right;\n    }\n</style>\n<table border=\"1\" class=\"dataframe\">\n  <thead>\n    <tr style=\"text-align: right;\">\n      <th></th>\n      <th>SP_GESTOR</th>\n      <th>SP_UF</th>\n      <th>SP_AA</th>\n      <th>SP_MM</th>\n      <th>SP_CNES</th>\n      <th>SP_NAIH</th>\n      <th>SP_PROCREA</th>\n      <th>SP_DTINTER</th>\n      <th>SP_DTSAIDA</th>\n      <th>SP_NUM_PR</th>\n      <th>...</th>\n      <th>SP_PJ_DOC</th>\n      <th>IN_TP_VAL</th>\n      <th>SEQUENCIA</th>\n      <th>REMESSA</th>\n      <th>SERV_CLA</th>\n      <th>SP_CIDPRI</th>\n      <th>SP_CIDSEC</th>\n      <th>SP_QT_PROC</th>\n      <th>SP_U_AIH</th>\n      <th>description</th>\n    </tr>\n    <tr>\n      <th>influence_type</th>\n      <th></th>\n      <th></th>\n      <th></th>\n      <th></th>\n      <th></th>\n      <th></th>\n      <th></th>\n      <th></th>\n      <th></th>\n      <th></th>\n      <th></th>\n      <th></th>\n      <th></th>\n      <th></th>\n      <th></th>\n      <th></th>\n      <th></th>\n      <th></th>\n      <th></th>\n      <th></th>\n      <th></th>\n    </tr>\n  </thead>\n  <tbody>\n    <tr>\n      <th>Morte Materna Direta</th>\n      <td>512394</td>\n      <td>512394</td>\n      <td>512394</td>\n      <td>512394</td>\n      <td>512394</td>\n      <td>512394</td>\n      <td>512394</td>\n      <td>512394</td>\n      <td>512394</td>\n      <td>0</td>\n      <td>...</td>\n      <td>512394</td>\n      <td>512394</td>\n      <td>512394</td>\n      <td>512394</td>\n      <td>512394</td>\n      <td>512394</td>\n      <td>512394</td>\n      <td>512394</td>\n      <td>512394</td>\n      <td>512394</td>\n    </tr>\n    <tr>\n      <th>Morte Materna Indireta</th>\n      <td>21628</td>\n      <td>21628</td>\n      <td>21628</td>\n      <td>21628</td>\n      <td>21628</td>\n      <td>21628</td>\n      <td>21628</td>\n      <td>21628</td>\n      <td>21628</td>\n      <td>0</td>\n      <td>...</td>\n      <td>21628</td>\n      <td>21628</td>\n      <td>21628</td>\n      <td>21628</td>\n      <td>21628</td>\n      <td>21628</td>\n      <td>21628</td>\n      <td>21628</td>\n      <td>21628</td>\n      <td>21628</td>\n    </tr>\n  </tbody>\n</table>\n<p>2 rows × 37 columns</p>\n</div>"
     },
     "metadata": {},
     "execution_count": 11
    }
   ],
   "source": [
    "clean_df.groupby('influence_type').count()"
   ]
  },
  {
   "cell_type": "code",
   "execution_count": 12,
   "metadata": {},
   "outputs": [
    {
     "output_type": "execute_result",
     "data": {
      "text/plain": [
       "(534022, 38)"
      ]
     },
     "metadata": {},
     "execution_count": 12
    }
   ],
   "source": [
    "clean_df.shape"
   ]
  },
  {
   "cell_type": "code",
   "execution_count": 47,
   "metadata": {},
   "outputs": [
    {
     "output_type": "stream",
     "name": "stderr",
     "text": [
      "ipykernel_launcher:1: SettingWithCopyWarning: \nA value is trying to be set on a copy of a slice from a DataFrame.\nTry using .loc[row_indexer,col_indexer] = value instead\n\nSee the caveats in the documentation: https://pandas.pydata.org/pandas-docs/stable/user_guide/indexing.html#returning-a-view-versus-a-copy\n"
     ]
    },
    {
     "output_type": "execute_result",
     "data": {
      "text/plain": [
       "    SP_ATOPROF SP_CIDPRI        influence_type  \\\n",
       "74   409060160      O711  Morte Materna Direta   \n",
       "75   409060160      O711  Morte Materna Direta   \n",
       "76   802010199      O711  Morte Materna Direta   \n",
       "77   301010048      O711  Morte Materna Direta   \n",
       "78   301010048      O711  Morte Materna Direta   \n",
       "\n",
       "                                     description main_cid  \n",
       "74  Ruptura do útero durante o trabalho de parto      O71  \n",
       "75  Ruptura do útero durante o trabalho de parto      O71  \n",
       "76  Ruptura do útero durante o trabalho de parto      O71  \n",
       "77  Ruptura do útero durante o trabalho de parto      O71  \n",
       "78  Ruptura do útero durante o trabalho de parto      O71  "
      ],
      "text/html": "<div>\n<style scoped>\n    .dataframe tbody tr th:only-of-type {\n        vertical-align: middle;\n    }\n\n    .dataframe tbody tr th {\n        vertical-align: top;\n    }\n\n    .dataframe thead th {\n        text-align: right;\n    }\n</style>\n<table border=\"1\" class=\"dataframe\">\n  <thead>\n    <tr style=\"text-align: right;\">\n      <th></th>\n      <th>SP_ATOPROF</th>\n      <th>SP_CIDPRI</th>\n      <th>influence_type</th>\n      <th>description</th>\n      <th>main_cid</th>\n    </tr>\n  </thead>\n  <tbody>\n    <tr>\n      <th>74</th>\n      <td>409060160</td>\n      <td>O711</td>\n      <td>Morte Materna Direta</td>\n      <td>Ruptura do útero durante o trabalho de parto</td>\n      <td>O71</td>\n    </tr>\n    <tr>\n      <th>75</th>\n      <td>409060160</td>\n      <td>O711</td>\n      <td>Morte Materna Direta</td>\n      <td>Ruptura do útero durante o trabalho de parto</td>\n      <td>O71</td>\n    </tr>\n    <tr>\n      <th>76</th>\n      <td>802010199</td>\n      <td>O711</td>\n      <td>Morte Materna Direta</td>\n      <td>Ruptura do útero durante o trabalho de parto</td>\n      <td>O71</td>\n    </tr>\n    <tr>\n      <th>77</th>\n      <td>301010048</td>\n      <td>O711</td>\n      <td>Morte Materna Direta</td>\n      <td>Ruptura do útero durante o trabalho de parto</td>\n      <td>O71</td>\n    </tr>\n    <tr>\n      <th>78</th>\n      <td>301010048</td>\n      <td>O711</td>\n      <td>Morte Materna Direta</td>\n      <td>Ruptura do útero durante o trabalho de parto</td>\n      <td>O71</td>\n    </tr>\n  </tbody>\n</table>\n</div>"
     },
     "metadata": {},
     "execution_count": 47
    }
   ],
   "source": [
    "clean_df['main_cid'] = clean_df['SP_CIDPRI'].str[:-1]\n",
    "clean_df.head()"
   ]
  },
  {
   "cell_type": "code",
   "execution_count": 48,
   "metadata": {},
   "outputs": [
    {
     "output_type": "execute_result",
     "data": {
      "text/plain": [
       "          SP_ATOPROF  SP_CIDPRI  influence_type  description\n",
       "main_cid                                                    \n",
       "B2              1795       1795            1795         1795\n",
       "B20             1165       1165            1165         1165\n",
       "B21              117        117             117          117\n",
       "B22              363        363             363          363\n",
       "B23              198        198             198          198\n",
       "...              ...        ...             ...          ...\n",
       "O90              289        289             289          289\n",
       "O91               99         99              99           99\n",
       "O92                5          5               5            5\n",
       "O98              169        169             169          169\n",
       "O99             2369       2369            2369         2369\n",
       "\n",
       "[68 rows x 4 columns]"
      ],
      "text/html": "<div>\n<style scoped>\n    .dataframe tbody tr th:only-of-type {\n        vertical-align: middle;\n    }\n\n    .dataframe tbody tr th {\n        vertical-align: top;\n    }\n\n    .dataframe thead th {\n        text-align: right;\n    }\n</style>\n<table border=\"1\" class=\"dataframe\">\n  <thead>\n    <tr style=\"text-align: right;\">\n      <th></th>\n      <th>SP_ATOPROF</th>\n      <th>SP_CIDPRI</th>\n      <th>influence_type</th>\n      <th>description</th>\n    </tr>\n    <tr>\n      <th>main_cid</th>\n      <th></th>\n      <th></th>\n      <th></th>\n      <th></th>\n    </tr>\n  </thead>\n  <tbody>\n    <tr>\n      <th>B2</th>\n      <td>1795</td>\n      <td>1795</td>\n      <td>1795</td>\n      <td>1795</td>\n    </tr>\n    <tr>\n      <th>B20</th>\n      <td>1165</td>\n      <td>1165</td>\n      <td>1165</td>\n      <td>1165</td>\n    </tr>\n    <tr>\n      <th>B21</th>\n      <td>117</td>\n      <td>117</td>\n      <td>117</td>\n      <td>117</td>\n    </tr>\n    <tr>\n      <th>B22</th>\n      <td>363</td>\n      <td>363</td>\n      <td>363</td>\n      <td>363</td>\n    </tr>\n    <tr>\n      <th>B23</th>\n      <td>198</td>\n      <td>198</td>\n      <td>198</td>\n      <td>198</td>\n    </tr>\n    <tr>\n      <th>...</th>\n      <td>...</td>\n      <td>...</td>\n      <td>...</td>\n      <td>...</td>\n    </tr>\n    <tr>\n      <th>O90</th>\n      <td>289</td>\n      <td>289</td>\n      <td>289</td>\n      <td>289</td>\n    </tr>\n    <tr>\n      <th>O91</th>\n      <td>99</td>\n      <td>99</td>\n      <td>99</td>\n      <td>99</td>\n    </tr>\n    <tr>\n      <th>O92</th>\n      <td>5</td>\n      <td>5</td>\n      <td>5</td>\n      <td>5</td>\n    </tr>\n    <tr>\n      <th>O98</th>\n      <td>169</td>\n      <td>169</td>\n      <td>169</td>\n      <td>169</td>\n    </tr>\n    <tr>\n      <th>O99</th>\n      <td>2369</td>\n      <td>2369</td>\n      <td>2369</td>\n      <td>2369</td>\n    </tr>\n  </tbody>\n</table>\n<p>68 rows × 4 columns</p>\n</div>"
     },
     "metadata": {},
     "execution_count": 48
    }
   ],
   "source": [
    "clean_df.groupby('main_cid').count()"
   ]
  }
 ]
}