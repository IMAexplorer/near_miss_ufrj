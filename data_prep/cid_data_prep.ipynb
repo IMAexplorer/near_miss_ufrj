{
 "cells": [
  {
   "cell_type": "markdown",
   "metadata": {},
   "source": [
    "### Lib Importing"
   ]
  },
  {
   "cell_type": "code",
   "execution_count": 5,
   "metadata": {},
   "outputs": [],
   "source": [
    "import pandas as pd\n",
    "import os"
   ]
  },
  {
   "cell_type": "markdown",
   "metadata": {},
   "source": [
    "### Read complete CID-10 csv"
   ]
  },
  {
   "cell_type": "code",
   "execution_count": 8,
   "metadata": {},
   "outputs": [
    {
     "output_type": "execute_result",
     "data": {
      "text/plain": [
       "         influence_type  code                           description\n",
       "0  Morte Materna Direta  O000                    Gravidez abdominal\n",
       "1  Morte Materna Direta  O001                      Gravidez tubária\n",
       "2  Morte Materna Direta  O002                     Gravidez ovariana\n",
       "3  Morte Materna Direta  O008    Outras formas de gravidez ectópica\n",
       "4  Morte Materna Direta  O009  Gravidez ectópica, não especificada "
      ],
      "text/html": "<div>\n<style scoped>\n    .dataframe tbody tr th:only-of-type {\n        vertical-align: middle;\n    }\n\n    .dataframe tbody tr th {\n        vertical-align: top;\n    }\n\n    .dataframe thead th {\n        text-align: right;\n    }\n</style>\n<table border=\"1\" class=\"dataframe\">\n  <thead>\n    <tr style=\"text-align: right;\">\n      <th></th>\n      <th>influence_type</th>\n      <th>code</th>\n      <th>description</th>\n    </tr>\n  </thead>\n  <tbody>\n    <tr>\n      <th>0</th>\n      <td>Morte Materna Direta</td>\n      <td>O000</td>\n      <td>Gravidez abdominal</td>\n    </tr>\n    <tr>\n      <th>1</th>\n      <td>Morte Materna Direta</td>\n      <td>O001</td>\n      <td>Gravidez tubária</td>\n    </tr>\n    <tr>\n      <th>2</th>\n      <td>Morte Materna Direta</td>\n      <td>O002</td>\n      <td>Gravidez ovariana</td>\n    </tr>\n    <tr>\n      <th>3</th>\n      <td>Morte Materna Direta</td>\n      <td>O008</td>\n      <td>Outras formas de gravidez ectópica</td>\n    </tr>\n    <tr>\n      <th>4</th>\n      <td>Morte Materna Direta</td>\n      <td>O009</td>\n      <td>Gravidez ectópica, não especificada</td>\n    </tr>\n  </tbody>\n</table>\n</div>"
     },
     "metadata": {},
     "execution_count": 8
    }
   ],
   "source": [
    "o_cids = pd.read_csv('../csv/o_cids.csv', sep=';')\n",
    "o_cids.head()"
   ]
  },
  {
   "cell_type": "markdown",
   "metadata": {},
   "source": [
    "### Read SP - RJ - 2015 - Jan"
   ]
  },
  {
   "cell_type": "code",
   "execution_count": 3,
   "metadata": {},
   "outputs": [
    {
     "name": "stderr",
     "output_type": "stream",
     "text": [
      "/home/user4/.local/lib/python3.6/site-packages/IPython/core/interactiveshell.py:3058: DtypeWarning: Columns (16,25) have mixed types.Specify dtype option on import or set low_memory=False.\n",
      "  interactivity=interactivity, compiler=compiler, result=result)\n"
     ]
    },
    {
     "data": {
      "text/html": "<div>\n<style scoped>\n    .dataframe tbody tr th:only-of-type {\n        vertical-align: middle;\n    }\n\n    .dataframe tbody tr th {\n        vertical-align: top;\n    }\n\n    .dataframe thead th {\n        text-align: right;\n    }\n</style>\n<table border=\"1\" class=\"dataframe\">\n  <thead>\n    <tr style=\"text-align: right;\">\n      <th></th>\n      <th>SP_GESTOR</th>\n      <th>SP_UF</th>\n      <th>SP_AA</th>\n      <th>SP_MM</th>\n      <th>SP_CNES</th>\n      <th>SP_NAIH</th>\n      <th>SP_PROCREA</th>\n      <th>SP_DTINTER</th>\n      <th>SP_DTSAIDA</th>\n      <th>SP_NUM_PR</th>\n      <th>...</th>\n      <th>SP_PF_DOC</th>\n      <th>SP_PJ_DOC</th>\n      <th>IN_TP_VAL</th>\n      <th>SEQUENCIA</th>\n      <th>REMESSA</th>\n      <th>SERV_CLA</th>\n      <th>SP_CIDPRI</th>\n      <th>SP_CIDSEC</th>\n      <th>SP_QT_PROC</th>\n      <th>SP_U_AIH</th>\n    </tr>\n  </thead>\n  <tbody>\n    <tr>\n      <th>0</th>\n      <td>352800</td>\n      <td>35</td>\n      <td>2018</td>\n      <td>1</td>\n      <td>2082942</td>\n      <td>3518112635851</td>\n      <td>303060190</td>\n      <td>20180116</td>\n      <td>20180117</td>\n      <td>NaN</td>\n      <td>...</td>\n      <td>0</td>\n      <td>2082942</td>\n      <td>1</td>\n      <td>30</td>\n      <td>HM35280001N201801.DTS</td>\n      <td>0</td>\n      <td>I219</td>\n      <td>0</td>\n      <td>1</td>\n      <td>0</td>\n    </tr>\n    <tr>\n      <th>1</th>\n      <td>352800</td>\n      <td>35</td>\n      <td>2018</td>\n      <td>1</td>\n      <td>2082942</td>\n      <td>3518112635862</td>\n      <td>303070072</td>\n      <td>20180106</td>\n      <td>20180109</td>\n      <td>NaN</td>\n      <td>...</td>\n      <td>0</td>\n      <td>2082942</td>\n      <td>1</td>\n      <td>31</td>\n      <td>HM35280001N201801.DTS</td>\n      <td>0</td>\n      <td>K729</td>\n      <td>0</td>\n      <td>1</td>\n      <td>0</td>\n    </tr>\n    <tr>\n      <th>2</th>\n      <td>352800</td>\n      <td>35</td>\n      <td>2018</td>\n      <td>1</td>\n      <td>2082942</td>\n      <td>3518112635873</td>\n      <td>303030046</td>\n      <td>20180106</td>\n      <td>20180107</td>\n      <td>NaN</td>\n      <td>...</td>\n      <td>0</td>\n      <td>2082942</td>\n      <td>1</td>\n      <td>32</td>\n      <td>HM35280001N201801.DTS</td>\n      <td>0</td>\n      <td>E86</td>\n      <td>0</td>\n      <td>1</td>\n      <td>0</td>\n    </tr>\n    <tr>\n      <th>3</th>\n      <td>352800</td>\n      <td>35</td>\n      <td>2018</td>\n      <td>1</td>\n      <td>2082942</td>\n      <td>3518112635884</td>\n      <td>301060088</td>\n      <td>20180105</td>\n      <td>20180106</td>\n      <td>NaN</td>\n      <td>...</td>\n      <td>0</td>\n      <td>2082942</td>\n      <td>1</td>\n      <td>33</td>\n      <td>HM35280001N201801.DTS</td>\n      <td>0</td>\n      <td>L020</td>\n      <td>0</td>\n      <td>1</td>\n      <td>0</td>\n    </tr>\n    <tr>\n      <th>4</th>\n      <td>352800</td>\n      <td>35</td>\n      <td>2018</td>\n      <td>1</td>\n      <td>2082942</td>\n      <td>3518112635895</td>\n      <td>303010037</td>\n      <td>20180109</td>\n      <td>20180111</td>\n      <td>NaN</td>\n      <td>...</td>\n      <td>0</td>\n      <td>2082942</td>\n      <td>1</td>\n      <td>34</td>\n      <td>HM35280001N201801.DTS</td>\n      <td>0</td>\n      <td>A415</td>\n      <td>0</td>\n      <td>1</td>\n      <td>0</td>\n    </tr>\n  </tbody>\n</table>\n<p>5 rows × 36 columns</p>\n</div>",
      "text/plain": [
       "   SP_GESTOR  SP_UF  SP_AA  SP_MM  SP_CNES        SP_NAIH  SP_PROCREA  \\\n",
       "0     352800     35   2018      1  2082942  3518112635851   303060190   \n",
       "1     352800     35   2018      1  2082942  3518112635862   303070072   \n",
       "2     352800     35   2018      1  2082942  3518112635873   303030046   \n",
       "3     352800     35   2018      1  2082942  3518112635884   301060088   \n",
       "4     352800     35   2018      1  2082942  3518112635895   303010037   \n",
       "\n",
       "   SP_DTINTER  SP_DTSAIDA  SP_NUM_PR  ...  SP_PF_DOC  SP_PJ_DOC  IN_TP_VAL  \\\n",
       "0    20180116    20180117        NaN  ...          0    2082942          1   \n",
       "1    20180106    20180109        NaN  ...          0    2082942          1   \n",
       "2    20180106    20180107        NaN  ...          0    2082942          1   \n",
       "3    20180105    20180106        NaN  ...          0    2082942          1   \n",
       "4    20180109    20180111        NaN  ...          0    2082942          1   \n",
       "\n",
       "   SEQUENCIA                REMESSA  SERV_CLA SP_CIDPRI  SP_CIDSEC  \\\n",
       "0         30  HM35280001N201801.DTS         0      I219          0   \n",
       "1         31  HM35280001N201801.DTS         0      K729          0   \n",
       "2         32  HM35280001N201801.DTS         0       E86          0   \n",
       "3         33  HM35280001N201801.DTS         0      L020          0   \n",
       "4         34  HM35280001N201801.DTS         0      A415          0   \n",
       "\n",
       "   SP_QT_PROC  SP_U_AIH  \n",
       "0           1         0  \n",
       "1           1         0  \n",
       "2           1         0  \n",
       "3           1         0  \n",
       "4           1         0  \n",
       "\n",
       "[5 rows x 36 columns]"
      ]
     },
     "execution_count": 3,
     "metadata": {},
     "output_type": "execute_result"
    }
   ],
   "source": [
    "sp_df = pd.read_csv('~/SPSP/SPSP1801.csv')\n",
    "sp_df.head()"
   ]
  },
  {
   "cell_type": "markdown",
   "metadata": {},
   "source": [
    "### Left join with the CIDs DF"
   ]
  },
  {
   "cell_type": "code",
   "execution_count": 4,
   "metadata": {},
   "outputs": [
    {
     "data": {
      "text/html": "<div>\n<style scoped>\n    .dataframe tbody tr th:only-of-type {\n        vertical-align: middle;\n    }\n\n    .dataframe tbody tr th {\n        vertical-align: top;\n    }\n\n    .dataframe thead th {\n        text-align: right;\n    }\n</style>\n<table border=\"1\" class=\"dataframe\">\n  <thead>\n    <tr style=\"text-align: right;\">\n      <th></th>\n      <th>SP_GESTOR</th>\n      <th>SP_UF</th>\n      <th>SP_AA</th>\n      <th>SP_MM</th>\n      <th>SP_CNES</th>\n      <th>SP_NAIH</th>\n      <th>SP_PROCREA</th>\n      <th>SP_DTINTER</th>\n      <th>SP_DTSAIDA</th>\n      <th>SP_NUM_PR</th>\n      <th>...</th>\n      <th>IN_TP_VAL</th>\n      <th>SEQUENCIA</th>\n      <th>REMESSA</th>\n      <th>SERV_CLA</th>\n      <th>SP_CIDPRI</th>\n      <th>SP_CIDSEC</th>\n      <th>SP_QT_PROC</th>\n      <th>SP_U_AIH</th>\n      <th>influence_type</th>\n      <th>description</th>\n    </tr>\n  </thead>\n  <tbody>\n    <tr>\n      <th>0</th>\n      <td>352800</td>\n      <td>35</td>\n      <td>2018</td>\n      <td>1</td>\n      <td>2082942</td>\n      <td>3518112635851</td>\n      <td>303060190</td>\n      <td>20180116</td>\n      <td>20180117</td>\n      <td>NaN</td>\n      <td>...</td>\n      <td>1</td>\n      <td>30</td>\n      <td>HM35280001N201801.DTS</td>\n      <td>0</td>\n      <td>I219</td>\n      <td>0</td>\n      <td>1</td>\n      <td>0</td>\n      <td>NaN</td>\n      <td>NaN</td>\n    </tr>\n    <tr>\n      <th>1</th>\n      <td>352800</td>\n      <td>35</td>\n      <td>2018</td>\n      <td>1</td>\n      <td>2082942</td>\n      <td>3518112635862</td>\n      <td>303070072</td>\n      <td>20180106</td>\n      <td>20180109</td>\n      <td>NaN</td>\n      <td>...</td>\n      <td>1</td>\n      <td>31</td>\n      <td>HM35280001N201801.DTS</td>\n      <td>0</td>\n      <td>K729</td>\n      <td>0</td>\n      <td>1</td>\n      <td>0</td>\n      <td>NaN</td>\n      <td>NaN</td>\n    </tr>\n    <tr>\n      <th>2</th>\n      <td>352800</td>\n      <td>35</td>\n      <td>2018</td>\n      <td>1</td>\n      <td>2082942</td>\n      <td>3518112635873</td>\n      <td>303030046</td>\n      <td>20180106</td>\n      <td>20180107</td>\n      <td>NaN</td>\n      <td>...</td>\n      <td>1</td>\n      <td>32</td>\n      <td>HM35280001N201801.DTS</td>\n      <td>0</td>\n      <td>E86</td>\n      <td>0</td>\n      <td>1</td>\n      <td>0</td>\n      <td>NaN</td>\n      <td>NaN</td>\n    </tr>\n    <tr>\n      <th>3</th>\n      <td>352800</td>\n      <td>35</td>\n      <td>2018</td>\n      <td>1</td>\n      <td>2082942</td>\n      <td>3518112635884</td>\n      <td>301060088</td>\n      <td>20180105</td>\n      <td>20180106</td>\n      <td>NaN</td>\n      <td>...</td>\n      <td>1</td>\n      <td>33</td>\n      <td>HM35280001N201801.DTS</td>\n      <td>0</td>\n      <td>L020</td>\n      <td>0</td>\n      <td>1</td>\n      <td>0</td>\n      <td>NaN</td>\n      <td>NaN</td>\n    </tr>\n    <tr>\n      <th>4</th>\n      <td>352800</td>\n      <td>35</td>\n      <td>2018</td>\n      <td>1</td>\n      <td>2082942</td>\n      <td>3518112635895</td>\n      <td>303010037</td>\n      <td>20180109</td>\n      <td>20180111</td>\n      <td>NaN</td>\n      <td>...</td>\n      <td>1</td>\n      <td>34</td>\n      <td>HM35280001N201801.DTS</td>\n      <td>0</td>\n      <td>A415</td>\n      <td>0</td>\n      <td>1</td>\n      <td>0</td>\n      <td>NaN</td>\n      <td>NaN</td>\n    </tr>\n  </tbody>\n</table>\n<p>5 rows × 38 columns</p>\n</div>",
      "text/plain": [
       "   SP_GESTOR  SP_UF  SP_AA  SP_MM  SP_CNES        SP_NAIH  SP_PROCREA  \\\n",
       "0     352800     35   2018      1  2082942  3518112635851   303060190   \n",
       "1     352800     35   2018      1  2082942  3518112635862   303070072   \n",
       "2     352800     35   2018      1  2082942  3518112635873   303030046   \n",
       "3     352800     35   2018      1  2082942  3518112635884   301060088   \n",
       "4     352800     35   2018      1  2082942  3518112635895   303010037   \n",
       "\n",
       "   SP_DTINTER  SP_DTSAIDA  SP_NUM_PR  ...  IN_TP_VAL  SEQUENCIA  \\\n",
       "0    20180116    20180117        NaN  ...          1         30   \n",
       "1    20180106    20180109        NaN  ...          1         31   \n",
       "2    20180106    20180107        NaN  ...          1         32   \n",
       "3    20180105    20180106        NaN  ...          1         33   \n",
       "4    20180109    20180111        NaN  ...          1         34   \n",
       "\n",
       "                 REMESSA  SERV_CLA  SP_CIDPRI  SP_CIDSEC SP_QT_PROC  SP_U_AIH  \\\n",
       "0  HM35280001N201801.DTS         0       I219          0          1         0   \n",
       "1  HM35280001N201801.DTS         0       K729          0          1         0   \n",
       "2  HM35280001N201801.DTS         0        E86          0          1         0   \n",
       "3  HM35280001N201801.DTS         0       L020          0          1         0   \n",
       "4  HM35280001N201801.DTS         0       A415          0          1         0   \n",
       "\n",
       "   influence_type  description  \n",
       "0             NaN          NaN  \n",
       "1             NaN          NaN  \n",
       "2             NaN          NaN  \n",
       "3             NaN          NaN  \n",
       "4             NaN          NaN  \n",
       "\n",
       "[5 rows x 38 columns]"
      ]
     },
     "execution_count": 4,
     "metadata": {},
     "output_type": "execute_result"
    }
   ],
   "source": [
    "merged_dfs = sp_df.merge(o_cids, left_on='SP_CIDPRI', right_on='code', how='left').drop('code', axis=1)\n",
    "merged_dfs.head()"
   ]
  },
  {
   "cell_type": "markdown",
   "metadata": {},
   "source": [
    "### Number of lines"
   ]
  },
  {
   "cell_type": "code",
   "execution_count": 5,
   "metadata": {},
   "outputs": [
    {
     "data": {
      "text/plain": [
       "2966364"
      ]
     },
     "execution_count": 5,
     "metadata": {},
     "output_type": "execute_result"
    }
   ],
   "source": [
    "number_of_lines = merged_dfs.shape[0]\n",
    "number_of_lines"
   ]
  },
  {
   "cell_type": "code",
   "execution_count": 6,
   "metadata": {},
   "outputs": [
    {
     "data": {
      "text/plain": [
       "0"
      ]
     },
     "execution_count": 6,
     "metadata": {},
     "output_type": "execute_result"
    }
   ],
   "source": [
    "not_matched_count = merged_dfs.isna().sum()[3]\n",
    "not_matched_count"
   ]
  },
  {
   "cell_type": "code",
   "execution_count": 7,
   "metadata": {},
   "outputs": [
    {
     "name": "stdout",
     "output_type": "stream",
     "text": [
      "\n",
      "percentage of values that match the codes 100.0 %\n"
     ]
    }
   ],
   "source": [
    "percentage = round((number_of_lines - not_matched_count)/ number_of_lines * 100,2) \n",
    "print()\n",
    "print(f'percentage of values that match the codes {percentage} %')"
   ]
  },
  {
   "cell_type": "markdown",
   "metadata": {},
   "source": [
    "### Drop lines that are not in the codes mapped"
   ]
  },
  {
   "cell_type": "code",
   "execution_count": 10,
   "metadata": {},
   "outputs": [],
   "source": [
    "clean_df = merged_dfs[merged_dfs['influence_type'].notna()]"
   ]
  },
  {
   "cell_type": "markdown",
   "metadata": {},
   "source": [
    "### Group by influence type"
   ]
  },
  {
   "cell_type": "code",
   "execution_count": 11,
   "metadata": {},
   "outputs": [
    {
     "data": {
      "text/html": "<div>\n<style scoped>\n    .dataframe tbody tr th:only-of-type {\n        vertical-align: middle;\n    }\n\n    .dataframe tbody tr th {\n        vertical-align: top;\n    }\n\n    .dataframe thead th {\n        text-align: right;\n    }\n</style>\n<table border=\"1\" class=\"dataframe\">\n  <thead>\n    <tr style=\"text-align: right;\">\n      <th></th>\n      <th>SP_GESTOR</th>\n      <th>SP_UF</th>\n      <th>SP_AA</th>\n      <th>SP_MM</th>\n      <th>SP_CNES</th>\n      <th>SP_NAIH</th>\n      <th>SP_PROCREA</th>\n      <th>SP_DTINTER</th>\n      <th>SP_DTSAIDA</th>\n      <th>SP_NUM_PR</th>\n      <th>...</th>\n      <th>SP_PJ_DOC</th>\n      <th>IN_TP_VAL</th>\n      <th>SEQUENCIA</th>\n      <th>REMESSA</th>\n      <th>SERV_CLA</th>\n      <th>SP_CIDPRI</th>\n      <th>SP_CIDSEC</th>\n      <th>SP_QT_PROC</th>\n      <th>SP_U_AIH</th>\n      <th>description</th>\n    </tr>\n    <tr>\n      <th>influence_type</th>\n      <th></th>\n      <th></th>\n      <th></th>\n      <th></th>\n      <th></th>\n      <th></th>\n      <th></th>\n      <th></th>\n      <th></th>\n      <th></th>\n      <th></th>\n      <th></th>\n      <th></th>\n      <th></th>\n      <th></th>\n      <th></th>\n      <th></th>\n      <th></th>\n      <th></th>\n      <th></th>\n      <th></th>\n    </tr>\n  </thead>\n  <tbody>\n    <tr>\n      <th>Morte Materna Direta</th>\n      <td>512394</td>\n      <td>512394</td>\n      <td>512394</td>\n      <td>512394</td>\n      <td>512394</td>\n      <td>512394</td>\n      <td>512394</td>\n      <td>512394</td>\n      <td>512394</td>\n      <td>0</td>\n      <td>...</td>\n      <td>512394</td>\n      <td>512394</td>\n      <td>512394</td>\n      <td>512394</td>\n      <td>512394</td>\n      <td>512394</td>\n      <td>512394</td>\n      <td>512394</td>\n      <td>512394</td>\n      <td>512394</td>\n    </tr>\n    <tr>\n      <th>Morte Materna Indireta</th>\n      <td>21628</td>\n      <td>21628</td>\n      <td>21628</td>\n      <td>21628</td>\n      <td>21628</td>\n      <td>21628</td>\n      <td>21628</td>\n      <td>21628</td>\n      <td>21628</td>\n      <td>0</td>\n      <td>...</td>\n      <td>21628</td>\n      <td>21628</td>\n      <td>21628</td>\n      <td>21628</td>\n      <td>21628</td>\n      <td>21628</td>\n      <td>21628</td>\n      <td>21628</td>\n      <td>21628</td>\n      <td>21628</td>\n    </tr>\n  </tbody>\n</table>\n<p>2 rows × 37 columns</p>\n</div>",
      "text/plain": [
       "                        SP_GESTOR   SP_UF   SP_AA   SP_MM  SP_CNES  SP_NAIH  \\\n",
       "influence_type                                                                \n",
       "Morte Materna Direta       512394  512394  512394  512394   512394   512394   \n",
       "Morte Materna Indireta      21628   21628   21628   21628    21628    21628   \n",
       "\n",
       "                        SP_PROCREA  SP_DTINTER  SP_DTSAIDA  SP_NUM_PR  ...  \\\n",
       "influence_type                                                         ...   \n",
       "Morte Materna Direta        512394      512394      512394          0  ...   \n",
       "Morte Materna Indireta       21628       21628       21628          0  ...   \n",
       "\n",
       "                        SP_PJ_DOC  IN_TP_VAL  SEQUENCIA  REMESSA  SERV_CLA  \\\n",
       "influence_type                                                               \n",
       "Morte Materna Direta       512394     512394     512394   512394    512394   \n",
       "Morte Materna Indireta      21628      21628      21628    21628     21628   \n",
       "\n",
       "                        SP_CIDPRI  SP_CIDSEC  SP_QT_PROC  SP_U_AIH  \\\n",
       "influence_type                                                       \n",
       "Morte Materna Direta       512394     512394      512394    512394   \n",
       "Morte Materna Indireta      21628      21628       21628     21628   \n",
       "\n",
       "                        description  \n",
       "influence_type                       \n",
       "Morte Materna Direta         512394  \n",
       "Morte Materna Indireta        21628  \n",
       "\n",
       "[2 rows x 37 columns]"
      ]
     },
     "execution_count": 11,
     "metadata": {},
     "output_type": "execute_result"
    }
   ],
   "source": [
    "clean_df.groupby('influence_type').count()"
   ]
  },
  {
   "cell_type": "code",
   "execution_count": 12,
   "metadata": {},
   "outputs": [
    {
     "data": {
      "text/plain": [
       "(534022, 38)"
      ]
     },
     "execution_count": 12,
     "metadata": {},
     "output_type": "execute_result"
    }
   ],
   "source": [
    "clean_df.shape"
   ]
  },
  {
   "cell_type": "code",
   "execution_count": 47,
   "metadata": {},
   "outputs": [
    {
     "name": "stderr",
     "output_type": "stream",
     "text": [
      "ipykernel_launcher:1: SettingWithCopyWarning: \n",
      "A value is trying to be set on a copy of a slice from a DataFrame.\n",
      "Try using .loc[row_indexer,col_indexer] = value instead\n",
      "\n",
      "See the caveats in the documentation: https://pandas.pydata.org/pandas-docs/stable/user_guide/indexing.html#returning-a-view-versus-a-copy\n"
     ]
    },
    {
     "data": {
      "text/html": "<div>\n<style scoped>\n    .dataframe tbody tr th:only-of-type {\n        vertical-align: middle;\n    }\n\n    .dataframe tbody tr th {\n        vertical-align: top;\n    }\n\n    .dataframe thead th {\n        text-align: right;\n    }\n</style>\n<table border=\"1\" class=\"dataframe\">\n  <thead>\n    <tr style=\"text-align: right;\">\n      <th></th>\n      <th>SP_ATOPROF</th>\n      <th>SP_CIDPRI</th>\n      <th>influence_type</th>\n      <th>description</th>\n      <th>main_cid</th>\n    </tr>\n  </thead>\n  <tbody>\n    <tr>\n      <th>74</th>\n      <td>409060160</td>\n      <td>O711</td>\n      <td>Morte Materna Direta</td>\n      <td>Ruptura do útero durante o trabalho de parto</td>\n      <td>O71</td>\n    </tr>\n    <tr>\n      <th>75</th>\n      <td>409060160</td>\n      <td>O711</td>\n      <td>Morte Materna Direta</td>\n      <td>Ruptura do útero durante o trabalho de parto</td>\n      <td>O71</td>\n    </tr>\n    <tr>\n      <th>76</th>\n      <td>802010199</td>\n      <td>O711</td>\n      <td>Morte Materna Direta</td>\n      <td>Ruptura do útero durante o trabalho de parto</td>\n      <td>O71</td>\n    </tr>\n    <tr>\n      <th>77</th>\n      <td>301010048</td>\n      <td>O711</td>\n      <td>Morte Materna Direta</td>\n      <td>Ruptura do útero durante o trabalho de parto</td>\n      <td>O71</td>\n    </tr>\n    <tr>\n      <th>78</th>\n      <td>301010048</td>\n      <td>O711</td>\n      <td>Morte Materna Direta</td>\n      <td>Ruptura do útero durante o trabalho de parto</td>\n      <td>O71</td>\n    </tr>\n  </tbody>\n</table>\n</div>",
      "text/plain": [
       "    SP_ATOPROF SP_CIDPRI        influence_type  \\\n",
       "74   409060160      O711  Morte Materna Direta   \n",
       "75   409060160      O711  Morte Materna Direta   \n",
       "76   802010199      O711  Morte Materna Direta   \n",
       "77   301010048      O711  Morte Materna Direta   \n",
       "78   301010048      O711  Morte Materna Direta   \n",
       "\n",
       "                                     description main_cid  \n",
       "74  Ruptura do útero durante o trabalho de parto      O71  \n",
       "75  Ruptura do útero durante o trabalho de parto      O71  \n",
       "76  Ruptura do útero durante o trabalho de parto      O71  \n",
       "77  Ruptura do útero durante o trabalho de parto      O71  \n",
       "78  Ruptura do útero durante o trabalho de parto      O71  "
      ]
     },
     "execution_count": 47,
     "metadata": {},
     "output_type": "execute_result"
    }
   ],
   "source": [
    "clean_df['main_cid'] = clean_df['SP_CIDPRI'].str[:-1]\n",
    "clean_df.head()"
   ]
  },
  {
   "cell_type": "code",
   "execution_count": 48,
   "metadata": {},
   "outputs": [
    {
     "data": {
      "text/html": "<div>\n<style scoped>\n    .dataframe tbody tr th:only-of-type {\n        vertical-align: middle;\n    }\n\n    .dataframe tbody tr th {\n        vertical-align: top;\n    }\n\n    .dataframe thead th {\n        text-align: right;\n    }\n</style>\n<table border=\"1\" class=\"dataframe\">\n  <thead>\n    <tr style=\"text-align: right;\">\n      <th></th>\n      <th>SP_ATOPROF</th>\n      <th>SP_CIDPRI</th>\n      <th>influence_type</th>\n      <th>description</th>\n    </tr>\n    <tr>\n      <th>main_cid</th>\n      <th></th>\n      <th></th>\n      <th></th>\n      <th></th>\n    </tr>\n  </thead>\n  <tbody>\n    <tr>\n      <th>B2</th>\n      <td>1795</td>\n      <td>1795</td>\n      <td>1795</td>\n      <td>1795</td>\n    </tr>\n    <tr>\n      <th>B20</th>\n      <td>1165</td>\n      <td>1165</td>\n      <td>1165</td>\n      <td>1165</td>\n    </tr>\n    <tr>\n      <th>B21</th>\n      <td>117</td>\n      <td>117</td>\n      <td>117</td>\n      <td>117</td>\n    </tr>\n    <tr>\n      <th>B22</th>\n      <td>363</td>\n      <td>363</td>\n      <td>363</td>\n      <td>363</td>\n    </tr>\n    <tr>\n      <th>B23</th>\n      <td>198</td>\n      <td>198</td>\n      <td>198</td>\n      <td>198</td>\n    </tr>\n    <tr>\n      <th>...</th>\n      <td>...</td>\n      <td>...</td>\n      <td>...</td>\n      <td>...</td>\n    </tr>\n    <tr>\n      <th>O90</th>\n      <td>289</td>\n      <td>289</td>\n      <td>289</td>\n      <td>289</td>\n    </tr>\n    <tr>\n      <th>O91</th>\n      <td>99</td>\n      <td>99</td>\n      <td>99</td>\n      <td>99</td>\n    </tr>\n    <tr>\n      <th>O92</th>\n      <td>5</td>\n      <td>5</td>\n      <td>5</td>\n      <td>5</td>\n    </tr>\n    <tr>\n      <th>O98</th>\n      <td>169</td>\n      <td>169</td>\n      <td>169</td>\n      <td>169</td>\n    </tr>\n    <tr>\n      <th>O99</th>\n      <td>2369</td>\n      <td>2369</td>\n      <td>2369</td>\n      <td>2369</td>\n    </tr>\n  </tbody>\n</table>\n<p>68 rows × 4 columns</p>\n</div>",
      "text/plain": [
       "          SP_ATOPROF  SP_CIDPRI  influence_type  description\n",
       "main_cid                                                    \n",
       "B2              1795       1795            1795         1795\n",
       "B20             1165       1165            1165         1165\n",
       "B21              117        117             117          117\n",
       "B22              363        363             363          363\n",
       "B23              198        198             198          198\n",
       "...              ...        ...             ...          ...\n",
       "O90              289        289             289          289\n",
       "O91               99         99              99           99\n",
       "O92                5          5               5            5\n",
       "O98              169        169             169          169\n",
       "O99             2369       2369            2369         2369\n",
       "\n",
       "[68 rows x 4 columns]"
      ]
     },
     "execution_count": 48,
     "metadata": {},
     "output_type": "execute_result"
    }
   ],
   "source": [
    "clean_df.groupby('main_cid').count()"
   ]
  },
  {
   "cell_type": "markdown",
   "metadata": {},
   "source": [
    "### Join with Luis Data"
   ]
  },
  {
   "cell_type": "markdown",
   "metadata": {},
   "source": [
    "#### Read AIH Data"
   ]
  },
  {
   "cell_type": "code",
   "execution_count": 2,
   "metadata": {},
   "outputs": [
    {
     "name": "stderr",
     "output_type": "stream",
     "text": [
      "C:\\Users\\Visagio\\AppData\\Roaming\\Python\\Python39\\site-packages\\IPython\\core\\interactiveshell.py:3165: DtypeWarning: Columns (87,88,98,99,100,101) have mixed types.Specify dtype option on import or set low_memory=False.\n",
      "  has_raised = await self.run_ast_nodes(code_ast.body, cell_name,\n"
     ]
    },
    {
     "data": {
      "text/html": "<div>\n<style scoped>\n    .dataframe tbody tr th:only-of-type {\n        vertical-align: middle;\n    }\n\n    .dataframe tbody tr th {\n        vertical-align: top;\n    }\n\n    .dataframe thead th {\n        text-align: right;\n    }\n</style>\n<table border=\"1\" class=\"dataframe\">\n  <thead>\n    <tr style=\"text-align: right;\">\n      <th></th>\n      <th>UF_ZI</th>\n      <th>ANO_CMPT</th>\n      <th>MES_CMPT</th>\n      <th>ESPEC</th>\n      <th>CGC_HOSP</th>\n      <th>N_AIH</th>\n      <th>IDENT</th>\n      <th>CEP</th>\n      <th>MUNIC_RES</th>\n      <th>NASC</th>\n      <th>...</th>\n      <th>TPDISEC5</th>\n      <th>TPDISEC6</th>\n      <th>TPDISEC7</th>\n      <th>TPDISEC8</th>\n      <th>TPDISEC9</th>\n      <th>ID_LINHA_SUS</th>\n      <th>CAUSAS_PRESUMIVEIS</th>\n      <th>CAUSAS_OBT_MAT</th>\n      <th>PROCEDIMENTOS</th>\n      <th>GRUPO_XV</th>\n    </tr>\n  </thead>\n  <tbody>\n    <tr>\n      <th>0</th>\n      <td>350000</td>\n      <td>2018</td>\n      <td>1</td>\n      <td>7</td>\n      <td>6.074262e+13</td>\n      <td>3518101448609</td>\n      <td>1</td>\n      <td>8270070</td>\n      <td>355030</td>\n      <td>20070313</td>\n      <td>...</td>\n      <td>0</td>\n      <td>0</td>\n      <td>0</td>\n      <td>0</td>\n      <td>0</td>\n      <td>201801000006</td>\n      <td>0</td>\n      <td>0</td>\n      <td>0</td>\n      <td>0</td>\n    </tr>\n    <tr>\n      <th>1</th>\n      <td>350000</td>\n      <td>2018</td>\n      <td>1</td>\n      <td>12</td>\n      <td>6.074262e+13</td>\n      <td>3518101279825</td>\n      <td>1</td>\n      <td>4826090</td>\n      <td>355030</td>\n      <td>19700317</td>\n      <td>...</td>\n      <td>0</td>\n      <td>0</td>\n      <td>0</td>\n      <td>0</td>\n      <td>0</td>\n      <td>201801000009</td>\n      <td>0</td>\n      <td>0</td>\n      <td>0</td>\n      <td>0</td>\n    </tr>\n    <tr>\n      <th>2</th>\n      <td>350000</td>\n      <td>2018</td>\n      <td>1</td>\n      <td>12</td>\n      <td>6.074262e+13</td>\n      <td>3518101457475</td>\n      <td>1</td>\n      <td>8121560</td>\n      <td>355030</td>\n      <td>19920525</td>\n      <td>...</td>\n      <td>0</td>\n      <td>0</td>\n      <td>0</td>\n      <td>0</td>\n      <td>0</td>\n      <td>201801000010</td>\n      <td>0</td>\n      <td>0</td>\n      <td>0</td>\n      <td>0</td>\n    </tr>\n    <tr>\n      <th>3</th>\n      <td>350000</td>\n      <td>2018</td>\n      <td>1</td>\n      <td>12</td>\n      <td>6.074262e+13</td>\n      <td>3518101457662</td>\n      <td>1</td>\n      <td>3823070</td>\n      <td>355030</td>\n      <td>19680812</td>\n      <td>...</td>\n      <td>0</td>\n      <td>0</td>\n      <td>0</td>\n      <td>0</td>\n      <td>0</td>\n      <td>201801000011</td>\n      <td>0</td>\n      <td>0</td>\n      <td>0</td>\n      <td>0</td>\n    </tr>\n    <tr>\n      <th>4</th>\n      <td>350000</td>\n      <td>2018</td>\n      <td>1</td>\n      <td>12</td>\n      <td>6.074262e+13</td>\n      <td>3518101525246</td>\n      <td>1</td>\n      <td>8465280</td>\n      <td>355030</td>\n      <td>20031222</td>\n      <td>...</td>\n      <td>0</td>\n      <td>0</td>\n      <td>0</td>\n      <td>0</td>\n      <td>0</td>\n      <td>201801000012</td>\n      <td>0</td>\n      <td>0</td>\n      <td>0</td>\n      <td>0</td>\n    </tr>\n  </tbody>\n</table>\n<p>5 rows × 118 columns</p>\n</div>",
      "text/plain": "    UF_ZI  ANO_CMPT  MES_CMPT  ESPEC      CGC_HOSP          N_AIH  IDENT  \\\n0  350000      2018         1      7  6.074262e+13  3518101448609      1   \n1  350000      2018         1     12  6.074262e+13  3518101279825      1   \n2  350000      2018         1     12  6.074262e+13  3518101457475      1   \n3  350000      2018         1     12  6.074262e+13  3518101457662      1   \n4  350000      2018         1     12  6.074262e+13  3518101525246      1   \n\n       CEP  MUNIC_RES      NASC  ...  TPDISEC5  TPDISEC6  TPDISEC7  TPDISEC8  \\\n0  8270070     355030  20070313  ...         0         0         0         0   \n1  4826090     355030  19700317  ...         0         0         0         0   \n2  8121560     355030  19920525  ...         0         0         0         0   \n3  3823070     355030  19680812  ...         0         0         0         0   \n4  8465280     355030  20031222  ...         0         0         0         0   \n\n   TPDISEC9  ID_LINHA_SUS  CAUSAS_PRESUMIVEIS  CAUSAS_OBT_MAT  PROCEDIMENTOS  \\\n0         0  201801000006                   0               0              0   \n1         0  201801000009                   0               0              0   \n2         0  201801000010                   0               0              0   \n3         0  201801000011                   0               0              0   \n4         0  201801000012                   0               0              0   \n\n   GRUPO_XV  \n0         0  \n1         0  \n2         0  \n3         0  \n4         0  \n\n[5 rows x 118 columns]"
     },
     "execution_count": 2,
     "metadata": {},
     "output_type": "execute_result"
    }
   ],
   "source": [
    "aih_df = pd.read_csv('../../AIH/sih_sus_m_10_49.csv', sep='|')\r\n",
    "aih_df.head()"
   ]
  },
  {
   "cell_type": "markdown",
   "metadata": {},
   "source": [
    "#### Leitura dos dados SP"
   ]
  },
  {
   "cell_type": "code",
   "execution_count": 3,
   "metadata": {},
   "outputs": [
    {
     "name": "stderr",
     "output_type": "stream",
     "text": [
      "C:\\Users\\Visagio\\AppData\\Roaming\\Python\\Python39\\site-packages\\IPython\\core\\interactiveshell.py:3165: DtypeWarning: Columns (25) have mixed types.Specify dtype option on import or set low_memory=False.\n",
      "  has_raised = await self.run_ast_nodes(code_ast.body, cell_name,\n"
     ]
    },
    {
     "data": {
      "text/html": "<div>\n<style scoped>\n    .dataframe tbody tr th:only-of-type {\n        vertical-align: middle;\n    }\n\n    .dataframe tbody tr th {\n        vertical-align: top;\n    }\n\n    .dataframe thead th {\n        text-align: right;\n    }\n</style>\n<table border=\"1\" class=\"dataframe\">\n  <thead>\n    <tr style=\"text-align: right;\">\n      <th></th>\n      <th>SP_GESTOR</th>\n      <th>SP_UF</th>\n      <th>SP_AA</th>\n      <th>SP_MM</th>\n      <th>SP_CNES</th>\n      <th>SP_NAIH</th>\n      <th>SP_PROCREA</th>\n      <th>SP_DTINTER</th>\n      <th>SP_DTSAIDA</th>\n      <th>SP_NUM_PR</th>\n      <th>...</th>\n      <th>IN_TP_VAL</th>\n      <th>SEQUENCIA</th>\n      <th>REMESSA</th>\n      <th>SERV_CLA</th>\n      <th>SP_CIDPRI</th>\n      <th>SP_CIDSEC</th>\n      <th>SP_QT_PROC</th>\n      <th>SP_U_AIH</th>\n      <th>influence_type</th>\n      <th>description</th>\n    </tr>\n  </thead>\n  <tbody>\n    <tr>\n      <th>0</th>\n      <td>353180</td>\n      <td>35</td>\n      <td>2018</td>\n      <td>1</td>\n      <td>2078341</td>\n      <td>3518113149683</td>\n      <td>411010034</td>\n      <td>20180126</td>\n      <td>20180128</td>\n      <td>NaN</td>\n      <td>...</td>\n      <td>1</td>\n      <td>23</td>\n      <td>HM35318001N201801.DTS</td>\n      <td>0</td>\n      <td>O828</td>\n      <td>0</td>\n      <td>1</td>\n      <td>0</td>\n      <td>Morte Materna Direta</td>\n      <td>Outros tipos de parto único por cesariana</td>\n    </tr>\n    <tr>\n      <th>1</th>\n      <td>353180</td>\n      <td>35</td>\n      <td>2018</td>\n      <td>1</td>\n      <td>2078341</td>\n      <td>3518113149716</td>\n      <td>411010034</td>\n      <td>20180104</td>\n      <td>20180106</td>\n      <td>NaN</td>\n      <td>...</td>\n      <td>1</td>\n      <td>24</td>\n      <td>HM35318001N201801.DTS</td>\n      <td>0</td>\n      <td>O828</td>\n      <td>0</td>\n      <td>1</td>\n      <td>0</td>\n      <td>Morte Materna Direta</td>\n      <td>Outros tipos de parto único por cesariana</td>\n    </tr>\n    <tr>\n      <th>2</th>\n      <td>353180</td>\n      <td>35</td>\n      <td>2018</td>\n      <td>1</td>\n      <td>2078341</td>\n      <td>3518113149738</td>\n      <td>411010034</td>\n      <td>20180113</td>\n      <td>20180116</td>\n      <td>NaN</td>\n      <td>...</td>\n      <td>1</td>\n      <td>26</td>\n      <td>HM35318001N201801.DTS</td>\n      <td>0</td>\n      <td>O828</td>\n      <td>0</td>\n      <td>1</td>\n      <td>0</td>\n      <td>Morte Materna Direta</td>\n      <td>Outros tipos de parto único por cesariana</td>\n    </tr>\n    <tr>\n      <th>3</th>\n      <td>353180</td>\n      <td>35</td>\n      <td>2018</td>\n      <td>1</td>\n      <td>2078341</td>\n      <td>3518113149727</td>\n      <td>310010039</td>\n      <td>20180111</td>\n      <td>20180113</td>\n      <td>NaN</td>\n      <td>...</td>\n      <td>1</td>\n      <td>25</td>\n      <td>HM35318001N201801.DTS</td>\n      <td>0</td>\n      <td>O808</td>\n      <td>0</td>\n      <td>1</td>\n      <td>0</td>\n      <td>Morte Materna Direta</td>\n      <td>Outros tipos de parto único espontâneo</td>\n    </tr>\n    <tr>\n      <th>4</th>\n      <td>353180</td>\n      <td>35</td>\n      <td>2018</td>\n      <td>1</td>\n      <td>2078341</td>\n      <td>3518113149750</td>\n      <td>411010034</td>\n      <td>20180113</td>\n      <td>20180119</td>\n      <td>NaN</td>\n      <td>...</td>\n      <td>1</td>\n      <td>27</td>\n      <td>HM35318001N201801.DTS</td>\n      <td>0</td>\n      <td>O828</td>\n      <td>0</td>\n      <td>1</td>\n      <td>0</td>\n      <td>Morte Materna Direta</td>\n      <td>Outros tipos de parto único por cesariana</td>\n    </tr>\n  </tbody>\n</table>\n<p>5 rows × 38 columns</p>\n</div>",
      "text/plain": "   SP_GESTOR  SP_UF  SP_AA  SP_MM  SP_CNES        SP_NAIH  SP_PROCREA  \\\n0     353180     35   2018      1  2078341  3518113149683   411010034   \n1     353180     35   2018      1  2078341  3518113149716   411010034   \n2     353180     35   2018      1  2078341  3518113149738   411010034   \n3     353180     35   2018      1  2078341  3518113149727   310010039   \n4     353180     35   2018      1  2078341  3518113149750   411010034   \n\n   SP_DTINTER  SP_DTSAIDA  SP_NUM_PR  ...  IN_TP_VAL  SEQUENCIA  \\\n0    20180126    20180128        NaN  ...          1         23   \n1    20180104    20180106        NaN  ...          1         24   \n2    20180113    20180116        NaN  ...          1         26   \n3    20180111    20180113        NaN  ...          1         25   \n4    20180113    20180119        NaN  ...          1         27   \n\n                 REMESSA  SERV_CLA  SP_CIDPRI  SP_CIDSEC  SP_QT_PROC  \\\n0  HM35318001N201801.DTS         0       O828          0           1   \n1  HM35318001N201801.DTS         0       O828          0           1   \n2  HM35318001N201801.DTS         0       O828          0           1   \n3  HM35318001N201801.DTS         0       O808          0           1   \n4  HM35318001N201801.DTS         0       O828          0           1   \n\n   SP_U_AIH        influence_type                                description  \n0         0  Morte Materna Direta  Outros tipos de parto único por cesariana  \n1         0  Morte Materna Direta  Outros tipos de parto único por cesariana  \n2         0  Morte Materna Direta  Outros tipos de parto único por cesariana  \n3         0  Morte Materna Direta     Outros tipos de parto único espontâneo  \n4         0  Morte Materna Direta  Outros tipos de parto único por cesariana  \n\n[5 rows x 38 columns]"
     },
     "execution_count": 3,
     "metadata": {},
     "output_type": "execute_result"
    }
   ],
   "source": [
    "sp_df = pd.read_csv('../results/SPSP1801.csv', sep=';')\r\n",
    "sp_df.head()"
   ]
  },
  {
   "cell_type": "markdown",
   "metadata": {},
   "source": [
    "#### Merge of data"
   ]
  },
  {
   "cell_type": "code",
   "execution_count": 10,
   "metadata": {},
   "outputs": [
    {
     "data": {
      "text/html": "<div>\n<style scoped>\n    .dataframe tbody tr th:only-of-type {\n        vertical-align: middle;\n    }\n\n    .dataframe tbody tr th {\n        vertical-align: top;\n    }\n\n    .dataframe thead th {\n        text-align: right;\n    }\n</style>\n<table border=\"1\" class=\"dataframe\">\n  <thead>\n    <tr style=\"text-align: right;\">\n      <th></th>\n      <th>SP_GESTOR</th>\n      <th>SP_UF</th>\n      <th>SP_AA</th>\n      <th>SP_MM</th>\n      <th>SP_CNES</th>\n      <th>SP_NAIH</th>\n      <th>SP_PROCREA</th>\n      <th>SP_DTINTER</th>\n      <th>SP_DTSAIDA</th>\n      <th>SP_NUM_PR</th>\n      <th>...</th>\n      <th>TPDISEC5</th>\n      <th>TPDISEC6</th>\n      <th>TPDISEC7</th>\n      <th>TPDISEC8</th>\n      <th>TPDISEC9</th>\n      <th>ID_LINHA_SUS</th>\n      <th>CAUSAS_PRESUMIVEIS</th>\n      <th>CAUSAS_OBT_MAT</th>\n      <th>PROCEDIMENTOS</th>\n      <th>GRUPO_XV</th>\n    </tr>\n  </thead>\n  <tbody>\n    <tr>\n      <th>0</th>\n      <td>353180</td>\n      <td>35</td>\n      <td>2018</td>\n      <td>1</td>\n      <td>2078341</td>\n      <td>3518113149683</td>\n      <td>411010034</td>\n      <td>20180126</td>\n      <td>20180128</td>\n      <td>NaN</td>\n      <td>...</td>\n      <td>0.0</td>\n      <td>0.0</td>\n      <td>0.0</td>\n      <td>0.0</td>\n      <td>0.0</td>\n      <td>2.018011e+11</td>\n      <td>0.0</td>\n      <td>1.0</td>\n      <td>1.0</td>\n      <td>1.0</td>\n    </tr>\n    <tr>\n      <th>1</th>\n      <td>353180</td>\n      <td>35</td>\n      <td>2018</td>\n      <td>1</td>\n      <td>2078341</td>\n      <td>3518113149716</td>\n      <td>411010034</td>\n      <td>20180104</td>\n      <td>20180106</td>\n      <td>NaN</td>\n      <td>...</td>\n      <td>0.0</td>\n      <td>0.0</td>\n      <td>0.0</td>\n      <td>0.0</td>\n      <td>0.0</td>\n      <td>2.018011e+11</td>\n      <td>0.0</td>\n      <td>1.0</td>\n      <td>1.0</td>\n      <td>1.0</td>\n    </tr>\n    <tr>\n      <th>2</th>\n      <td>353180</td>\n      <td>35</td>\n      <td>2018</td>\n      <td>1</td>\n      <td>2078341</td>\n      <td>3518113149738</td>\n      <td>411010034</td>\n      <td>20180113</td>\n      <td>20180116</td>\n      <td>NaN</td>\n      <td>...</td>\n      <td>0.0</td>\n      <td>0.0</td>\n      <td>0.0</td>\n      <td>0.0</td>\n      <td>0.0</td>\n      <td>2.018011e+11</td>\n      <td>0.0</td>\n      <td>1.0</td>\n      <td>1.0</td>\n      <td>1.0</td>\n    </tr>\n    <tr>\n      <th>3</th>\n      <td>353180</td>\n      <td>35</td>\n      <td>2018</td>\n      <td>1</td>\n      <td>2078341</td>\n      <td>3518113149727</td>\n      <td>310010039</td>\n      <td>20180111</td>\n      <td>20180113</td>\n      <td>NaN</td>\n      <td>...</td>\n      <td>0.0</td>\n      <td>0.0</td>\n      <td>0.0</td>\n      <td>0.0</td>\n      <td>0.0</td>\n      <td>2.018011e+11</td>\n      <td>0.0</td>\n      <td>1.0</td>\n      <td>1.0</td>\n      <td>1.0</td>\n    </tr>\n    <tr>\n      <th>4</th>\n      <td>353180</td>\n      <td>35</td>\n      <td>2018</td>\n      <td>1</td>\n      <td>2078341</td>\n      <td>3518113149750</td>\n      <td>411010034</td>\n      <td>20180113</td>\n      <td>20180119</td>\n      <td>NaN</td>\n      <td>...</td>\n      <td>0.0</td>\n      <td>0.0</td>\n      <td>0.0</td>\n      <td>0.0</td>\n      <td>0.0</td>\n      <td>2.018011e+11</td>\n      <td>0.0</td>\n      <td>1.0</td>\n      <td>1.0</td>\n      <td>1.0</td>\n    </tr>\n  </tbody>\n</table>\n<p>5 rows × 156 columns</p>\n</div>",
      "text/plain": "   SP_GESTOR  SP_UF  SP_AA  SP_MM  SP_CNES        SP_NAIH  SP_PROCREA  \\\n0     353180     35   2018      1  2078341  3518113149683   411010034   \n1     353180     35   2018      1  2078341  3518113149716   411010034   \n2     353180     35   2018      1  2078341  3518113149738   411010034   \n3     353180     35   2018      1  2078341  3518113149727   310010039   \n4     353180     35   2018      1  2078341  3518113149750   411010034   \n\n   SP_DTINTER  SP_DTSAIDA  SP_NUM_PR  ...  TPDISEC5  TPDISEC6  TPDISEC7  \\\n0    20180126    20180128        NaN  ...       0.0       0.0       0.0   \n1    20180104    20180106        NaN  ...       0.0       0.0       0.0   \n2    20180113    20180116        NaN  ...       0.0       0.0       0.0   \n3    20180111    20180113        NaN  ...       0.0       0.0       0.0   \n4    20180113    20180119        NaN  ...       0.0       0.0       0.0   \n\n   TPDISEC8  TPDISEC9  ID_LINHA_SUS  CAUSAS_PRESUMIVEIS  CAUSAS_OBT_MAT  \\\n0       0.0       0.0  2.018011e+11                 0.0             1.0   \n1       0.0       0.0  2.018011e+11                 0.0             1.0   \n2       0.0       0.0  2.018011e+11                 0.0             1.0   \n3       0.0       0.0  2.018011e+11                 0.0             1.0   \n4       0.0       0.0  2.018011e+11                 0.0             1.0   \n\n   PROCEDIMENTOS  GRUPO_XV  \n0            1.0       1.0  \n1            1.0       1.0  \n2            1.0       1.0  \n3            1.0       1.0  \n4            1.0       1.0  \n\n[5 rows x 156 columns]"
     },
     "execution_count": 10,
     "metadata": {},
     "output_type": "execute_result"
    }
   ],
   "source": [
    "merged_dfs = sp_df.merge(aih_df, left_on='SP_NAIH', right_on='N_AIH', how='left')\r\n",
    "merged_dfs.head()"
   ]
  },
  {
   "cell_type": "code",
   "execution_count": 8,
   "metadata": {},
   "outputs": [
    {
     "data": {
      "text/plain": "(534547, 156)"
     },
     "execution_count": 8,
     "metadata": {},
     "output_type": "execute_result"
    }
   ],
   "source": [
    "merged_dfs.shape"
   ]
  },
  {
   "cell_type": "code",
   "execution_count": 7,
   "metadata": {},
   "outputs": [
    {
     "data": {
      "text/plain": "6186"
     },
     "execution_count": 7,
     "metadata": {},
     "output_type": "execute_result"
    }
   ],
   "source": [
    "merged_dfs.UF_ZI.isna().sum()"
   ]
  },
  {
   "cell_type": "code",
   "execution_count": 8,
   "metadata": {},
   "outputs": [],
   "source": [
    "clean_df = merged_dfs[merged_dfs['UF_ZI'].notna()]"
   ]
  },
  {
   "cell_type": "markdown",
   "metadata": {},
   "source": [
    "#### Save the result"
   ]
  },
  {
   "cell_type": "code",
   "execution_count": 9,
   "metadata": {},
   "outputs": [],
   "source": [
    "clean_df.to_csv('../merged_results/SPSP1801.csv', index=False)"
   ]
  },
  {
   "cell_type": "markdown",
   "metadata": {},
   "source": [
    "### Concatenate CSVs"
   ]
  },
  {
   "cell_type": "code",
   "execution_count": 19,
   "metadata": {},
   "outputs": [],
   "source": [
    "files = os.listdir('../merged_results')\r\n",
    "\r\n",
    "first_filename = files.pop(0)"
   ]
  },
  {
   "cell_type": "code",
   "execution_count": 20,
   "metadata": {},
   "outputs": [
    {
     "data": {
      "text/html": "<div>\n<style scoped>\n    .dataframe tbody tr th:only-of-type {\n        vertical-align: middle;\n    }\n\n    .dataframe tbody tr th {\n        vertical-align: top;\n    }\n\n    .dataframe thead th {\n        text-align: right;\n    }\n</style>\n<table border=\"1\" class=\"dataframe\">\n  <thead>\n    <tr style=\"text-align: right;\">\n      <th></th>\n      <th>UF_ZI</th>\n      <th>ANO_CMPT</th>\n      <th>MES_CMPT</th>\n      <th>N_AIH</th>\n      <th>IDENT</th>\n      <th>CEP</th>\n      <th>MUNIC_RES</th>\n      <th>UTI_MES_TO</th>\n      <th>PROC_SOLIC</th>\n      <th>PROC_REA</th>\n      <th>...</th>\n      <th>CID_MORTE</th>\n      <th>ETNIA</th>\n      <th>SP_AA</th>\n      <th>SP_MM</th>\n      <th>SP_NAIH</th>\n      <th>SP_DTINTER</th>\n      <th>SP_DTSAIDA</th>\n      <th>SP_CIDPRI</th>\n      <th>SP_CIDSEC</th>\n      <th>SP_U_AIH</th>\n    </tr>\n  </thead>\n  <tbody>\n    <tr>\n      <th>0</th>\n      <td>350610.0</td>\n      <td>2018.0</td>\n      <td>1.0</td>\n      <td>3.518113e+12</td>\n      <td>1.0</td>\n      <td>14701000.0</td>\n      <td>350610.0</td>\n      <td>0.0</td>\n      <td>411010034.0</td>\n      <td>411010034.0</td>\n      <td>...</td>\n      <td>0.0</td>\n      <td>0.0</td>\n      <td>2018</td>\n      <td>1</td>\n      <td>3518113114736</td>\n      <td>20180110</td>\n      <td>20180111</td>\n      <td>O321</td>\n      <td>0</td>\n      <td>1</td>\n    </tr>\n    <tr>\n      <th>1</th>\n      <td>350000.0</td>\n      <td>2018.0</td>\n      <td>1.0</td>\n      <td>3.518101e+12</td>\n      <td>1.0</td>\n      <td>7807430.0</td>\n      <td>351640.0</td>\n      <td>0.0</td>\n      <td>303100044.0</td>\n      <td>303100044.0</td>\n      <td>...</td>\n      <td>0.0</td>\n      <td>0.0</td>\n      <td>2018</td>\n      <td>1</td>\n      <td>3518100947746</td>\n      <td>20180116</td>\n      <td>20180117</td>\n      <td>O210</td>\n      <td>0</td>\n      <td>0</td>\n    </tr>\n    <tr>\n      <th>2</th>\n      <td>354340.0</td>\n      <td>2018.0</td>\n      <td>1.0</td>\n      <td>3.518103e+12</td>\n      <td>1.0</td>\n      <td>14062100.0</td>\n      <td>354340.0</td>\n      <td>0.0</td>\n      <td>310010039.0</td>\n      <td>310010039.0</td>\n      <td>...</td>\n      <td>0.0</td>\n      <td>0.0</td>\n      <td>2018</td>\n      <td>1</td>\n      <td>3518102709308</td>\n      <td>20180114</td>\n      <td>20180116</td>\n      <td>O800</td>\n      <td>0</td>\n      <td>1</td>\n    </tr>\n    <tr>\n      <th>3</th>\n      <td>355030.0</td>\n      <td>2018.0</td>\n      <td>1.0</td>\n      <td>3.518109e+12</td>\n      <td>1.0</td>\n      <td>5874020.0</td>\n      <td>355030.0</td>\n      <td>0.0</td>\n      <td>310010039.0</td>\n      <td>310010039.0</td>\n      <td>...</td>\n      <td>0.0</td>\n      <td>0.0</td>\n      <td>2018</td>\n      <td>1</td>\n      <td>3518109178584</td>\n      <td>20180104</td>\n      <td>20180106</td>\n      <td>O800</td>\n      <td>0</td>\n      <td>1</td>\n    </tr>\n    <tr>\n      <th>4</th>\n      <td>350000.0</td>\n      <td>2018.0</td>\n      <td>1.0</td>\n      <td>3.517128e+12</td>\n      <td>1.0</td>\n      <td>8342140.0</td>\n      <td>355030.0</td>\n      <td>0.0</td>\n      <td>411020013.0</td>\n      <td>411020013.0</td>\n      <td>...</td>\n      <td>0.0</td>\n      <td>0.0</td>\n      <td>2018</td>\n      <td>1</td>\n      <td>3517128105887</td>\n      <td>20171231</td>\n      <td>20180101</td>\n      <td>O034</td>\n      <td>0</td>\n      <td>0</td>\n    </tr>\n  </tbody>\n</table>\n<p>5 rows × 27 columns</p>\n</div>",
      "text/plain": "      UF_ZI  ANO_CMPT  MES_CMPT         N_AIH  IDENT         CEP  MUNIC_RES  \\\n0  350610.0    2018.0       1.0  3.518113e+12    1.0  14701000.0   350610.0   \n1  350000.0    2018.0       1.0  3.518101e+12    1.0   7807430.0   351640.0   \n2  354340.0    2018.0       1.0  3.518103e+12    1.0  14062100.0   354340.0   \n3  355030.0    2018.0       1.0  3.518109e+12    1.0   5874020.0   355030.0   \n4  350000.0    2018.0       1.0  3.517128e+12    1.0   8342140.0   355030.0   \n\n   UTI_MES_TO   PROC_SOLIC     PROC_REA  ...  CID_MORTE  ETNIA  SP_AA  SP_MM  \\\n0         0.0  411010034.0  411010034.0  ...        0.0    0.0   2018      1   \n1         0.0  303100044.0  303100044.0  ...        0.0    0.0   2018      1   \n2         0.0  310010039.0  310010039.0  ...        0.0    0.0   2018      1   \n3         0.0  310010039.0  310010039.0  ...        0.0    0.0   2018      1   \n4         0.0  411020013.0  411020013.0  ...        0.0    0.0   2018      1   \n\n         SP_NAIH  SP_DTINTER  SP_DTSAIDA  SP_CIDPRI  SP_CIDSEC  SP_U_AIH  \n0  3518113114736    20180110    20180111       O321          0         1  \n1  3518100947746    20180116    20180117       O210          0         0  \n2  3518102709308    20180114    20180116       O800          0         1  \n3  3518109178584    20180104    20180106       O800          0         1  \n4  3517128105887    20171231    20180101       O034          0         0  \n\n[5 rows x 27 columns]"
     },
     "execution_count": 20,
     "metadata": {},
     "output_type": "execute_result"
    }
   ],
   "source": [
    "main_df = pd.read_csv('../merged_results/' + first_filename, sep=';')\r\n",
    "main_df.head()"
   ]
  },
  {
   "cell_type": "code",
   "execution_count": 22,
   "metadata": {},
   "outputs": [],
   "source": [
    "for filename in files:\r\n",
    "    \r\n",
    "    append_df = pd.read_csv('../merged_results/' + filename, sep=';')\r\n",
    "\r\n",
    "    main_df = pd.concat([main_df, append_df])"
   ]
  },
  {
   "cell_type": "code",
   "execution_count": null,
   "metadata": {},
   "outputs": [],
   "source": [
    "main_df.to_csv('main_db.csv', sep=';', index=False)"
   ]
  }
 ],
 "metadata": {
  "kernelspec": {
   "name": "python394jvsc74a57bd0767d51c1340bd893661ea55ea3124f6de3c7a262a8b4abca0554b478b1e2ff90",
   "display_name": "Python 3.9.4 64-bit"
  },
  "language_info": {
   "codemirror_mode": {
    "name": "ipython",
    "version": 3
   },
   "file_extension": ".py",
   "mimetype": "text/x-python",
   "name": "python",
   "nbconvert_exporter": "python",
   "pygments_lexer": "ipython3",
   "version": "3.9.4"
  },
  "metadata": {
   "interpreter": {
    "hash": "767d51c1340bd893661ea55ea3124f6de3c7a262a8b4abca0554b478b1e2ff90"
   }
  },
  "orig_nbformat": 3
 },
 "nbformat": 4,
 "nbformat_minor": 2
}