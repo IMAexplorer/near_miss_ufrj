{
 "cells": [
  {
   "cell_type": "markdown",
   "metadata": {},
   "source": [
    "### Imports"
   ]
  },
  {
   "cell_type": "code",
   "execution_count": 4,
   "metadata": {},
   "outputs": [],
   "source": [
    "import numpy as np\n",
    "import pandas as pd"
   ]
  },
  {
   "cell_type": "markdown",
   "metadata": {},
   "source": [
    "### Read Data Sets"
   ]
  },
  {
   "cell_type": "code",
   "execution_count": 5,
   "metadata": {},
   "outputs": [],
   "source": [
    "types = {'SP_NAIH': str, 'SP_ATOPROF': str, 'SP_CIDPRI': str, 'SP_QTD_ATO': np.int32}"
   ]
  },
  {
   "cell_type": "markdown",
   "metadata": {},
   "source": [
    "#### CIDS"
   ]
  },
  {
   "cell_type": "code",
   "execution_count": 6,
   "metadata": {},
   "outputs": [
    {
     "output_type": "execute_result",
     "data": {
      "text/plain": [
       "         influence_type  code                           description\n",
       "0  Morte Materna Direta  O000                    Gravidez abdominal\n",
       "1  Morte Materna Direta  O001                      Gravidez tubária\n",
       "2  Morte Materna Direta  O002                     Gravidez ovariana\n",
       "3  Morte Materna Direta  O008    Outras formas de gravidez ectópica\n",
       "4  Morte Materna Direta  O009  Gravidez ectópica, não especificada "
      ],
      "text/html": "<div>\n<style scoped>\n    .dataframe tbody tr th:only-of-type {\n        vertical-align: middle;\n    }\n\n    .dataframe tbody tr th {\n        vertical-align: top;\n    }\n\n    .dataframe thead th {\n        text-align: right;\n    }\n</style>\n<table border=\"1\" class=\"dataframe\">\n  <thead>\n    <tr style=\"text-align: right;\">\n      <th></th>\n      <th>influence_type</th>\n      <th>code</th>\n      <th>description</th>\n    </tr>\n  </thead>\n  <tbody>\n    <tr>\n      <th>0</th>\n      <td>Morte Materna Direta</td>\n      <td>O000</td>\n      <td>Gravidez abdominal</td>\n    </tr>\n    <tr>\n      <th>1</th>\n      <td>Morte Materna Direta</td>\n      <td>O001</td>\n      <td>Gravidez tubária</td>\n    </tr>\n    <tr>\n      <th>2</th>\n      <td>Morte Materna Direta</td>\n      <td>O002</td>\n      <td>Gravidez ovariana</td>\n    </tr>\n    <tr>\n      <th>3</th>\n      <td>Morte Materna Direta</td>\n      <td>O008</td>\n      <td>Outras formas de gravidez ectópica</td>\n    </tr>\n    <tr>\n      <th>4</th>\n      <td>Morte Materna Direta</td>\n      <td>O009</td>\n      <td>Gravidez ectópica, não especificada</td>\n    </tr>\n  </tbody>\n</table>\n</div>"
     },
     "metadata": {},
     "execution_count": 6
    }
   ],
   "source": [
    "o_cids = pd.read_csv('../csv/o_cids.csv', sep=';')\n",
    "o_cids.head()"
   ]
  },
  {
   "cell_type": "markdown",
   "metadata": {},
   "source": [
    "#### Procedures"
   ]
  },
  {
   "cell_type": "code",
   "execution_count": 7,
   "metadata": {},
   "outputs": [
    {
     "output_type": "execute_result",
     "data": {
      "text/plain": [
       "        CODE                                        DESCRIPTION\n",
       "0  205020143                        Ultrassonografia obstétrica\n",
       "1  205020186                      Ultrassonografia transvaginal\n",
       "2  205010059       Ultrassonografia doppler de fluxo obstétrico\n",
       "3  205020151  Ultrassonografia obstétrica com doppler colori...\n",
       "4  201010011                                       Amniocentese"
      ],
      "text/html": "<div>\n<style scoped>\n    .dataframe tbody tr th:only-of-type {\n        vertical-align: middle;\n    }\n\n    .dataframe tbody tr th {\n        vertical-align: top;\n    }\n\n    .dataframe thead th {\n        text-align: right;\n    }\n</style>\n<table border=\"1\" class=\"dataframe\">\n  <thead>\n    <tr style=\"text-align: right;\">\n      <th></th>\n      <th>CODE</th>\n      <th>DESCRIPTION</th>\n    </tr>\n  </thead>\n  <tbody>\n    <tr>\n      <th>0</th>\n      <td>205020143</td>\n      <td>Ultrassonografia obstétrica</td>\n    </tr>\n    <tr>\n      <th>1</th>\n      <td>205020186</td>\n      <td>Ultrassonografia transvaginal</td>\n    </tr>\n    <tr>\n      <th>2</th>\n      <td>205010059</td>\n      <td>Ultrassonografia doppler de fluxo obstétrico</td>\n    </tr>\n    <tr>\n      <th>3</th>\n      <td>205020151</td>\n      <td>Ultrassonografia obstétrica com doppler colori...</td>\n    </tr>\n    <tr>\n      <th>4</th>\n      <td>201010011</td>\n      <td>Amniocentese</td>\n    </tr>\n  </tbody>\n</table>\n</div>"
     },
     "metadata": {},
     "execution_count": 7
    }
   ],
   "source": [
    "procedures = pd.read_csv('../data/procedimentos_obstetricia.csv', sep=';')\n",
    "procedures.head()"
   ]
  },
  {
   "cell_type": "markdown",
   "metadata": {},
   "source": [
    "#### March"
   ]
  },
  {
   "cell_type": "code",
   "execution_count": 8,
   "metadata": {},
   "outputs": [
    {
     "output_type": "execute_result",
     "data": {
      "text/plain": [
       "         SP_NAIH SP_ATOPROF  SP_QTD_ATO SP_CIDPRI\n",
       "0  3518100401101  303010061           1       A09\n",
       "1  3518100401101  301010170           8       A09\n",
       "2  3518100401101  301010170           1       A09\n",
       "3  3518100401101  301010170           1       A09\n",
       "4  3518100401101  802010040           1       A09"
      ],
      "text/html": "<div>\n<style scoped>\n    .dataframe tbody tr th:only-of-type {\n        vertical-align: middle;\n    }\n\n    .dataframe tbody tr th {\n        vertical-align: top;\n    }\n\n    .dataframe thead th {\n        text-align: right;\n    }\n</style>\n<table border=\"1\" class=\"dataframe\">\n  <thead>\n    <tr style=\"text-align: right;\">\n      <th></th>\n      <th>SP_NAIH</th>\n      <th>SP_ATOPROF</th>\n      <th>SP_QTD_ATO</th>\n      <th>SP_CIDPRI</th>\n    </tr>\n  </thead>\n  <tbody>\n    <tr>\n      <th>0</th>\n      <td>3518100401101</td>\n      <td>303010061</td>\n      <td>1</td>\n      <td>A09</td>\n    </tr>\n    <tr>\n      <th>1</th>\n      <td>3518100401101</td>\n      <td>301010170</td>\n      <td>8</td>\n      <td>A09</td>\n    </tr>\n    <tr>\n      <th>2</th>\n      <td>3518100401101</td>\n      <td>301010170</td>\n      <td>1</td>\n      <td>A09</td>\n    </tr>\n    <tr>\n      <th>3</th>\n      <td>3518100401101</td>\n      <td>301010170</td>\n      <td>1</td>\n      <td>A09</td>\n    </tr>\n    <tr>\n      <th>4</th>\n      <td>3518100401101</td>\n      <td>802010040</td>\n      <td>1</td>\n      <td>A09</td>\n    </tr>\n  </tbody>\n</table>\n</div>"
     },
     "metadata": {},
     "execution_count": 8
    }
   ],
   "source": [
    "df_sp_mar = pd.read_csv('../../sp_csv/SPSP1803.csv', sep=',', usecols=types.keys(), dtype=types)\n",
    "df_sp_mar[\"SP_ATOPROF\"] = df_sp_mar[\"SP_ATOPROF\"].str[1:]\n",
    "df_sp_mar.head()"
   ]
  },
  {
   "cell_type": "code",
   "execution_count": 9,
   "metadata": {},
   "outputs": [
    {
     "output_type": "execute_result",
     "data": {
      "text/plain": [
       "(3081817, 4)"
      ]
     },
     "metadata": {},
     "execution_count": 9
    }
   ],
   "source": [
    "df_sp_mar.shape"
   ]
  },
  {
   "cell_type": "markdown",
   "metadata": {},
   "source": [
    "##### Filter CID "
   ]
  },
  {
   "cell_type": "code",
   "execution_count": 10,
   "metadata": {},
   "outputs": [],
   "source": [
    "df_sp_mar_cids = df_sp_mar.merge(o_cids, left_on='SP_CIDPRI', right_on='code', how='left').drop('code', axis=1)\n",
    "\n",
    "df_sp_mar_cids = df_sp_mar_cids[df_sp_mar_cids['influence_type'].notna()]"
   ]
  },
  {
   "cell_type": "code",
   "execution_count": 11,
   "metadata": {},
   "outputs": [
    {
     "output_type": "execute_result",
     "data": {
      "text/plain": [
       "(568700, 6)"
      ]
     },
     "metadata": {},
     "execution_count": 11
    }
   ],
   "source": [
    "df_sp_mar_cids.shape"
   ]
  },
  {
   "cell_type": "markdown",
   "metadata": {},
   "source": [
    "##### Filter Procedures"
   ]
  },
  {
   "cell_type": "code",
   "execution_count": 12,
   "metadata": {},
   "outputs": [],
   "source": [
    "df_sp_mar_proc = df_sp_mar.merge(procedures, left_on='SP_ATOPROF', right_on='CODE', how='left').drop('CODE', axis=1)\n",
    "df_sp_mar_proc = df_sp_mar_proc[df_sp_mar_proc['DESCRIPTION'].notna()]"
   ]
  },
  {
   "cell_type": "code",
   "execution_count": 13,
   "metadata": {},
   "outputs": [
    {
     "output_type": "execute_result",
     "data": {
      "text/plain": [
       "(169809, 5)"
      ]
     },
     "metadata": {},
     "execution_count": 13
    }
   ],
   "source": [
    "df_sp_mar_proc.shape"
   ]
  },
  {
   "cell_type": "markdown",
   "metadata": {},
   "source": [
    "#### April"
   ]
  },
  {
   "cell_type": "code",
   "execution_count": 14,
   "metadata": {},
   "outputs": [
    {
     "output_type": "execute_result",
     "data": {
      "text/plain": [
       "(3088703, 4)"
      ]
     },
     "metadata": {},
     "execution_count": 14
    }
   ],
   "source": [
    "df_sp_apr = pd.read_csv('../../sp_csv/SPSP1804.csv', sep=',', usecols=types.keys(), dtype=types)\n",
    "df_sp_apr[\"SP_ATOPROF\"] = df_sp_apr[\"SP_ATOPROF\"].str[1:]\n",
    "df_sp_apr.shape"
   ]
  },
  {
   "cell_type": "markdown",
   "metadata": {},
   "source": [
    "##### Filter CIDS"
   ]
  },
  {
   "cell_type": "code",
   "execution_count": 15,
   "metadata": {},
   "outputs": [],
   "source": [
    "df_sp_apr_cids = df_sp_apr.merge(o_cids, left_on='SP_CIDPRI', right_on='code', how='left').drop('code', axis=1)\n",
    "df_sp_apr_cids = df_sp_apr_cids[df_sp_apr_cids['influence_type'].notna()]"
   ]
  },
  {
   "cell_type": "code",
   "execution_count": 16,
   "metadata": {},
   "outputs": [
    {
     "output_type": "execute_result",
     "data": {
      "text/plain": [
       "(565244, 6)"
      ]
     },
     "metadata": {},
     "execution_count": 16
    }
   ],
   "source": [
    "df_sp_apr_cids.shape"
   ]
  },
  {
   "cell_type": "code",
   "execution_count": 17,
   "metadata": {},
   "outputs": [
    {
     "output_type": "execute_result",
     "data": {
      "text/plain": [
       "(565244, 6)"
      ]
     },
     "metadata": {},
     "execution_count": 17
    }
   ],
   "source": [
    "df_sp_apr_cids.shape"
   ]
  },
  {
   "cell_type": "markdown",
   "metadata": {},
   "source": [
    "##### Filter Procedures"
   ]
  },
  {
   "cell_type": "code",
   "execution_count": 18,
   "metadata": {},
   "outputs": [],
   "source": [
    "df_sp_apr_proc = df_sp_apr.merge(procedures, left_on='SP_ATOPROF', right_on='CODE', how='left').drop('CODE', axis=1)\n",
    "df_sp_apr_proc = df_sp_apr_proc[df_sp_apr_proc['DESCRIPTION'].notna()]"
   ]
  },
  {
   "cell_type": "code",
   "execution_count": 19,
   "metadata": {},
   "outputs": [
    {
     "output_type": "execute_result",
     "data": {
      "text/plain": [
       "(167604, 5)"
      ]
     },
     "metadata": {},
     "execution_count": 19
    }
   ],
   "source": [
    "df_sp_apr_proc.shape"
   ]
  },
  {
   "cell_type": "markdown",
   "metadata": {},
   "source": [
    "#### RD"
   ]
  },
  {
   "cell_type": "code",
   "execution_count": 20,
   "metadata": {},
   "outputs": [],
   "source": [
    "aih_types = {'N_AIH': str, 'SEXO': np.int32, 'IDADE': np.int32,'INSTRU':np.int32,}"
   ]
  },
  {
   "cell_type": "code",
   "execution_count": 22,
   "metadata": {},
   "outputs": [
    {
     "output_type": "execute_result",
     "data": {
      "text/plain": [
       "           N_AIH  SEXO  IDADE  INSTRU\n",
       "0  3518101448609     3     10       0\n",
       "1  3518101279825     3     47       0\n",
       "2  3518101457475     3     25       0\n",
       "3  3518101457662     3     49       0\n",
       "4  3518101525246     3     14       0"
      ],
      "text/html": "<div>\n<style scoped>\n    .dataframe tbody tr th:only-of-type {\n        vertical-align: middle;\n    }\n\n    .dataframe tbody tr th {\n        vertical-align: top;\n    }\n\n    .dataframe thead th {\n        text-align: right;\n    }\n</style>\n<table border=\"1\" class=\"dataframe\">\n  <thead>\n    <tr style=\"text-align: right;\">\n      <th></th>\n      <th>N_AIH</th>\n      <th>SEXO</th>\n      <th>IDADE</th>\n      <th>INSTRU</th>\n    </tr>\n  </thead>\n  <tbody>\n    <tr>\n      <th>0</th>\n      <td>3518101448609</td>\n      <td>3</td>\n      <td>10</td>\n      <td>0</td>\n    </tr>\n    <tr>\n      <th>1</th>\n      <td>3518101279825</td>\n      <td>3</td>\n      <td>47</td>\n      <td>0</td>\n    </tr>\n    <tr>\n      <th>2</th>\n      <td>3518101457475</td>\n      <td>3</td>\n      <td>25</td>\n      <td>0</td>\n    </tr>\n    <tr>\n      <th>3</th>\n      <td>3518101457662</td>\n      <td>3</td>\n      <td>49</td>\n      <td>0</td>\n    </tr>\n    <tr>\n      <th>4</th>\n      <td>3518101525246</td>\n      <td>3</td>\n      <td>14</td>\n      <td>0</td>\n    </tr>\n  </tbody>\n</table>\n</div>"
     },
     "metadata": {},
     "execution_count": 22
    }
   ],
   "source": [
    "df_rd = pd.read_csv('/home/gxfs/Desktop/_ufrj/ic_saude/analise-aih-rd-sp/sih_sus_m_10_49.csv', sep='|', usecols=aih_types.keys(), dtype=aih_types)\n",
    "df_rd.head()"
   ]
  },
  {
   "cell_type": "markdown",
   "metadata": {},
   "source": [
    "### Concatenate March and April"
   ]
  },
  {
   "cell_type": "code",
   "execution_count": 23,
   "metadata": {},
   "outputs": [
    {
     "output_type": "execute_result",
     "data": {
      "text/plain": [
       "(1471357, 7)"
      ]
     },
     "metadata": {},
     "execution_count": 23
    }
   ],
   "source": [
    "# como as tabelas resultantes do filtro de procedimentos não retornaram valores, vamos concatenar apenas as de cid\n",
    "df_concat_sp_mar_apr = pd.concat([df_sp_mar_cids, df_sp_mar_proc, df_sp_apr_cids, df_sp_apr_proc])\n",
    "df_concat_sp_mar_apr.shape"
   ]
  },
  {
   "cell_type": "code",
   "execution_count": 24,
   "metadata": {},
   "outputs": [],
   "source": [
    "df_concat_sp_mar_apr.drop_duplicates(inplace=True)"
   ]
  },
  {
   "cell_type": "code",
   "execution_count": 25,
   "metadata": {},
   "outputs": [
    {
     "output_type": "execute_result",
     "data": {
      "text/plain": [
       "1133944"
      ]
     },
     "metadata": {},
     "execution_count": 25
    }
   ],
   "source": [
    "df_sp_mar_cids.shape[0] + df_sp_apr_cids.shape[0]"
   ]
  },
  {
   "cell_type": "code",
   "execution_count": 26,
   "metadata": {},
   "outputs": [],
   "source": [
    "del df_sp_mar\n",
    "del df_sp_apr"
   ]
  },
  {
   "cell_type": "markdown",
   "metadata": {},
   "source": [
    "### Left Merge between SP and RD datasets"
   ]
  },
  {
   "cell_type": "code",
   "execution_count": 27,
   "metadata": {},
   "outputs": [],
   "source": [
    "# merged_dfs = sp_df.merge(o_cids, left_on='SP_CIDPRI', right_on='code', how='left').drop('code', axis=1)\n",
    "merged_sp_rd = df_concat_sp_mar_apr.merge(df_rd, left_on='SP_NAIH', right_on='N_AIH', how='left').drop('N_AIH', axis=1)"
   ]
  },
  {
   "cell_type": "code",
   "execution_count": 28,
   "metadata": {},
   "outputs": [
    {
     "output_type": "execute_result",
     "data": {
      "text/plain": [
       "(1204467, 10)"
      ]
     },
     "metadata": {},
     "execution_count": 28
    }
   ],
   "source": [
    "merged_sp_rd.shape"
   ]
  },
  {
   "cell_type": "code",
   "execution_count": 29,
   "metadata": {},
   "outputs": [
    {
     "output_type": "execute_result",
     "data": {
      "text/plain": [
       "(1190649, 10)"
      ]
     },
     "metadata": {},
     "execution_count": 29
    }
   ],
   "source": [
    "merged_sp_rd = merged_sp_rd[merged_sp_rd['SEXO'].notna()]\n",
    "merged_sp_rd.shape"
   ]
  },
  {
   "cell_type": "code",
   "execution_count": 30,
   "metadata": {},
   "outputs": [
    {
     "output_type": "execute_result",
     "data": {
      "text/plain": [
       "           N_AIH  SEXO  IDADE  INSTRU\n",
       "0  3518101448609     3     10       0\n",
       "1  3518101279825     3     47       0\n",
       "2  3518101457475     3     25       0\n",
       "3  3518101457662     3     49       0\n",
       "4  3518101525246     3     14       0"
      ],
      "text/html": "<div>\n<style scoped>\n    .dataframe tbody tr th:only-of-type {\n        vertical-align: middle;\n    }\n\n    .dataframe tbody tr th {\n        vertical-align: top;\n    }\n\n    .dataframe thead th {\n        text-align: right;\n    }\n</style>\n<table border=\"1\" class=\"dataframe\">\n  <thead>\n    <tr style=\"text-align: right;\">\n      <th></th>\n      <th>N_AIH</th>\n      <th>SEXO</th>\n      <th>IDADE</th>\n      <th>INSTRU</th>\n    </tr>\n  </thead>\n  <tbody>\n    <tr>\n      <th>0</th>\n      <td>3518101448609</td>\n      <td>3</td>\n      <td>10</td>\n      <td>0</td>\n    </tr>\n    <tr>\n      <th>1</th>\n      <td>3518101279825</td>\n      <td>3</td>\n      <td>47</td>\n      <td>0</td>\n    </tr>\n    <tr>\n      <th>2</th>\n      <td>3518101457475</td>\n      <td>3</td>\n      <td>25</td>\n      <td>0</td>\n    </tr>\n    <tr>\n      <th>3</th>\n      <td>3518101457662</td>\n      <td>3</td>\n      <td>49</td>\n      <td>0</td>\n    </tr>\n    <tr>\n      <th>4</th>\n      <td>3518101525246</td>\n      <td>3</td>\n      <td>14</td>\n      <td>0</td>\n    </tr>\n  </tbody>\n</table>\n</div>"
     },
     "metadata": {},
     "execution_count": 30
    }
   ],
   "source": [
    "df_rd.head()"
   ]
  },
  {
   "cell_type": "markdown",
   "metadata": {},
   "source": [
    "### Group by AIH Number"
   ]
  },
  {
   "cell_type": "code",
   "execution_count": 31,
   "metadata": {},
   "outputs": [
    {
     "output_type": "execute_result",
     "data": {
      "text/plain": [
       "SP_NAIH\n",
       "3517103370550     7\n",
       "3517105344490    17\n",
       "3517105347096    16\n",
       "3517105347349    24\n",
       "3517105348724    26\n",
       "                 ..\n",
       "3518500587437     1\n",
       "3518500617148     1\n",
       "3518500639269     1\n",
       "3518500649830     1\n",
       "3518502074208     2\n",
       "Name: SP_ATOPROF, Length: 85131, dtype: int64"
      ]
     },
     "metadata": {},
     "execution_count": 31
    }
   ],
   "source": [
    "group_by_aih = merged_sp_rd.groupby('SP_NAIH').count()['SP_ATOPROF']\n",
    "group_by_aih"
   ]
  },
  {
   "cell_type": "code",
   "execution_count": 32,
   "metadata": {},
   "outputs": [
    {
     "output_type": "execute_result",
     "data": {
      "text/plain": [
       "0"
      ]
     },
     "metadata": {},
     "execution_count": 32
    }
   ],
   "source": [
    "group_by_aih.isna().sum()"
   ]
  },
  {
   "cell_type": "code",
   "execution_count": 33,
   "metadata": {},
   "outputs": [
    {
     "output_type": "execute_result",
     "data": {
      "text/plain": [
       "count    85131.000000\n",
       "mean        13.986080\n",
       "std          6.843525\n",
       "min          1.000000\n",
       "25%         10.000000\n",
       "50%         14.000000\n",
       "75%         17.000000\n",
       "max        400.000000\n",
       "Name: SP_ATOPROF, dtype: float64"
      ]
     },
     "metadata": {},
     "execution_count": 33
    }
   ],
   "source": [
    "group_by_aih.describe()"
   ]
  },
  {
   "cell_type": "code",
   "execution_count": 34,
   "metadata": {},
   "outputs": [
    {
     "output_type": "execute_result",
     "data": {
      "text/plain": [
       "SP_NAIH\n",
       "3517107562881    400\n",
       "3517128148556    177\n",
       "3517126938336    138\n",
       "3517128303238    117\n",
       "3518101249234    115\n",
       "3517128303216    111\n",
       "3518102279373     93\n",
       "3518104118518     93\n",
       "3517128302765     92\n",
       "3518115764383     91\n",
       "Name: SP_ATOPROF, dtype: int64"
      ]
     },
     "metadata": {},
     "execution_count": 34
    }
   ],
   "source": [
    "group_by_aih[group_by_aih.where(group_by_aih > 90).notna()].sort_values(ascending=False).head(10)"
   ]
  },
  {
   "cell_type": "markdown",
   "metadata": {},
   "source": [
    "### Group by ATO PROF"
   ]
  },
  {
   "cell_type": "code",
   "execution_count": 35,
   "metadata": {},
   "outputs": [
    {
     "output_type": "execute_result",
     "data": {
      "text/plain": [
       "SP_ATOPROF\n",
       "101020066        6\n",
       "101020074        1\n",
       "201010011        9\n",
       "201010020        1\n",
       "201010216        1\n",
       "             ...  \n",
       "802010032    33988\n",
       "802010083      393\n",
       "802010091       98\n",
       "802010105       28\n",
       "802010199     3793\n",
       "Name: SP_NAIH, Length: 633, dtype: int64"
      ]
     },
     "metadata": {},
     "execution_count": 35
    }
   ],
   "source": [
    "group_by_proc = merged_sp_rd.groupby('SP_ATOPROF').count()['SP_NAIH']\n",
    "group_by_proc"
   ]
  },
  {
   "cell_type": "code",
   "execution_count": 36,
   "metadata": {},
   "outputs": [
    {
     "output_type": "execute_result",
     "data": {
      "text/plain": [
       "count      633.000000\n",
       "mean      1880.962085\n",
       "std       8411.129658\n",
       "min          1.000000\n",
       "25%          3.000000\n",
       "50%         13.000000\n",
       "75%        209.000000\n",
       "max      85083.000000\n",
       "Name: SP_NAIH, dtype: float64"
      ]
     },
     "metadata": {},
     "execution_count": 36
    }
   ],
   "source": [
    "group_by_proc.describe()"
   ]
  },
  {
   "cell_type": "code",
   "execution_count": 42,
   "metadata": {},
   "outputs": [
    {
     "output_type": "execute_result",
     "data": {
      "text/plain": [
       "SP_ATOPROF\n",
       "214010040    85083\n",
       "211040061    83083\n",
       "310010039    66469\n",
       "301010170    62649\n",
       "310010020    62406\n",
       "301010145    60989\n",
       "202031179    58202\n",
       "202120023    48572\n",
       "417010010    41673\n",
       "411010034    40071\n",
       "802010032    33988\n",
       "202020380    29324\n",
       "202020541    26692\n",
       "301010048    26554\n",
       "202120082    20846\n",
       "801010039    20772\n",
       "211070149    20134\n",
       "303100044    16620\n",
       "801010047    16510\n",
       "417010028    14229\n",
       "Name: SP_NAIH, dtype: int64"
      ]
     },
     "metadata": {},
     "execution_count": 42
    }
   ],
   "source": [
    "group_by_proc[group_by_proc.where(group_by_proc > 10000).notna()].sort_values(ascending=False).head(20)"
   ]
  },
  {
   "cell_type": "code",
   "execution_count": 80,
   "metadata": {},
   "outputs": [
    {
     "output_type": "execute_result",
     "data": {
      "text/plain": [
       "      QTD       CODE                                        DESCRIPTION\n",
       "0   85083  214010040      Teste rápido para detecção de HIV em gestante\n",
       "1   83083  211040061                         Tococardiografia anteparto\n",
       "2   66469  310010039                                       Parto normal\n",
       "3   41673  417010010                 Anestesia Obstétrica p/ Cesariana\n",
       "4   40071  411010034                                    Parto cesariano\n",
       "5   16620  303100044  Tratamento de intercorrências clínicas na grav...\n",
       "6   14229  417010028              Analgesia Obstétrica p/ Parto Normal\n",
       "7   13912  417010036  Anestesia Obstétrica p/ Cesariana em Gestaça...\n",
       "8   13851  411010026          Parto cesariano em gestação de alto risco\n",
       "9   13844  211040010                                        Amnioscopia\n",
       "10  13676  205020143                        Ultrassonografia obstétrica\n",
       "11  10154  411020013                Curetagem pos-abortamento/puerperal"
      ],
      "text/html": "<div>\n<style scoped>\n    .dataframe tbody tr th:only-of-type {\n        vertical-align: middle;\n    }\n\n    .dataframe tbody tr th {\n        vertical-align: top;\n    }\n\n    .dataframe thead th {\n        text-align: right;\n    }\n</style>\n<table border=\"1\" class=\"dataframe\">\n  <thead>\n    <tr style=\"text-align: right;\">\n      <th></th>\n      <th>QTD</th>\n      <th>CODE</th>\n      <th>DESCRIPTION</th>\n    </tr>\n  </thead>\n  <tbody>\n    <tr>\n      <th>0</th>\n      <td>85083</td>\n      <td>214010040</td>\n      <td>Teste rápido para detecção de HIV em gestante</td>\n    </tr>\n    <tr>\n      <th>1</th>\n      <td>83083</td>\n      <td>211040061</td>\n      <td>Tococardiografia anteparto</td>\n    </tr>\n    <tr>\n      <th>2</th>\n      <td>66469</td>\n      <td>310010039</td>\n      <td>Parto normal</td>\n    </tr>\n    <tr>\n      <th>3</th>\n      <td>41673</td>\n      <td>417010010</td>\n      <td>Anestesia Obstétrica p/ Cesariana</td>\n    </tr>\n    <tr>\n      <th>4</th>\n      <td>40071</td>\n      <td>411010034</td>\n      <td>Parto cesariano</td>\n    </tr>\n    <tr>\n      <th>5</th>\n      <td>16620</td>\n      <td>303100044</td>\n      <td>Tratamento de intercorrências clínicas na grav...</td>\n    </tr>\n    <tr>\n      <th>6</th>\n      <td>14229</td>\n      <td>417010028</td>\n      <td>Analgesia Obstétrica p/ Parto Normal</td>\n    </tr>\n    <tr>\n      <th>7</th>\n      <td>13912</td>\n      <td>417010036</td>\n      <td>Anestesia Obstétrica p/ Cesariana em Gestaça...</td>\n    </tr>\n    <tr>\n      <th>8</th>\n      <td>13851</td>\n      <td>411010026</td>\n      <td>Parto cesariano em gestação de alto risco</td>\n    </tr>\n    <tr>\n      <th>9</th>\n      <td>13844</td>\n      <td>211040010</td>\n      <td>Amnioscopia</td>\n    </tr>\n    <tr>\n      <th>10</th>\n      <td>13676</td>\n      <td>205020143</td>\n      <td>Ultrassonografia obstétrica</td>\n    </tr>\n    <tr>\n      <th>11</th>\n      <td>10154</td>\n      <td>411020013</td>\n      <td>Curetagem pos-abortamento/puerperal</td>\n    </tr>\n  </tbody>\n</table>\n</div>"
     },
     "metadata": {},
     "execution_count": 80
    }
   ],
   "source": [
    "top_20_gb_proc = group_by_proc[group_by_proc.where(group_by_proc > 10000).notna()].sort_values(ascending=False)\n",
    "top_20_gb_proc_df = pd.DataFrame(data = top_20_gb_proc.values, columns = ['QTD'], index = top_20_gb_proc.index)\n",
    "top_20_gb_proc_df\n",
    "mergex = top_20_gb_proc_df.merge(procedures, left_on='SP_ATOPROF', right_on='CODE', how='left')\n",
    "mergex"
   ]
  },
  {
   "cell_type": "code",
   "execution_count": 78,
   "metadata": {},
   "outputs": [
    {
     "output_type": "execute_result",
     "data": {
      "text/plain": [
       "        QTD       CODE                                        DESCRIPTION\n",
       "0   85083.0  214010040      Teste rápido para detecção de HIV em gestante\n",
       "1   83083.0  211040061                         Tococardiografia anteparto\n",
       "2   66469.0  310010039                                       Parto normal\n",
       "3   62649.0        NaN                                                NaN\n",
       "4   62406.0        NaN                                                NaN\n",
       "5   60989.0        NaN                                                NaN\n",
       "6   58202.0        NaN                                                NaN\n",
       "7   48572.0        NaN                                                NaN\n",
       "8   41673.0  417010010                 Anestesia Obstétrica p/ Cesariana\n",
       "9   40071.0  411010034                                    Parto cesariano\n",
       "10  33988.0        NaN                                                NaN\n",
       "11  29324.0        NaN                                                NaN\n",
       "12  26692.0        NaN                                                NaN\n",
       "13  26554.0        NaN                                                NaN\n",
       "14  20846.0        NaN                                                NaN\n",
       "15  20772.0        NaN                                                NaN\n",
       "16  20134.0        NaN                                                NaN\n",
       "17  16620.0  303100044  Tratamento de intercorrências clínicas na grav...\n",
       "18  16510.0        NaN                                                NaN\n",
       "19  14229.0  417010028              Analgesia Obstétrica p/ Parto Normal"
      ],
      "text/html": "<div>\n<style scoped>\n    .dataframe tbody tr th:only-of-type {\n        vertical-align: middle;\n    }\n\n    .dataframe tbody tr th {\n        vertical-align: top;\n    }\n\n    .dataframe thead th {\n        text-align: right;\n    }\n</style>\n<table border=\"1\" class=\"dataframe\">\n  <thead>\n    <tr style=\"text-align: right;\">\n      <th></th>\n      <th>QTD</th>\n      <th>CODE</th>\n      <th>DESCRIPTION</th>\n    </tr>\n  </thead>\n  <tbody>\n    <tr>\n      <th>0</th>\n      <td>85083.0</td>\n      <td>214010040</td>\n      <td>Teste rápido para detecção de HIV em gestante</td>\n    </tr>\n    <tr>\n      <th>1</th>\n      <td>83083.0</td>\n      <td>211040061</td>\n      <td>Tococardiografia anteparto</td>\n    </tr>\n    <tr>\n      <th>2</th>\n      <td>66469.0</td>\n      <td>310010039</td>\n      <td>Parto normal</td>\n    </tr>\n    <tr>\n      <th>3</th>\n      <td>62649.0</td>\n      <td>NaN</td>\n      <td>NaN</td>\n    </tr>\n    <tr>\n      <th>4</th>\n      <td>62406.0</td>\n      <td>NaN</td>\n      <td>NaN</td>\n    </tr>\n    <tr>\n      <th>5</th>\n      <td>60989.0</td>\n      <td>NaN</td>\n      <td>NaN</td>\n    </tr>\n    <tr>\n      <th>6</th>\n      <td>58202.0</td>\n      <td>NaN</td>\n      <td>NaN</td>\n    </tr>\n    <tr>\n      <th>7</th>\n      <td>48572.0</td>\n      <td>NaN</td>\n      <td>NaN</td>\n    </tr>\n    <tr>\n      <th>8</th>\n      <td>41673.0</td>\n      <td>417010010</td>\n      <td>Anestesia Obstétrica p/ Cesariana</td>\n    </tr>\n    <tr>\n      <th>9</th>\n      <td>40071.0</td>\n      <td>411010034</td>\n      <td>Parto cesariano</td>\n    </tr>\n    <tr>\n      <th>10</th>\n      <td>33988.0</td>\n      <td>NaN</td>\n      <td>NaN</td>\n    </tr>\n    <tr>\n      <th>11</th>\n      <td>29324.0</td>\n      <td>NaN</td>\n      <td>NaN</td>\n    </tr>\n    <tr>\n      <th>12</th>\n      <td>26692.0</td>\n      <td>NaN</td>\n      <td>NaN</td>\n    </tr>\n    <tr>\n      <th>13</th>\n      <td>26554.0</td>\n      <td>NaN</td>\n      <td>NaN</td>\n    </tr>\n    <tr>\n      <th>14</th>\n      <td>20846.0</td>\n      <td>NaN</td>\n      <td>NaN</td>\n    </tr>\n    <tr>\n      <th>15</th>\n      <td>20772.0</td>\n      <td>NaN</td>\n      <td>NaN</td>\n    </tr>\n    <tr>\n      <th>16</th>\n      <td>20134.0</td>\n      <td>NaN</td>\n      <td>NaN</td>\n    </tr>\n    <tr>\n      <th>17</th>\n      <td>16620.0</td>\n      <td>303100044</td>\n      <td>Tratamento de intercorrências clínicas na grav...</td>\n    </tr>\n    <tr>\n      <th>18</th>\n      <td>16510.0</td>\n      <td>NaN</td>\n      <td>NaN</td>\n    </tr>\n    <tr>\n      <th>19</th>\n      <td>14229.0</td>\n      <td>417010028</td>\n      <td>Analgesia Obstétrica p/ Parto Normal</td>\n    </tr>\n  </tbody>\n</table>\n</div>"
     },
     "metadata": {},
     "execution_count": 78
    }
   ],
   "source": [
    "mergex[mergex['QTD'].notna()]"
   ]
  },
  {
   "cell_type": "code",
   "execution_count": 48,
   "metadata": {},
   "outputs": [
    {
     "output_type": "execute_result",
     "data": {
      "text/plain": [
       "',QTD,CODE,DESCRIPTION\\n0,85083,214010040,Teste rápido para detecção de HIV em gestante\\n1,83083,211040061,Tococardiografia anteparto\\n2,66469,310010039,Parto normal\\n8,41673,417010010,Anestesia Obstétrica p/ Cesariana\\n9,40071,411010034,Parto cesariano\\n17,16620,303100044,Tratamento de intercorrências clínicas na gravidez\\n19,14229,417010028,Analgesia Obstétrica p/ Parto Normal\\n20,13912,417010036,Anestesia Obstétrica p/ Cesariana em Gestação de Alto Risco\\n21,13851,411010026,Parto cesariano em gestação de alto risco\\n22,13844,211040010,Amnioscopia\\n23,13676,205020143,Ultrassonografia obstétrica\\n27,10154,411020013,Curetagem pos-abortamento/puerperal\\n31,7884,310010047,Parto normal em gestação de alto risco\\n36,6608,603030017,Imunoglobulina anti-Rh\\n40,5341,205020186,Ultrassonografia transvaginal\\n47,3969,205020151,Ultrassonografia obstétrica com doppler colorido e pulsado\\n55,3747,205010059,Ultrassonografia doppler de fluxo obstétrico\\n60,2653,411010042,Parto cesariano com laqueadura tubária\\n91,865,303100010,Tratamento de complicações relacionadas predominantemente ao puerpério\\n94,823,411020048,Tratamento cirúrgico de gravidez ectópica\\n107,666,303100036,\"Tratamento de edema, proteinúria e transtornos hipertensivos na gravidez, parto e puerpério.\"\\n117,525,411010077,Sutura de lacerações de trajeto pélvico (no parto antes da admissão)\\n120,501,409060046,Curetagem semiótica com ou sem dilatação do colo uterino\\n129,424,310010055,Parto normal em centro de parto normal (CPN)\\n144,326,409060070,Esvaziamento de útero pós-aborto por aspiração manual intra-uterina (AMIU)\\n181,126,411020030,Histerectomia puerperal\\n186,109,409060054,Curetagem uterina em mola hidatiforme\\n203,81,303100028,Tratamento de eclâmpsia\\n253,30,411010018,Descolamento manual de placenta\\n290,20,411020056,Tratamento de outros transtornos maternos relacionados predominantemente à gravidez\\n334,11,409060160,Histerorrafia\\n349,9,201010011,Amniocentese\\n435,4,411020021,Embriotomia\\n437,4,303100052,Tratamento de mola hidatiforme\\n438,4,411010085,Tratamento cirúrgico de inversão uterina aguda pós-parto\\n443,4,411010050,Redução manual de inversão uterina aguda pós-parto\\n'"
      ]
     },
     "metadata": {},
     "execution_count": 48
    }
   ],
   "source": [
    "gb_proc = group_by_proc.sort_values(ascending=False)\n",
    "gb_proc_df = pd.DataFrame(data = gb_proc.values, columns = ['QTD'], index = gb_proc.index)\n",
    "gb_proc_df\n",
    "gb_proc_desc_df = gb_proc_df.merge(procedures, left_on='SP_ATOPROF', right_on='CODE', how='left')\n",
    "gb_proc_desc_df[gb_proc_desc_df['DESCRIPTION'].notna()].to_csv()"
   ]
  },
  {
   "cell_type": "code",
   "execution_count": 59,
   "metadata": {},
   "outputs": [
    {
     "output_type": "execute_result",
     "data": {
      "text/plain": [
       "'SP_ATOPROF,QTD\\n214010040,85083\\n211040061,83083\\n310010039,66469\\n301010170,62649\\n310010020,62406\\n301010145,60989\\n202031179,58202\\n202120023,48572\\n417010010,41673\\n411010034,40071\\n802010032,33988\\n202020380,29324\\n202020541,26692\\n301010048,26554\\n202120082,20846\\n801010039,20772\\n211070149,20134\\n303100044,16620\\n801010047,16510\\n417010028,14229\\n417010036,13912\\n411010026,13851\\n211040010,13844\\n205020143,13676\\n202031110,12217\\n202010201,11777\\n202050017,10400\\n411020013,10154\\n214010058,8475\\n202031098,7967\\n201020050,7916\\n310010047,7884\\n202010317,7304\\n202030202,7128\\n202010694,6923\\n202030300,6651\\n603030017,6608\\n202120031,6248\\n202010643,5942\\n202010651,5808\\n205020186,5341\\n301100055,5274\\n202030083,5182\\n203020030,5008\\n214010074,4869\\n202010368,4490\\n401010023,4300\\n205020151,3969\\n202020371,3958\\n202020142,3947\\n202010635,3887\\n202010600,3868\\n202020134,3843\\n202120090,3806\\n802010199,3793\\n205010059,3747\\n202010120,3521\\n202020304,3425\\n202080080,2777\\n212010026,2696\\n411010042,2653\\n202010473,2468\\n211070084,2458\\n214010015,2260\\n202030970,2050\\n202020037,1844\\n202031128,1735\\n202020150,1677\\n202030873,1651\\n202030768,1649\\n802010016,1540\\n202020029,1510\\n202120066,1499\\n202010562,1431\\n301100144,1387\\n204030170,1336\\n202030679,1253\\n202010732,1232\\n306020068,1227\\n202020479,1182\\n401010015,1109\\n202050114,1046\\n205020054,999\\n211020036,953\\n205010032,950\\n202010627,941\\n205020160,936\\n212010034,914\\n802010024,874\\n202031136,872\\n202020363,865\\n303100010,865\\n202080153,842\\n202010210,827\\n411020048,823\\n202020398,814\\n202010465,813\\n202060373,811\\n202030920,811\\n202050220,811\\n202010589,809\\n202020355,804\\n401010058,736\\n202010228,684\\n301060088,680\\n202120058,675\\n202030296,670\\n303100036,666\\n202060217,657\\n202080013,645\\n201020041,621\\n202030636,596\\n202010422,590\\n205020046,573\\n205010040,566\\n202020070,558\\n202120074,550\\n411010077,525\\n202030741,518\\n202020487,505\\n409060046,501\\n202010180,478\\n204060168,473\\n202020495,456\\n301040028,454\\n204040051,450\\n202030857,445\\n202030814,444\\n204040060,441\\n310010055,424\\n204030153,420\\n302040021,416\\n205020178,409\\n202010538,398\\n202010619,394\\n802010083,393\\n204050138,382\\n202080072,382\\n204060117,369\\n202020320,365\\n202030644,352\\n202030784,351\\n302040013,346\\n202120015,337\\n409060070,326\\n202020126,324\\n204040019,320\\n603040012,316\\n202060250,309\\n211070157,298\\n202090060,296\\n202010503,291\\n301100101,275\\n202010260,263\\n202030989,231\\n301100047,230\\n211030074,220\\n202010325,217\\n202060381,209\\n204010080,204\\n206010079,202\\n203020022,198\\n202020290,196\\n202080021,194\\n202080196,188\\n202020509,187\\n202010430,173\\n205020062,164\\n301100128,163\\n202020096,162\\n202030890,156\\n202030059,153\\n202030075,143\\n202080129,141\\n202090051,141\\n302010017,139\\n202020100,138\\n202010376,137\\n202030318,129\\n302060022,128\\n202010333,127\\n411020030,126\\n202040046,123\\n205020038,116\\n306020106,110\\n301060070,109\\n409060054,109\\n202080137,108\\n417010052,105\\n202010554,104\\n202010279,104\\n202120040,101\\n303130040,101\\n211070025,99\\n802010091,98\\n309010047,91\\n202010295,88\\n202050254,88\\n204060095,88\\n211050113,88\\n206030010,88\\n206030037,86\\n206020031,81\\n303100028,81\\n202030806,81\\n202010074,80\\n409060232,74\\n202090230,73\\n202050050,70\\n202080234,68\\n201010631,67\\n303180056,63\\n202030598,62\\n211030082,62\\n202090183,62\\n202010040,61\\n409060011,60\\n202010287,58\\n202010678,58\\n309010101,56\\n303180064,53\\n202020312,52\\n407040161,49\\n202050092,49\\n202080030,49\\n202080110,47\\n209010037,47\\n301060010,46\\n202050025,46\\n202090019,46\\n303180048,44\\n204050120,44\\n302060030,43\\n410010014,42\\n201010372,41\\n205020097,40\\n204050111,40\\n202080161,40\\n202010392,39\\n303180030,38\\n303030038,38\\n302060014,36\\n202030911,35\\n301100179,35\\n204060150,34\\n202010384,34\\n204020069,34\\n306020076,33\\n308040015,33\\n302050019,32\\n204060060,31\\n306020122,31\\n303180072,31\\n411010018,30\\n401010082,30\\n202020444,30\\n202070271,30\\n207010064,29\\n202030253,29\\n202030270,29\\n802010105,28\\n202090132,27\\n409060216,27\\n214010104,27\\n202080048,26\\n202031047,26\\n204040094,25\\n702050814,24\\n202010023,24\\n202010481,24\\n309060036,24\\n302010025,24\\n202030849,24\\n202040127,24\\n202030776,24\\n407040242,23\\n202030237,23\\n302040056,22\\n204030129,22\\n202090124,21\\n202030121,21\\n202090159,21\\n203010035,21\\n207030022,21\\n202030130,21\\n202030954,21\\n204030145,21\\n211030040,21\\n202020169,21\\n202090299,20\\n411020056,20\\n204060125,20\\n202080145,20\\n204010071,19\\n303150050,19\\n204040116,19\\n202060365,18\\n202060268,18\\n205020011,17\\n201020033,17\\n202010660,17\\n302040030,17\\n202030172,17\\n202030180,16\\n603070019,16\\n206010044,15\\n305010131,15\\n202100030,15\\n205020127,15\\n302030018,15\\n202030415,15\\n307020029,14\\n302050035,14\\n203020049,14\\n202030628,14\\n202010724,13\\n202030997,13\\n202031012,13\\n209010029,13\\n204020042,13\\n417010044,13\\n202030881,13\\n409060186,13\\n202050181,12\\n309010071,12\\n603030033,12\\n202050238,12\\n409060127,11\\n302010033,11\\n202060390,11\\n209040017,11\\n202090191,11\\n401010104,11\\n203020057,11\\n409060160,11\\n202030555,11\\n306020084,11\\n207010013,11\\n202010708,11\\n202060012,10\\n301100098,10\\n202030350,10\\n204040027,10\\n202030946,10\\n202020207,10\\n204040078,10\\n202070093,10\\n202050300,10\\n202010414,9\\n201010011,9\\n207030014,9\\n202010406,9\\n202030830,9\\n204020131,9\\n409010081,9\\n204040124,9\\n202040097,9\\n202020177,9\\n204030072,9\\n412050170,8\\n409060135,8\\n202030369,8\\n202090140,8\\n417010060,8\\n202020460,8\\n204020107,8\\n202030024,8\\n211050024,8\\n202030067,8\\n204040035,8\\n305020013,8\\n209010061,8\\n303060107,8\\n302040048,7\\n202030113,7\\n202090302,7\\n202090310,7\\n211020044,7\\n202031020,7\\n403050030,7\\n306020149,7\\n204060176,7\\n202020185,7\\n302060057,6\\n407040030,6\\n409060194,6\\n401010031,6\\n211050040,6\\n418010056,6\\n211070262,6\\n101020066,6\\n201010666,6\\n204040043,6\\n202030792,6\\n204060036,6\\n202030733,6\\n202120104,6\\n202020010,6\\n201010224,6\\n204060087,6\\n202010490,6\\n205020135,6\\n202010066,6\\n206010028,6\\n202030962,6\\n412010038,5\\n202031039,5\\n412010127,5\\n211080047,5\\n303170140,5\\n211030015,5\\n202090108,5\\n204010179,5\\n204010144,5\\n202030091,5\\n202100014,5\\n202030474,5\\n202030342,5\\n407020322,5\\n207010048,5\\n202030601,5\\n407040188,4\\n202030032,4\\n202030164,4\\n412010062,4\\n202090329,4\\n202070255,4\\n202070220,4\\n202070123,4\\n202060306,4\\n202060233,4\\n202020410,4\\n306020092,4\\n409060119,4\\n202031071,4\\n411020021,4\\n202010716,4\\n303100052,4\\n411010085,4\\n202040178,4\\n303170093,4\\n202020266,4\\n202020258,4\\n411010050,4\\n202020193,4\\n202020274,4\\n202060241,4\\n204010128,4\\n204020093,4\\n204020050,4\\n204020034,4\\n202010058,3\\n204020123,3\\n202060284,3\\n202020282,3\\n205010016,3\\n202060144,3\\n202030709,3\\n211050083,3\\n202020223,3\\n409070122,3\\n202060349,3\\n209020016,3\\n204030064,3\\n204050170,3\\n409070165,3\\n303150033,3\\n204040086,3\\n204050014,3\\n202020215,3\\n202040100,3\\n202030229,3\\n204020077,3\\n202010163,3\\n202030156,3\\n406020094,3\\n206010010,3\\n202080064,3\\n202070182,3\\n202070158,3\\n202030040,3\\n603030041,3\\n207010056,3\\n206020015,2\\n202030903,2\\n202031187,2\\n201010542,2\\n409010170,2\\n407040200,2\\n206010036,2\\n206030029,2\\n202020533,2\\n202020401,2\\n307030032,2\\n201010526,2\\n204060079,2\\n205010024,2\\n207010030,2\\n202030458,2\\n202030393,2\\n207030049,2\\n202030326,2\\n407020063,2\\n407020039,2\\n204050103,2\\n406040303,2\\n702060011,2\\n202040135,2\\n702050342,2\\n303060131,2\\n214010120,2\\n202010031,2\\n702040134,2\\n202080099,2\\n202010104,2\\n204010187,2\\n302020012,2\\n202060357,2\\n702040380,2\\n202010309,2\\n202060110,2\\n204020115,2\\n202060047,2\\n303010037,2\\n206010052,2\\n202050246,2\\n211040029,2\\n202050041,2\\n202040143,2\\n204040108,2\\n202060039,2\\n202010570,2\\n204030137,2\\n202010767,1\\n603050034,1\\n202010082,1\\n202010147,1\\n202020053,1\\n202010171,1\\n202010198,1\\n202010244,1\\n202010252,1\\n201010593,1\\n414020146,1\\n409070076,1\\n414020138,1\\n409060259,1\\n413040178,1\\n409070157,1\\n201010020,1\\n409060178,1\\n201010216,1\\n412040174,1\\n702050288,1\\n202020045,1\\n201010275,1\\n202020240,1\\n201010283,1\\n202010350,1\\n409060240,1\\n408050659,1\\n202040011,1\\n202030148,1\\n202060462,1\\n202090272,1\\n202080170,1\\n202070352,1\\n202070310,1\\n301100071,1\\n202070204,1\\n202060454,1\\n203010027,1\\n202060403,1\\n302020020,1\\n202060314,1\\n202060152,1\\n202060136,1\\n202060128,1\\n214010112,1\\n101020074,1\\n202060098,1\\n210010037,1\\n204060133,1\\n207030030,1\\n208010025,1\\n208010033,1\\n209010010,1\\n204050189,1\\n210010096,1\\n211100013,1\\n211010030,1\\n204050146,1\\n211020060,1\\n211050032,1\\n211070114,1\\n211080063,1\\n303010061,1\\n303030062,1\\n407040218,1\\n403010225,1\\n309040027,1\\n202030482,1\\n202030385,1\\n202030377,1\\n401010040,1\\n202030245,1\\n404020054,1\\n309010039,1\\n406020574,1\\n407030034,1\\n407040013,1\\n407040129,1\\n407040170,1\\n407040196,1\\n202030822,1\\n202030865,1\\n303040033,1\\n202040054,1\\n303060182,1\\n303090120,1\\n202050203,1\\n202050076,1\\n303140151,1\\n202040089,1\\n304100013,1\\n202030938,1\\n304100021,1\\n305010034,1\\n202040038,1\\n306020050,1\\n202031101,1\\n306020114,1\\n204010101,1\\n'"
      ]
     },
     "metadata": {},
     "execution_count": 59
    }
   ],
   "source": [
    "all_gb_proc = group_by_proc[group_by_proc.notna()].sort_values(ascending=False)\n",
    "all_gb_proc_df = pd.DataFrame(data = all_gb_proc.values, columns = ['QTD'], index = all_gb_proc.index)\n",
    "all_gb_proc_df.to_csv()"
   ]
  },
  {
   "cell_type": "code",
   "execution_count": null,
   "metadata": {},
   "outputs": [],
   "source": []
  }
 ],
 "metadata": {
  "kernelspec": {
   "name": "python394jvsc74a57bd0e7370f93d1d0cde622a1f8e1c04877d8463912d04d973331ad4851f04de6915a",
   "display_name": "Python 3.9.4 64-bit"
  },
  "language_info": {
   "codemirror_mode": {
    "name": "ipython",
    "version": 3
   },
   "file_extension": ".py",
   "mimetype": "text/x-python",
   "name": "python",
   "nbconvert_exporter": "python",
   "pygments_lexer": "ipython3",
   "version": "3.9.4"
  },
  "metadata": {
   "interpreter": {
    "hash": "e7370f93d1d0cde622a1f8e1c04877d8463912d04d973331ad4851f04de6915a"
   }
  },
  "orig_nbformat": 2
 },
 "nbformat": 4,
 "nbformat_minor": 2
}