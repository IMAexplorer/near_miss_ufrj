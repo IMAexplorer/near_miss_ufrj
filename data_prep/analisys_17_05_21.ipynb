{
 "cells": [
  {
   "cell_type": "markdown",
   "metadata": {},
   "source": [
    "### Imports"
   ]
  },
  {
   "cell_type": "code",
   "execution_count": 1,
   "metadata": {},
   "outputs": [],
   "source": [
    "import numpy as np\r\n",
    "import pandas as pd"
   ]
  },
  {
   "cell_type": "markdown",
   "metadata": {},
   "source": [
    "### Read Data Sets"
   ]
  },
  {
   "cell_type": "code",
   "execution_count": 73,
   "metadata": {},
   "outputs": [],
   "source": [
    "types = {'SP_NAIH': str, 'SP_ATOPROF': str, 'SP_CIDPRI': str, 'SP_QTD_ATO': np.int32}"
   ]
  },
  {
   "cell_type": "markdown",
   "metadata": {},
   "source": [
    "#### CIDS"
   ]
  },
  {
   "cell_type": "code",
   "execution_count": 56,
   "metadata": {},
   "outputs": [
    {
     "data": {
      "text/html": "<div>\n<style scoped>\n    .dataframe tbody tr th:only-of-type {\n        vertical-align: middle;\n    }\n\n    .dataframe tbody tr th {\n        vertical-align: top;\n    }\n\n    .dataframe thead th {\n        text-align: right;\n    }\n</style>\n<table border=\"1\" class=\"dataframe\">\n  <thead>\n    <tr style=\"text-align: right;\">\n      <th></th>\n      <th>influence_type</th>\n      <th>code</th>\n      <th>description</th>\n    </tr>\n  </thead>\n  <tbody>\n    <tr>\n      <th>0</th>\n      <td>Morte Materna Direta</td>\n      <td>O000</td>\n      <td>Gravidez abdominal</td>\n    </tr>\n    <tr>\n      <th>1</th>\n      <td>Morte Materna Direta</td>\n      <td>O001</td>\n      <td>Gravidez tubária</td>\n    </tr>\n    <tr>\n      <th>2</th>\n      <td>Morte Materna Direta</td>\n      <td>O002</td>\n      <td>Gravidez ovariana</td>\n    </tr>\n    <tr>\n      <th>3</th>\n      <td>Morte Materna Direta</td>\n      <td>O008</td>\n      <td>Outras formas de gravidez ectópica</td>\n    </tr>\n    <tr>\n      <th>4</th>\n      <td>Morte Materna Direta</td>\n      <td>O009</td>\n      <td>Gravidez ectópica, não especificada</td>\n    </tr>\n  </tbody>\n</table>\n</div>",
      "text/plain": "         influence_type  code                           description\n0  Morte Materna Direta  O000                    Gravidez abdominal\n1  Morte Materna Direta  O001                      Gravidez tubária\n2  Morte Materna Direta  O002                     Gravidez ovariana\n3  Morte Materna Direta  O008    Outras formas de gravidez ectópica\n4  Morte Materna Direta  O009  Gravidez ectópica, não especificada "
     },
     "execution_count": 56,
     "metadata": {},
     "output_type": "execute_result"
    }
   ],
   "source": [
    "o_cids = pd.read_csv('../data/o_cids.csv', sep=';')\r\n",
    "o_cids.head()"
   ]
  },
  {
   "cell_type": "markdown",
   "metadata": {},
   "source": [
    "#### Procedures"
   ]
  },
  {
   "cell_type": "code",
   "execution_count": 71,
   "metadata": {},
   "outputs": [
    {
     "data": {
      "text/html": "<div>\n<style scoped>\n    .dataframe tbody tr th:only-of-type {\n        vertical-align: middle;\n    }\n\n    .dataframe tbody tr th {\n        vertical-align: top;\n    }\n\n    .dataframe thead th {\n        text-align: right;\n    }\n</style>\n<table border=\"1\" class=\"dataframe\">\n  <thead>\n    <tr style=\"text-align: right;\">\n      <th></th>\n      <th>CODE</th>\n      <th>DESCRIPTION</th>\n    </tr>\n  </thead>\n  <tbody>\n    <tr>\n      <th>0</th>\n      <td>205020143</td>\n      <td>Ultrassonografia obstétrica</td>\n    </tr>\n    <tr>\n      <th>1</th>\n      <td>205020186</td>\n      <td>Ultrassonografia transvaginal</td>\n    </tr>\n    <tr>\n      <th>2</th>\n      <td>205010059</td>\n      <td>Ultrassonografia doppler de fluxo obstétrico</td>\n    </tr>\n    <tr>\n      <th>3</th>\n      <td>205020151</td>\n      <td>Ultrassonografia obstétrica com doppler colori...</td>\n    </tr>\n    <tr>\n      <th>4</th>\n      <td>201010011</td>\n      <td>Amniocentese</td>\n    </tr>\n  </tbody>\n</table>\n</div>",
      "text/plain": "        CODE                                        DESCRIPTION\n0  205020143                        Ultrassonografia obstétrica\n1  205020186                      Ultrassonografia transvaginal\n2  205010059       Ultrassonografia doppler de fluxo obstétrico\n3  205020151  Ultrassonografia obstétrica com doppler colori...\n4  201010011                                       Amniocentese"
     },
     "execution_count": 71,
     "metadata": {},
     "output_type": "execute_result"
    }
   ],
   "source": [
    "procedures = pd.read_csv('../data/procedimentos_obstetricia.csv', sep=';')\r\n",
    "procedures.head()"
   ]
  },
  {
   "cell_type": "markdown",
   "metadata": {},
   "source": [
    "#### March"
   ]
  },
  {
   "cell_type": "code",
   "execution_count": 74,
   "metadata": {},
   "outputs": [
    {
     "data": {
      "text/html": "<div>\n<style scoped>\n    .dataframe tbody tr th:only-of-type {\n        vertical-align: middle;\n    }\n\n    .dataframe tbody tr th {\n        vertical-align: top;\n    }\n\n    .dataframe thead th {\n        text-align: right;\n    }\n</style>\n<table border=\"1\" class=\"dataframe\">\n  <thead>\n    <tr style=\"text-align: right;\">\n      <th></th>\n      <th>SP_NAIH</th>\n      <th>SP_ATOPROF</th>\n      <th>SP_QTD_ATO</th>\n      <th>SP_CIDPRI</th>\n    </tr>\n  </thead>\n  <tbody>\n    <tr>\n      <th>0</th>\n      <td>3518100401101</td>\n      <td>303010061</td>\n      <td>1</td>\n      <td>A09</td>\n    </tr>\n    <tr>\n      <th>1</th>\n      <td>3518100401101</td>\n      <td>301010170</td>\n      <td>8</td>\n      <td>A09</td>\n    </tr>\n    <tr>\n      <th>2</th>\n      <td>3518100401101</td>\n      <td>301010170</td>\n      <td>1</td>\n      <td>A09</td>\n    </tr>\n    <tr>\n      <th>3</th>\n      <td>3518100401101</td>\n      <td>301010170</td>\n      <td>1</td>\n      <td>A09</td>\n    </tr>\n    <tr>\n      <th>4</th>\n      <td>3518100401101</td>\n      <td>802010040</td>\n      <td>1</td>\n      <td>A09</td>\n    </tr>\n  </tbody>\n</table>\n</div>",
      "text/plain": "         SP_NAIH SP_ATOPROF  SP_QTD_ATO SP_CIDPRI\n0  3518100401101  303010061           1       A09\n1  3518100401101  301010170           8       A09\n2  3518100401101  301010170           1       A09\n3  3518100401101  301010170           1       A09\n4  3518100401101  802010040           1       A09"
     },
     "execution_count": 74,
     "metadata": {},
     "output_type": "execute_result"
    }
   ],
   "source": [
    "df_sp_mar = pd.read_csv('../../SPSP/SPSP1803.csv', sep=',', usecols=types.keys(), dtype=types)\r\n",
    "df_sp_mar[\"SP_ATOPROF\"] = df_sp_mar[\"SP_ATOPROF\"].str[1:]\r\n",
    "df_sp_mar.head()"
   ]
  },
  {
   "cell_type": "code",
   "execution_count": 75,
   "metadata": {},
   "outputs": [
    {
     "data": {
      "text/plain": "(3081817, 4)"
     },
     "execution_count": 75,
     "metadata": {},
     "output_type": "execute_result"
    }
   ],
   "source": [
    "df_sp_mar.shape"
   ]
  },
  {
   "cell_type": "markdown",
   "metadata": {},
   "source": [
    "##### Filter CID "
   ]
  },
  {
   "cell_type": "code",
   "execution_count": 76,
   "metadata": {},
   "outputs": [],
   "source": [
    "df_sp_mar_cids = df_sp_mar.merge(o_cids, left_on='SP_CIDPRI', right_on='code', how='left').drop('code', axis=1)\r\n",
    "\r\n",
    "df_sp_mar_cids = df_sp_mar_cids[df_sp_mar_cids['influence_type'].notna()]"
   ]
  },
  {
   "cell_type": "code",
   "execution_count": 77,
   "metadata": {},
   "outputs": [
    {
     "data": {
      "text/html": "<div>\n<style scoped>\n    .dataframe tbody tr th:only-of-type {\n        vertical-align: middle;\n    }\n\n    .dataframe tbody tr th {\n        vertical-align: top;\n    }\n\n    .dataframe thead th {\n        text-align: right;\n    }\n</style>\n<table border=\"1\" class=\"dataframe\">\n  <thead>\n    <tr style=\"text-align: right;\">\n      <th></th>\n      <th>SP_NAIH</th>\n      <th>SP_ATOPROF</th>\n      <th>SP_QTD_ATO</th>\n      <th>SP_CIDPRI</th>\n      <th>influence_type</th>\n      <th>description</th>\n    </tr>\n  </thead>\n  <tbody>\n    <tr>\n      <th>196</th>\n      <td>3518105143696</td>\n      <td>303100044</td>\n      <td>1</td>\n      <td>O998</td>\n      <td>Morte Materna Indireta</td>\n      <td>Outras doenças e afecções especificadas compli...</td>\n    </tr>\n    <tr>\n      <th>257</th>\n      <td>3518105143564</td>\n      <td>303100044</td>\n      <td>1</td>\n      <td>O16</td>\n      <td>Morte Materna Direta</td>\n      <td>Hipertensão materna não especificada</td>\n    </tr>\n    <tr>\n      <th>311</th>\n      <td>3518105143564</td>\n      <td>202010473</td>\n      <td>1</td>\n      <td>O16</td>\n      <td>Morte Materna Direta</td>\n      <td>Hipertensão materna não especificada</td>\n    </tr>\n    <tr>\n      <th>314</th>\n      <td>3518105144048</td>\n      <td>303100044</td>\n      <td>1</td>\n      <td>O998</td>\n      <td>Morte Materna Indireta</td>\n      <td>Outras doenças e afecções especificadas compli...</td>\n    </tr>\n    <tr>\n      <th>315</th>\n      <td>3518105148492</td>\n      <td>303100044</td>\n      <td>1</td>\n      <td>O479</td>\n      <td>Morte Materna Direta</td>\n      <td>Falso trabalho de parto, não especificado</td>\n    </tr>\n  </tbody>\n</table>\n</div>",
      "text/plain": "           SP_NAIH SP_ATOPROF  SP_QTD_ATO SP_CIDPRI          influence_type  \\\n196  3518105143696  303100044           1      O998  Morte Materna Indireta   \n257  3518105143564  303100044           1       O16    Morte Materna Direta   \n311  3518105143564  202010473           1       O16    Morte Materna Direta   \n314  3518105144048  303100044           1      O998  Morte Materna Indireta   \n315  3518105148492  303100044           1      O479    Morte Materna Direta   \n\n                                           description  \n196  Outras doenças e afecções especificadas compli...  \n257               Hipertensão materna não especificada  \n311               Hipertensão materna não especificada  \n314  Outras doenças e afecções especificadas compli...  \n315         Falso trabalho de parto, não especificado   "
     },
     "execution_count": 77,
     "metadata": {},
     "output_type": "execute_result"
    }
   ],
   "source": [
    "df_sp_mar_cids.head()"
   ]
  },
  {
   "cell_type": "markdown",
   "metadata": {},
   "source": [
    "##### Filter Procedures"
   ]
  },
  {
   "cell_type": "code",
   "execution_count": 78,
   "metadata": {},
   "outputs": [],
   "source": [
    "df_sp_mar_proc = df_sp_mar.merge(procedures, left_on='SP_ATOPROF', right_on='CODE', how='left').drop('CODE', axis=1)\r\n",
    "df_sp_mar_proc = df_sp_mar_proc[df_sp_mar_proc['DESCRIPTION'].notna()]"
   ]
  },
  {
   "cell_type": "code",
   "execution_count": 79,
   "metadata": {},
   "outputs": [
    {
     "data": {
      "text/html": "<div>\n<style scoped>\n    .dataframe tbody tr th:only-of-type {\n        vertical-align: middle;\n    }\n\n    .dataframe tbody tr th {\n        vertical-align: top;\n    }\n\n    .dataframe thead th {\n        text-align: right;\n    }\n</style>\n<table border=\"1\" class=\"dataframe\">\n  <thead>\n    <tr style=\"text-align: right;\">\n      <th></th>\n      <th>SP_NAIH</th>\n      <th>SP_ATOPROF</th>\n      <th>SP_QTD_ATO</th>\n      <th>SP_CIDPRI</th>\n      <th>DESCRIPTION</th>\n    </tr>\n  </thead>\n  <tbody>\n    <tr>\n      <th>196</th>\n      <td>3518105143696</td>\n      <td>303100044</td>\n      <td>1</td>\n      <td>O998</td>\n      <td>Tratamento de intercorrências clínicas na grav...</td>\n    </tr>\n    <tr>\n      <th>257</th>\n      <td>3518105143564</td>\n      <td>303100044</td>\n      <td>1</td>\n      <td>O16</td>\n      <td>Tratamento de intercorrências clínicas na grav...</td>\n    </tr>\n    <tr>\n      <th>314</th>\n      <td>3518105144048</td>\n      <td>303100044</td>\n      <td>1</td>\n      <td>O998</td>\n      <td>Tratamento de intercorrências clínicas na grav...</td>\n    </tr>\n    <tr>\n      <th>315</th>\n      <td>3518105148492</td>\n      <td>303100044</td>\n      <td>1</td>\n      <td>O479</td>\n      <td>Tratamento de intercorrências clínicas na grav...</td>\n    </tr>\n    <tr>\n      <th>316</th>\n      <td>3518105148350</td>\n      <td>303100044</td>\n      <td>1</td>\n      <td>O998</td>\n      <td>Tratamento de intercorrências clínicas na grav...</td>\n    </tr>\n  </tbody>\n</table>\n</div>",
      "text/plain": "           SP_NAIH SP_ATOPROF  SP_QTD_ATO SP_CIDPRI  \\\n196  3518105143696  303100044           1      O998   \n257  3518105143564  303100044           1       O16   \n314  3518105144048  303100044           1      O998   \n315  3518105148492  303100044           1      O479   \n316  3518105148350  303100044           1      O998   \n\n                                           DESCRIPTION  \n196  Tratamento de intercorrências clínicas na grav...  \n257  Tratamento de intercorrências clínicas na grav...  \n314  Tratamento de intercorrências clínicas na grav...  \n315  Tratamento de intercorrências clínicas na grav...  \n316  Tratamento de intercorrências clínicas na grav...  "
     },
     "execution_count": 79,
     "metadata": {},
     "output_type": "execute_result"
    }
   ],
   "source": [
    "df_sp_mar_proc.head()"
   ]
  },
  {
   "cell_type": "markdown",
   "metadata": {},
   "source": [
    "#### April"
   ]
  },
  {
   "cell_type": "code",
   "execution_count": 80,
   "metadata": {},
   "outputs": [
    {
     "data": {
      "text/html": "<div>\n<style scoped>\n    .dataframe tbody tr th:only-of-type {\n        vertical-align: middle;\n    }\n\n    .dataframe tbody tr th {\n        vertical-align: top;\n    }\n\n    .dataframe thead th {\n        text-align: right;\n    }\n</style>\n<table border=\"1\" class=\"dataframe\">\n  <thead>\n    <tr style=\"text-align: right;\">\n      <th></th>\n      <th>SP_NAIH</th>\n      <th>SP_ATOPROF</th>\n      <th>SP_QTD_ATO</th>\n      <th>SP_CIDPRI</th>\n    </tr>\n  </thead>\n  <tbody>\n    <tr>\n      <th>0</th>\n      <td>3518102098456</td>\n      <td>303010061</td>\n      <td>1</td>\n      <td>A09</td>\n    </tr>\n    <tr>\n      <th>1</th>\n      <td>3518102098456</td>\n      <td>802010083</td>\n      <td>5</td>\n      <td>A09</td>\n    </tr>\n    <tr>\n      <th>2</th>\n      <td>3518102098456</td>\n      <td>206030010</td>\n      <td>1</td>\n      <td>A09</td>\n    </tr>\n    <tr>\n      <th>3</th>\n      <td>3518102098456</td>\n      <td>206030037</td>\n      <td>1</td>\n      <td>A09</td>\n    </tr>\n    <tr>\n      <th>4</th>\n      <td>3518102098456</td>\n      <td>603070019</td>\n      <td>1</td>\n      <td>A09</td>\n    </tr>\n  </tbody>\n</table>\n</div>",
      "text/plain": "         SP_NAIH SP_ATOPROF  SP_QTD_ATO SP_CIDPRI\n0  3518102098456  303010061           1       A09\n1  3518102098456  802010083           5       A09\n2  3518102098456  206030010           1       A09\n3  3518102098456  206030037           1       A09\n4  3518102098456  603070019           1       A09"
     },
     "execution_count": 80,
     "metadata": {},
     "output_type": "execute_result"
    }
   ],
   "source": [
    "df_sp_apr = pd.read_csv('../../SPSP/SPSP1804.csv', sep=',', usecols=types.keys(), dtype=types)\r\n",
    "df_sp_apr[\"SP_ATOPROF\"] = df_sp_apr[\"SP_ATOPROF\"].str[1:]\r\n",
    "df_sp_apr.head()"
   ]
  },
  {
   "cell_type": "markdown",
   "metadata": {},
   "source": [
    "##### Filter CIDS"
   ]
  },
  {
   "cell_type": "code",
   "execution_count": 81,
   "metadata": {},
   "outputs": [],
   "source": [
    "df_sp_apr_cids = df_sp_apr.merge(o_cids, left_on='SP_CIDPRI', right_on='code', how='left').drop('code', axis=1)\r\n",
    "df_sp_apr_cids = df_sp_apr_cids[df_sp_apr_cids['influence_type'].notna()]"
   ]
  },
  {
   "cell_type": "code",
   "execution_count": 82,
   "metadata": {},
   "outputs": [
    {
     "data": {
      "text/html": "<div>\n<style scoped>\n    .dataframe tbody tr th:only-of-type {\n        vertical-align: middle;\n    }\n\n    .dataframe tbody tr th {\n        vertical-align: top;\n    }\n\n    .dataframe thead th {\n        text-align: right;\n    }\n</style>\n<table border=\"1\" class=\"dataframe\">\n  <thead>\n    <tr style=\"text-align: right;\">\n      <th></th>\n      <th>SP_NAIH</th>\n      <th>SP_ATOPROF</th>\n      <th>SP_QTD_ATO</th>\n      <th>SP_CIDPRI</th>\n      <th>influence_type</th>\n      <th>description</th>\n    </tr>\n  </thead>\n  <tbody>\n    <tr>\n      <th>3922</th>\n      <td>3518114318114</td>\n      <td>202010228</td>\n      <td>4</td>\n      <td>O140</td>\n      <td>Morte Materna Direta</td>\n      <td>Pré-eclâmpsia moderada</td>\n    </tr>\n    <tr>\n      <th>3923</th>\n      <td>3518114318114</td>\n      <td>202010317</td>\n      <td>8</td>\n      <td>O140</td>\n      <td>Morte Materna Direta</td>\n      <td>Pré-eclâmpsia moderada</td>\n    </tr>\n    <tr>\n      <th>3924</th>\n      <td>3518114318114</td>\n      <td>202010368</td>\n      <td>7</td>\n      <td>O140</td>\n      <td>Morte Materna Direta</td>\n      <td>Pré-eclâmpsia moderada</td>\n    </tr>\n    <tr>\n      <th>3925</th>\n      <td>3518114318114</td>\n      <td>202010422</td>\n      <td>3</td>\n      <td>O140</td>\n      <td>Morte Materna Direta</td>\n      <td>Pré-eclâmpsia moderada</td>\n    </tr>\n    <tr>\n      <th>3926</th>\n      <td>3518114318114</td>\n      <td>202010465</td>\n      <td>3</td>\n      <td>O140</td>\n      <td>Morte Materna Direta</td>\n      <td>Pré-eclâmpsia moderada</td>\n    </tr>\n  </tbody>\n</table>\n</div>",
      "text/plain": "            SP_NAIH SP_ATOPROF  SP_QTD_ATO SP_CIDPRI        influence_type  \\\n3922  3518114318114  202010228           4      O140  Morte Materna Direta   \n3923  3518114318114  202010317           8      O140  Morte Materna Direta   \n3924  3518114318114  202010368           7      O140  Morte Materna Direta   \n3925  3518114318114  202010422           3      O140  Morte Materna Direta   \n3926  3518114318114  202010465           3      O140  Morte Materna Direta   \n\n                 description  \n3922  Pré-eclâmpsia moderada  \n3923  Pré-eclâmpsia moderada  \n3924  Pré-eclâmpsia moderada  \n3925  Pré-eclâmpsia moderada  \n3926  Pré-eclâmpsia moderada  "
     },
     "execution_count": 82,
     "metadata": {},
     "output_type": "execute_result"
    }
   ],
   "source": [
    "df_sp_apr_cids.head()"
   ]
  },
  {
   "cell_type": "code",
   "execution_count": 34,
   "metadata": {},
   "outputs": [
    {
     "data": {
      "text/plain": "(565244, 6)"
     },
     "execution_count": 34,
     "metadata": {},
     "output_type": "execute_result"
    }
   ],
   "source": [
    "df_sp_apr_cids.shape"
   ]
  },
  {
   "cell_type": "markdown",
   "metadata": {},
   "source": [
    "##### Filter Procedures"
   ]
  },
  {
   "cell_type": "code",
   "execution_count": 83,
   "metadata": {},
   "outputs": [],
   "source": [
    "df_sp_apr_proc = df_sp_apr.merge(procedures, left_on='SP_ATOPROF', right_on='CODE', how='left').drop('CODE', axis=1)\r\n",
    "df_sp_apr_proc = df_sp_apr_proc[df_sp_apr_proc['DESCRIPTION'].notna()]"
   ]
  },
  {
   "cell_type": "code",
   "execution_count": 85,
   "metadata": {},
   "outputs": [
    {
     "data": {
      "text/html": "<div>\n<style scoped>\n    .dataframe tbody tr th:only-of-type {\n        vertical-align: middle;\n    }\n\n    .dataframe tbody tr th {\n        vertical-align: top;\n    }\n\n    .dataframe thead th {\n        text-align: right;\n    }\n</style>\n<table border=\"1\" class=\"dataframe\">\n  <thead>\n    <tr style=\"text-align: right;\">\n      <th></th>\n      <th>SP_NAIH</th>\n      <th>SP_ATOPROF</th>\n      <th>SP_QTD_ATO</th>\n      <th>SP_CIDPRI</th>\n      <th>DESCRIPTION</th>\n    </tr>\n  </thead>\n  <tbody>\n    <tr>\n      <th>3943</th>\n      <td>3518114318169</td>\n      <td>303100044</td>\n      <td>1</td>\n      <td>O244</td>\n      <td>Tratamento de intercorrências clínicas na grav...</td>\n    </tr>\n    <tr>\n      <th>3946</th>\n      <td>3518114318169</td>\n      <td>205020143</td>\n      <td>1</td>\n      <td>O244</td>\n      <td>Ultrassonografia obstétrica</td>\n    </tr>\n    <tr>\n      <th>3949</th>\n      <td>3518114318170</td>\n      <td>411010026</td>\n      <td>1</td>\n      <td>O418</td>\n      <td>Parto cesariano em gestação de alto risco</td>\n    </tr>\n    <tr>\n      <th>3950</th>\n      <td>3518114318170</td>\n      <td>411010026</td>\n      <td>1</td>\n      <td>O418</td>\n      <td>Parto cesariano em gestação de alto risco</td>\n    </tr>\n    <tr>\n      <th>3951</th>\n      <td>3518114318170</td>\n      <td>417010036</td>\n      <td>1</td>\n      <td>O418</td>\n      <td>Anestesia Obstétrica p/ Cesariana em Gestaça...</td>\n    </tr>\n  </tbody>\n</table>\n</div>",
      "text/plain": "            SP_NAIH SP_ATOPROF  SP_QTD_ATO SP_CIDPRI  \\\n3943  3518114318169  303100044           1      O244   \n3946  3518114318169  205020143           1      O244   \n3949  3518114318170  411010026           1      O418   \n3950  3518114318170  411010026           1      O418   \n3951  3518114318170  417010036           1      O418   \n\n                                            DESCRIPTION  \n3943  Tratamento de intercorrências clínicas na grav...  \n3946                        Ultrassonografia obstétrica  \n3949          Parto cesariano em gestação de alto risco  \n3950          Parto cesariano em gestação de alto risco  \n3951  Anestesia Obstétrica p/ Cesariana em Gestaça...  "
     },
     "execution_count": 85,
     "metadata": {},
     "output_type": "execute_result"
    }
   ],
   "source": [
    "df_sp_apr_proc.head()"
   ]
  },
  {
   "cell_type": "markdown",
   "metadata": {},
   "source": [
    "#### RD"
   ]
  },
  {
   "cell_type": "code",
   "execution_count": 86,
   "metadata": {},
   "outputs": [],
   "source": [
    "aih_types = {'N_AIH': str, 'SEXO': np.int32, 'IDADE': np.int32, 'INSTRU': np.int32}"
   ]
  },
  {
   "cell_type": "code",
   "execution_count": 87,
   "metadata": {},
   "outputs": [
    {
     "data": {
      "text/html": "<div>\n<style scoped>\n    .dataframe tbody tr th:only-of-type {\n        vertical-align: middle;\n    }\n\n    .dataframe tbody tr th {\n        vertical-align: top;\n    }\n\n    .dataframe thead th {\n        text-align: right;\n    }\n</style>\n<table border=\"1\" class=\"dataframe\">\n  <thead>\n    <tr style=\"text-align: right;\">\n      <th></th>\n      <th>N_AIH</th>\n      <th>SEXO</th>\n      <th>IDADE</th>\n      <th>INSTRU</th>\n    </tr>\n  </thead>\n  <tbody>\n    <tr>\n      <th>0</th>\n      <td>3518101448609</td>\n      <td>3</td>\n      <td>10</td>\n      <td>0</td>\n    </tr>\n    <tr>\n      <th>1</th>\n      <td>3518101279825</td>\n      <td>3</td>\n      <td>47</td>\n      <td>0</td>\n    </tr>\n    <tr>\n      <th>2</th>\n      <td>3518101457475</td>\n      <td>3</td>\n      <td>25</td>\n      <td>0</td>\n    </tr>\n    <tr>\n      <th>3</th>\n      <td>3518101457662</td>\n      <td>3</td>\n      <td>49</td>\n      <td>0</td>\n    </tr>\n    <tr>\n      <th>4</th>\n      <td>3518101525246</td>\n      <td>3</td>\n      <td>14</td>\n      <td>0</td>\n    </tr>\n  </tbody>\n</table>\n</div>",
      "text/plain": "           N_AIH  SEXO  IDADE  INSTRU\n0  3518101448609     3     10       0\n1  3518101279825     3     47       0\n2  3518101457475     3     25       0\n3  3518101457662     3     49       0\n4  3518101525246     3     14       0"
     },
     "execution_count": 87,
     "metadata": {},
     "output_type": "execute_result"
    }
   ],
   "source": [
    "df_rd = pd.read_csv('../../AIH/sih_sus_m_10_49.csv', sep='|', usecols=aih_types.keys(), dtype=aih_types)\r\n",
    "df_rd.head()"
   ]
  },
  {
   "cell_type": "markdown",
   "metadata": {},
   "source": [
    "### Concatenate March and April"
   ]
  },
  {
   "cell_type": "code",
   "execution_count": 88,
   "metadata": {},
   "outputs": [
    {
     "data": {
      "text/plain": "(1471357, 7)"
     },
     "execution_count": 88,
     "metadata": {},
     "output_type": "execute_result"
    }
   ],
   "source": [
    "# como as tabelas resultantes do filtro de procedimentos não retornaram valores, vamos concatenar apenas as de cid\r\n",
    "df_concat_sp_mar_apr = pd.concat([df_sp_mar_cids, df_sp_mar_proc, df_sp_apr_cids, df_sp_apr_proc])\r\n",
    "df_concat_sp_mar_apr.shape"
   ]
  },
  {
   "cell_type": "code",
   "execution_count": 90,
   "metadata": {},
   "outputs": [],
   "source": [
    "df_concat_sp_mar_apr.drop_duplicates(inplace=True)"
   ]
  },
  {
   "cell_type": "code",
   "execution_count": 35,
   "metadata": {},
   "outputs": [
    {
     "data": {
      "text/plain": "1133944"
     },
     "execution_count": 35,
     "metadata": {},
     "output_type": "execute_result"
    }
   ],
   "source": [
    "df_sp_mar_cids.shape[0] + df_sp_apr_cids.shape[0]"
   ]
  },
  {
   "cell_type": "code",
   "execution_count": 91,
   "metadata": {},
   "outputs": [],
   "source": [
    "del df_sp_mar\r\n",
    "del df_sp_apr"
   ]
  },
  {
   "cell_type": "markdown",
   "metadata": {},
   "source": [
    "### Left Merge between SP and RD datasets"
   ]
  },
  {
   "cell_type": "code",
   "execution_count": 92,
   "metadata": {},
   "outputs": [],
   "source": [
    "# merged_dfs = sp_df.merge(o_cids, left_on='SP_CIDPRI', right_on='code', how='left').drop('code', axis=1)\r\n",
    "merged_sp_rd = df_concat_sp_mar_apr.merge(df_rd, left_on='SP_NAIH', right_on='N_AIH', how='left').drop('N_AIH', axis=1)"
   ]
  },
  {
   "cell_type": "code",
   "execution_count": 25,
   "metadata": {},
   "outputs": [
    {
     "data": {
      "text/plain": "(6267475, 7)"
     },
     "execution_count": 25,
     "metadata": {},
     "output_type": "execute_result"
    }
   ],
   "source": [
    "merged_sp_rd.shape"
   ]
  },
  {
   "cell_type": "code",
   "execution_count": 93,
   "metadata": {},
   "outputs": [
    {
     "data": {
      "text/plain": "(1190649, 10)"
     },
     "execution_count": 93,
     "metadata": {},
     "output_type": "execute_result"
    }
   ],
   "source": [
    "merged_sp_rd = merged_sp_rd[merged_sp_rd['SEXO'].notna()]\r\n",
    "merged_sp_rd.shape"
   ]
  },
  {
   "cell_type": "code",
   "execution_count": 98,
   "metadata": {},
   "outputs": [
    {
     "data": {
      "text/html": "<div>\n<style scoped>\n    .dataframe tbody tr th:only-of-type {\n        vertical-align: middle;\n    }\n\n    .dataframe tbody tr th {\n        vertical-align: top;\n    }\n\n    .dataframe thead th {\n        text-align: right;\n    }\n</style>\n<table border=\"1\" class=\"dataframe\">\n  <thead>\n    <tr style=\"text-align: right;\">\n      <th></th>\n      <th>N_AIH</th>\n      <th>SEXO</th>\n      <th>IDADE</th>\n      <th>INSTRU</th>\n    </tr>\n  </thead>\n  <tbody>\n    <tr>\n      <th>0</th>\n      <td>3518101448609</td>\n      <td>3</td>\n      <td>10</td>\n      <td>0</td>\n    </tr>\n    <tr>\n      <th>1</th>\n      <td>3518101279825</td>\n      <td>3</td>\n      <td>47</td>\n      <td>0</td>\n    </tr>\n    <tr>\n      <th>2</th>\n      <td>3518101457475</td>\n      <td>3</td>\n      <td>25</td>\n      <td>0</td>\n    </tr>\n    <tr>\n      <th>3</th>\n      <td>3518101457662</td>\n      <td>3</td>\n      <td>49</td>\n      <td>0</td>\n    </tr>\n    <tr>\n      <th>4</th>\n      <td>3518101525246</td>\n      <td>3</td>\n      <td>14</td>\n      <td>0</td>\n    </tr>\n  </tbody>\n</table>\n</div>",
      "text/plain": "           N_AIH  SEXO  IDADE  INSTRU\n0  3518101448609     3     10       0\n1  3518101279825     3     47       0\n2  3518101457475     3     25       0\n3  3518101457662     3     49       0\n4  3518101525246     3     14       0"
     },
     "execution_count": 98,
     "metadata": {},
     "output_type": "execute_result"
    }
   ],
   "source": [
    "df_rd.head()"
   ]
  },
  {
   "cell_type": "markdown",
   "metadata": {},
   "source": [
    "### Group by AIH Number"
   ]
  },
  {
   "cell_type": "code",
   "execution_count": 94,
   "metadata": {},
   "outputs": [
    {
     "data": {
      "text/plain": "SP_NAIH\n3517103370550     7\n3517105344490    17\n3517105347096    16\n3517105347349    24\n3517105348724    26\n                 ..\n3518500587437     1\n3518500617148     1\n3518500639269     1\n3518500649830     1\n3518502074208     2\nName: SP_ATOPROF, Length: 85131, dtype: int64"
     },
     "execution_count": 94,
     "metadata": {},
     "output_type": "execute_result"
    }
   ],
   "source": [
    "group_by_aih = merged_sp_rd.groupby('SP_NAIH').count()['SP_ATOPROF']\r\n",
    "group_by_aih"
   ]
  },
  {
   "cell_type": "code",
   "execution_count": 95,
   "metadata": {},
   "outputs": [
    {
     "data": {
      "text/plain": "0"
     },
     "execution_count": 95,
     "metadata": {},
     "output_type": "execute_result"
    }
   ],
   "source": [
    "group_by_aih.isna().sum()"
   ]
  },
  {
   "cell_type": "code",
   "execution_count": 96,
   "metadata": {},
   "outputs": [
    {
     "data": {
      "text/plain": "count    85131.000000\nmean        13.986080\nstd          6.843525\nmin          1.000000\n25%         10.000000\n50%         14.000000\n75%         17.000000\nmax        400.000000\nName: SP_ATOPROF, dtype: float64"
     },
     "execution_count": 96,
     "metadata": {},
     "output_type": "execute_result"
    }
   ],
   "source": [
    "group_by_aih.describe()"
   ]
  },
  {
   "cell_type": "code",
   "execution_count": 97,
   "metadata": {},
   "outputs": [
    {
     "data": {
      "text/plain": "SP_NAIH\n3517107562881    400\n3517126938336    138\n3517128148556    177\n3517128303216    111\n3517128303238    117\n3518101249234    115\nName: SP_ATOPROF, dtype: int64"
     },
     "execution_count": 97,
     "metadata": {},
     "output_type": "execute_result"
    }
   ],
   "source": [
    "group_by_aih[group_by_aih.where(group_by_aih > 100).notna()] "
   ]
  },
  {
   "cell_type": "markdown",
   "metadata": {},
   "source": [
    "### Group by ATO PROF"
   ]
  },
  {
   "cell_type": "code",
   "execution_count": 99,
   "metadata": {},
   "outputs": [
    {
     "data": {
      "text/plain": "SP_ATOPROF\n101020066        6\n101020074        1\n201010011        9\n201010020        1\n201010216        1\n             ...  \n802010032    33988\n802010083      393\n802010091       98\n802010105       28\n802010199     3793\nName: SP_NAIH, Length: 633, dtype: int64"
     },
     "execution_count": 99,
     "metadata": {},
     "output_type": "execute_result"
    }
   ],
   "source": [
    "group_by_proc = merged_sp_rd.groupby('SP_ATOPROF').count()['SP_NAIH']\r\n",
    "group_by_proc"
   ]
  },
  {
   "cell_type": "code",
   "execution_count": 100,
   "metadata": {},
   "outputs": [
    {
     "data": {
      "text/plain": "count      633.000000\nmean      1880.962085\nstd       8411.129658\nmin          1.000000\n25%          3.000000\n50%         13.000000\n75%        209.000000\nmax      85083.000000\nName: SP_NAIH, dtype: float64"
     },
     "execution_count": 100,
     "metadata": {},
     "output_type": "execute_result"
    }
   ],
   "source": [
    "group_by_proc.describe()"
   ]
  },
  {
   "cell_type": "code",
   "execution_count": 103,
   "metadata": {},
   "outputs": [
    {
     "data": {
      "text/plain": "SP_ATOPROF\n411020013    10154\n202050017    10400\n202010201    11777\n202031110    12217\n205020143    13676\n211040010    13844\n411010026    13851\n417010036    13912\n417010028    14229\n801010047    16510\n303100044    16620\n211070149    20134\n801010039    20772\n202120082    20846\n301010048    26554\n202020541    26692\n202020380    29324\n802010032    33988\n411010034    40071\n417010010    41673\n202120023    48572\n202031179    58202\n301010145    60989\n310010020    62406\n301010170    62649\n310010039    66469\n211040061    83083\n214010040    85083\nName: SP_NAIH, dtype: int64"
     },
     "execution_count": 103,
     "metadata": {},
     "output_type": "execute_result"
    }
   ],
   "source": [
    "group_by_proc[group_by_proc.where(group_by_proc > 10000).notna()].sort_values()"
   ]
  },
  {
   "cell_type": "code",
   "execution_count": 52,
   "metadata": {},
   "outputs": [
    {
     "data": {
      "text/html": "<div>\n<style scoped>\n    .dataframe tbody tr th:only-of-type {\n        vertical-align: middle;\n    }\n\n    .dataframe tbody tr th {\n        vertical-align: top;\n    }\n\n    .dataframe thead th {\n        text-align: right;\n    }\n</style>\n<table border=\"1\" class=\"dataframe\">\n  <thead>\n    <tr style=\"text-align: right;\">\n      <th></th>\n      <th>CODE</th>\n      <th>DESCRIPTION</th>\n    </tr>\n  </thead>\n  <tbody>\n  </tbody>\n</table>\n</div>",
      "text/plain": "Empty DataFrame\nColumns: [CODE, DESCRIPTION]\nIndex: []"
     },
     "execution_count": 52,
     "metadata": {},
     "output_type": "execute_result"
    }
   ],
   "source": [
    "procedures.query(\"CODE == '0301010170' \")"
   ]
  }
 ],
 "metadata": {
  "kernelspec": {
   "display_name": "Python 3.9.1 64-bit",
   "name": "python391jvsc74a57bd04a084a36094e489725b71fac19ba57eb7fcc3fecfd40d07ce3750367820fb29b"
  },
  "language_info": {
   "codemirror_mode": {
    "name": "ipython",
    "version": 3
   },
   "file_extension": ".py",
   "mimetype": "text/x-python",
   "name": "python",
   "nbconvert_exporter": "python",
   "pygments_lexer": "ipython3",
   "version": "3.9.1"
  },
  "metadata": {
   "interpreter": {
    "hash": "4a084a36094e489725b71fac19ba57eb7fcc3fecfd40d07ce3750367820fb29b"
   }
  },
  "orig_nbformat": 2
 },
 "nbformat": 4,
 "nbformat_minor": 2
}