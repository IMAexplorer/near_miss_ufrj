{
 "cells": [
  {
   "cell_type": "markdown",
   "metadata": {},
   "source": [
    "### Imports"
   ]
  },
  {
   "cell_type": "code",
   "execution_count": 82,
   "metadata": {},
   "outputs": [],
   "source": [
    "import numpy as np\n",
    "import pandas as pd"
   ]
  },
  {
   "cell_type": "markdown",
   "metadata": {},
   "source": [
    "### Read Data Sets"
   ]
  },
  {
   "cell_type": "code",
   "execution_count": 83,
   "metadata": {},
   "outputs": [],
   "source": [
    "types = {'SP_NAIH': str, 'SP_ATOPROF': str, 'SP_CIDPRI': str, 'SP_QTD_ATO': np.int32}"
   ]
  },
  {
   "cell_type": "markdown",
   "metadata": {},
   "source": [
    "#### CIDS"
   ]
  },
  {
   "cell_type": "code",
   "execution_count": 84,
   "metadata": {},
   "outputs": [
    {
     "output_type": "execute_result",
     "data": {
      "text/plain": [
       "         influence_type  code                           description\n",
       "0  Morte Materna Direta  O000                    Gravidez abdominal\n",
       "1  Morte Materna Direta  O001                      Gravidez tubária\n",
       "2  Morte Materna Direta  O002                     Gravidez ovariana\n",
       "3  Morte Materna Direta  O008    Outras formas de gravidez ectópica\n",
       "4  Morte Materna Direta  O009  Gravidez ectópica, não especificada "
      ],
      "text/html": "<div>\n<style scoped>\n    .dataframe tbody tr th:only-of-type {\n        vertical-align: middle;\n    }\n\n    .dataframe tbody tr th {\n        vertical-align: top;\n    }\n\n    .dataframe thead th {\n        text-align: right;\n    }\n</style>\n<table border=\"1\" class=\"dataframe\">\n  <thead>\n    <tr style=\"text-align: right;\">\n      <th></th>\n      <th>influence_type</th>\n      <th>code</th>\n      <th>description</th>\n    </tr>\n  </thead>\n  <tbody>\n    <tr>\n      <th>0</th>\n      <td>Morte Materna Direta</td>\n      <td>O000</td>\n      <td>Gravidez abdominal</td>\n    </tr>\n    <tr>\n      <th>1</th>\n      <td>Morte Materna Direta</td>\n      <td>O001</td>\n      <td>Gravidez tubária</td>\n    </tr>\n    <tr>\n      <th>2</th>\n      <td>Morte Materna Direta</td>\n      <td>O002</td>\n      <td>Gravidez ovariana</td>\n    </tr>\n    <tr>\n      <th>3</th>\n      <td>Morte Materna Direta</td>\n      <td>O008</td>\n      <td>Outras formas de gravidez ectópica</td>\n    </tr>\n    <tr>\n      <th>4</th>\n      <td>Morte Materna Direta</td>\n      <td>O009</td>\n      <td>Gravidez ectópica, não especificada</td>\n    </tr>\n  </tbody>\n</table>\n</div>"
     },
     "metadata": {},
     "execution_count": 84
    }
   ],
   "source": [
    "o_cids = pd.read_csv('../csv/o_cids.csv', sep=';')\n",
    "o_cids.head()"
   ]
  },
  {
   "cell_type": "markdown",
   "metadata": {},
   "source": [
    "#### Procedures"
   ]
  },
  {
   "cell_type": "code",
   "execution_count": 85,
   "metadata": {},
   "outputs": [
    {
     "output_type": "execute_result",
     "data": {
      "text/plain": [
       "        CODE                                        DESCRIPTION\n",
       "0  205020143                        Ultrassonografia obstétrica\n",
       "1  205020186                      Ultrassonografia transvaginal\n",
       "2  205010059       Ultrassonografia doppler de fluxo obstétrico\n",
       "3  205020151  Ultrassonografia obstétrica com doppler colori...\n",
       "4  201010011                                       Amniocentese"
      ],
      "text/html": "<div>\n<style scoped>\n    .dataframe tbody tr th:only-of-type {\n        vertical-align: middle;\n    }\n\n    .dataframe tbody tr th {\n        vertical-align: top;\n    }\n\n    .dataframe thead th {\n        text-align: right;\n    }\n</style>\n<table border=\"1\" class=\"dataframe\">\n  <thead>\n    <tr style=\"text-align: right;\">\n      <th></th>\n      <th>CODE</th>\n      <th>DESCRIPTION</th>\n    </tr>\n  </thead>\n  <tbody>\n    <tr>\n      <th>0</th>\n      <td>205020143</td>\n      <td>Ultrassonografia obstétrica</td>\n    </tr>\n    <tr>\n      <th>1</th>\n      <td>205020186</td>\n      <td>Ultrassonografia transvaginal</td>\n    </tr>\n    <tr>\n      <th>2</th>\n      <td>205010059</td>\n      <td>Ultrassonografia doppler de fluxo obstétrico</td>\n    </tr>\n    <tr>\n      <th>3</th>\n      <td>205020151</td>\n      <td>Ultrassonografia obstétrica com doppler colori...</td>\n    </tr>\n    <tr>\n      <th>4</th>\n      <td>201010011</td>\n      <td>Amniocentese</td>\n    </tr>\n  </tbody>\n</table>\n</div>"
     },
     "metadata": {},
     "execution_count": 85
    }
   ],
   "source": [
    "procedures = pd.read_csv('../data/procedimentos_obstetricia.csv', sep=';')\n",
    "procedures.head()"
   ]
  },
  {
   "cell_type": "markdown",
   "metadata": {},
   "source": [
    "#### March"
   ]
  },
  {
   "cell_type": "code",
   "execution_count": 86,
   "metadata": {},
   "outputs": [
    {
     "output_type": "execute_result",
     "data": {
      "text/plain": [
       "         SP_NAIH SP_ATOPROF  SP_QTD_ATO SP_CIDPRI\n",
       "0  3518100401101  303010061           1       A09\n",
       "1  3518100401101  301010170           8       A09\n",
       "2  3518100401101  301010170           1       A09\n",
       "3  3518100401101  301010170           1       A09\n",
       "4  3518100401101  802010040           1       A09"
      ],
      "text/html": "<div>\n<style scoped>\n    .dataframe tbody tr th:only-of-type {\n        vertical-align: middle;\n    }\n\n    .dataframe tbody tr th {\n        vertical-align: top;\n    }\n\n    .dataframe thead th {\n        text-align: right;\n    }\n</style>\n<table border=\"1\" class=\"dataframe\">\n  <thead>\n    <tr style=\"text-align: right;\">\n      <th></th>\n      <th>SP_NAIH</th>\n      <th>SP_ATOPROF</th>\n      <th>SP_QTD_ATO</th>\n      <th>SP_CIDPRI</th>\n    </tr>\n  </thead>\n  <tbody>\n    <tr>\n      <th>0</th>\n      <td>3518100401101</td>\n      <td>303010061</td>\n      <td>1</td>\n      <td>A09</td>\n    </tr>\n    <tr>\n      <th>1</th>\n      <td>3518100401101</td>\n      <td>301010170</td>\n      <td>8</td>\n      <td>A09</td>\n    </tr>\n    <tr>\n      <th>2</th>\n      <td>3518100401101</td>\n      <td>301010170</td>\n      <td>1</td>\n      <td>A09</td>\n    </tr>\n    <tr>\n      <th>3</th>\n      <td>3518100401101</td>\n      <td>301010170</td>\n      <td>1</td>\n      <td>A09</td>\n    </tr>\n    <tr>\n      <th>4</th>\n      <td>3518100401101</td>\n      <td>802010040</td>\n      <td>1</td>\n      <td>A09</td>\n    </tr>\n  </tbody>\n</table>\n</div>"
     },
     "metadata": {},
     "execution_count": 86
    }
   ],
   "source": [
    "df_sp_mar = pd.read_csv('../../sp_csv/SPSP1803.csv', sep=',', usecols=types.keys(), dtype=types)\n",
    "df_sp_mar[\"SP_ATOPROF\"] = df_sp_mar[\"SP_ATOPROF\"].str[1:]\n",
    "df_sp_mar.head()"
   ]
  },
  {
   "cell_type": "code",
   "execution_count": 87,
   "metadata": {},
   "outputs": [
    {
     "output_type": "execute_result",
     "data": {
      "text/plain": [
       "(3081817, 4)"
      ]
     },
     "metadata": {},
     "execution_count": 87
    }
   ],
   "source": [
    "df_sp_mar.shape"
   ]
  },
  {
   "cell_type": "markdown",
   "metadata": {},
   "source": [
    "##### Filter CID "
   ]
  },
  {
   "cell_type": "code",
   "execution_count": 88,
   "metadata": {},
   "outputs": [],
   "source": [
    "df_sp_mar_cids = df_sp_mar.merge(o_cids, left_on='SP_CIDPRI', right_on='code', how='left').drop('code', axis=1)\n",
    "\n",
    "df_sp_mar_cids = df_sp_mar_cids[df_sp_mar_cids['influence_type'].notna()]"
   ]
  },
  {
   "cell_type": "code",
   "execution_count": 132,
   "metadata": {},
   "outputs": [
    {
     "output_type": "execute_result",
     "data": {
      "text/plain": [
       "(568700, 6)"
      ]
     },
     "metadata": {},
     "execution_count": 132
    }
   ],
   "source": [
    "df_sp_mar_cids.shape"
   ]
  },
  {
   "cell_type": "markdown",
   "metadata": {},
   "source": [
    "##### Filter Procedures"
   ]
  },
  {
   "cell_type": "code",
   "execution_count": 90,
   "metadata": {},
   "outputs": [],
   "source": [
    "df_sp_mar_proc = df_sp_mar.merge(procedures, left_on='SP_ATOPROF', right_on='CODE', how='left').drop('CODE', axis=1)\n",
    "df_sp_mar_proc = df_sp_mar_proc[df_sp_mar_proc['DESCRIPTION'].notna()]"
   ]
  },
  {
   "cell_type": "code",
   "execution_count": 133,
   "metadata": {},
   "outputs": [
    {
     "output_type": "execute_result",
     "data": {
      "text/plain": [
       "(169809, 5)"
      ]
     },
     "metadata": {},
     "execution_count": 133
    }
   ],
   "source": [
    "df_sp_mar_proc.shape"
   ]
  },
  {
   "cell_type": "markdown",
   "metadata": {},
   "source": [
    "#### April"
   ]
  },
  {
   "cell_type": "code",
   "execution_count": 134,
   "metadata": {},
   "outputs": [
    {
     "output_type": "execute_result",
     "data": {
      "text/plain": [
       "(3088703, 4)"
      ]
     },
     "metadata": {},
     "execution_count": 134
    }
   ],
   "source": [
    "df_sp_apr = pd.read_csv('../../sp_csv/SPSP1804.csv', sep=',', usecols=types.keys(), dtype=types)\n",
    "df_sp_apr[\"SP_ATOPROF\"] = df_sp_apr[\"SP_ATOPROF\"].str[1:]\n",
    "df_sp_apr.shape"
   ]
  },
  {
   "cell_type": "markdown",
   "metadata": {},
   "source": [
    "##### Filter CIDS"
   ]
  },
  {
   "cell_type": "code",
   "execution_count": 94,
   "metadata": {},
   "outputs": [],
   "source": [
    "df_sp_apr_cids = df_sp_apr.merge(o_cids, left_on='SP_CIDPRI', right_on='code', how='left').drop('code', axis=1)\n",
    "df_sp_apr_cids = df_sp_apr_cids[df_sp_apr_cids['influence_type'].notna()]"
   ]
  },
  {
   "cell_type": "code",
   "execution_count": 135,
   "metadata": {},
   "outputs": [
    {
     "output_type": "execute_result",
     "data": {
      "text/plain": [
       "(565244, 6)"
      ]
     },
     "metadata": {},
     "execution_count": 135
    }
   ],
   "source": [
    "df_sp_apr_cids.shape"
   ]
  },
  {
   "cell_type": "code",
   "execution_count": 96,
   "metadata": {},
   "outputs": [
    {
     "output_type": "execute_result",
     "data": {
      "text/plain": [
       "(565244, 6)"
      ]
     },
     "metadata": {},
     "execution_count": 96
    }
   ],
   "source": [
    "df_sp_apr_cids.shape"
   ]
  },
  {
   "cell_type": "markdown",
   "metadata": {},
   "source": [
    "##### Filter Procedures"
   ]
  },
  {
   "cell_type": "code",
   "execution_count": 97,
   "metadata": {},
   "outputs": [],
   "source": [
    "df_sp_apr_proc = df_sp_apr.merge(procedures, left_on='SP_ATOPROF', right_on='CODE', how='left').drop('CODE', axis=1)\n",
    "df_sp_apr_proc = df_sp_apr_proc[df_sp_apr_proc['DESCRIPTION'].notna()]"
   ]
  },
  {
   "cell_type": "code",
   "execution_count": 136,
   "metadata": {},
   "outputs": [
    {
     "output_type": "execute_result",
     "data": {
      "text/plain": [
       "(167604, 5)"
      ]
     },
     "metadata": {},
     "execution_count": 136
    }
   ],
   "source": [
    "df_sp_apr_proc.shape"
   ]
  },
  {
   "cell_type": "markdown",
   "metadata": {},
   "source": [
    "#### RD"
   ]
  },
  {
   "cell_type": "code",
   "execution_count": 99,
   "metadata": {},
   "outputs": [],
   "source": [
    "aih_types = {'N_AIH': str, 'SEXO': np.int32, 'IDADE': np.int32,'INSTRU':np.int32,}"
   ]
  },
  {
   "cell_type": "code",
   "execution_count": 100,
   "metadata": {},
   "outputs": [
    {
     "output_type": "execute_result",
     "data": {
      "text/plain": [
       "           N_AIH  SEXO  IDADE  INSTRU\n",
       "0  3518101448609     3     10       0\n",
       "1  3518101279825     3     47       0\n",
       "2  3518101457475     3     25       0\n",
       "3  3518101457662     3     49       0\n",
       "4  3518101525246     3     14       0"
      ],
      "text/html": "<div>\n<style scoped>\n    .dataframe tbody tr th:only-of-type {\n        vertical-align: middle;\n    }\n\n    .dataframe tbody tr th {\n        vertical-align: top;\n    }\n\n    .dataframe thead th {\n        text-align: right;\n    }\n</style>\n<table border=\"1\" class=\"dataframe\">\n  <thead>\n    <tr style=\"text-align: right;\">\n      <th></th>\n      <th>N_AIH</th>\n      <th>SEXO</th>\n      <th>IDADE</th>\n      <th>INSTRU</th>\n    </tr>\n  </thead>\n  <tbody>\n    <tr>\n      <th>0</th>\n      <td>3518101448609</td>\n      <td>3</td>\n      <td>10</td>\n      <td>0</td>\n    </tr>\n    <tr>\n      <th>1</th>\n      <td>3518101279825</td>\n      <td>3</td>\n      <td>47</td>\n      <td>0</td>\n    </tr>\n    <tr>\n      <th>2</th>\n      <td>3518101457475</td>\n      <td>3</td>\n      <td>25</td>\n      <td>0</td>\n    </tr>\n    <tr>\n      <th>3</th>\n      <td>3518101457662</td>\n      <td>3</td>\n      <td>49</td>\n      <td>0</td>\n    </tr>\n    <tr>\n      <th>4</th>\n      <td>3518101525246</td>\n      <td>3</td>\n      <td>14</td>\n      <td>0</td>\n    </tr>\n  </tbody>\n</table>\n</div>"
     },
     "metadata": {},
     "execution_count": 100
    }
   ],
   "source": [
    "df_rd = pd.read_csv('/home/gxfs/Downloads/sih_sus_m_10_49.csv', sep='|', usecols=aih_types.keys(), dtype=aih_types)\n",
    "df_rd.head()"
   ]
  },
  {
   "cell_type": "markdown",
   "metadata": {},
   "source": [
    "### Concatenate March and April"
   ]
  },
  {
   "cell_type": "code",
   "execution_count": 101,
   "metadata": {},
   "outputs": [
    {
     "output_type": "execute_result",
     "data": {
      "text/plain": [
       "(1471357, 7)"
      ]
     },
     "metadata": {},
     "execution_count": 101
    }
   ],
   "source": [
    "# como as tabelas resultantes do filtro de procedimentos não retornaram valores, vamos concatenar apenas as de cid\n",
    "df_concat_sp_mar_apr = pd.concat([df_sp_mar_cids, df_sp_mar_proc, df_sp_apr_cids, df_sp_apr_proc])\n",
    "df_concat_sp_mar_apr.shape"
   ]
  },
  {
   "cell_type": "code",
   "execution_count": 102,
   "metadata": {},
   "outputs": [],
   "source": [
    "df_concat_sp_mar_apr.drop_duplicates(inplace=True)"
   ]
  },
  {
   "cell_type": "code",
   "execution_count": 103,
   "metadata": {},
   "outputs": [
    {
     "output_type": "execute_result",
     "data": {
      "text/plain": [
       "1133944"
      ]
     },
     "metadata": {},
     "execution_count": 103
    }
   ],
   "source": [
    "df_sp_mar_cids.shape[0] + df_sp_apr_cids.shape[0]"
   ]
  },
  {
   "cell_type": "code",
   "execution_count": 104,
   "metadata": {},
   "outputs": [],
   "source": [
    "del df_sp_mar\n",
    "del df_sp_apr"
   ]
  },
  {
   "cell_type": "markdown",
   "metadata": {},
   "source": [
    "### Left Merge between SP and RD datasets"
   ]
  },
  {
   "cell_type": "code",
   "execution_count": 105,
   "metadata": {},
   "outputs": [],
   "source": [
    "# merged_dfs = sp_df.merge(o_cids, left_on='SP_CIDPRI', right_on='code', how='left').drop('code', axis=1)\n",
    "merged_sp_rd = df_concat_sp_mar_apr.merge(df_rd, left_on='SP_NAIH', right_on='N_AIH', how='left').drop('N_AIH', axis=1)"
   ]
  },
  {
   "cell_type": "code",
   "execution_count": 106,
   "metadata": {},
   "outputs": [
    {
     "output_type": "execute_result",
     "data": {
      "text/plain": [
       "(1204467, 10)"
      ]
     },
     "metadata": {},
     "execution_count": 106
    }
   ],
   "source": [
    "merged_sp_rd.shape"
   ]
  },
  {
   "cell_type": "code",
   "execution_count": 107,
   "metadata": {},
   "outputs": [
    {
     "output_type": "execute_result",
     "data": {
      "text/plain": [
       "(1190649, 10)"
      ]
     },
     "metadata": {},
     "execution_count": 107
    }
   ],
   "source": [
    "merged_sp_rd = merged_sp_rd[merged_sp_rd['SEXO'].notna()]\n",
    "merged_sp_rd.shape"
   ]
  },
  {
   "cell_type": "code",
   "execution_count": 108,
   "metadata": {},
   "outputs": [
    {
     "output_type": "execute_result",
     "data": {
      "text/plain": [
       "           N_AIH  SEXO  IDADE  INSTRU\n",
       "0  3518101448609     3     10       0\n",
       "1  3518101279825     3     47       0\n",
       "2  3518101457475     3     25       0\n",
       "3  3518101457662     3     49       0\n",
       "4  3518101525246     3     14       0"
      ],
      "text/html": "<div>\n<style scoped>\n    .dataframe tbody tr th:only-of-type {\n        vertical-align: middle;\n    }\n\n    .dataframe tbody tr th {\n        vertical-align: top;\n    }\n\n    .dataframe thead th {\n        text-align: right;\n    }\n</style>\n<table border=\"1\" class=\"dataframe\">\n  <thead>\n    <tr style=\"text-align: right;\">\n      <th></th>\n      <th>N_AIH</th>\n      <th>SEXO</th>\n      <th>IDADE</th>\n      <th>INSTRU</th>\n    </tr>\n  </thead>\n  <tbody>\n    <tr>\n      <th>0</th>\n      <td>3518101448609</td>\n      <td>3</td>\n      <td>10</td>\n      <td>0</td>\n    </tr>\n    <tr>\n      <th>1</th>\n      <td>3518101279825</td>\n      <td>3</td>\n      <td>47</td>\n      <td>0</td>\n    </tr>\n    <tr>\n      <th>2</th>\n      <td>3518101457475</td>\n      <td>3</td>\n      <td>25</td>\n      <td>0</td>\n    </tr>\n    <tr>\n      <th>3</th>\n      <td>3518101457662</td>\n      <td>3</td>\n      <td>49</td>\n      <td>0</td>\n    </tr>\n    <tr>\n      <th>4</th>\n      <td>3518101525246</td>\n      <td>3</td>\n      <td>14</td>\n      <td>0</td>\n    </tr>\n  </tbody>\n</table>\n</div>"
     },
     "metadata": {},
     "execution_count": 108
    }
   ],
   "source": [
    "df_rd.head()"
   ]
  },
  {
   "cell_type": "markdown",
   "metadata": {},
   "source": [
    "### Group by AIH Number"
   ]
  },
  {
   "cell_type": "code",
   "execution_count": 109,
   "metadata": {},
   "outputs": [
    {
     "output_type": "execute_result",
     "data": {
      "text/plain": [
       "SP_NAIH\n",
       "3517103370550     7\n",
       "3517105344490    17\n",
       "3517105347096    16\n",
       "3517105347349    24\n",
       "3517105348724    26\n",
       "                 ..\n",
       "3518500587437     1\n",
       "3518500617148     1\n",
       "3518500639269     1\n",
       "3518500649830     1\n",
       "3518502074208     2\n",
       "Name: SP_ATOPROF, Length: 85131, dtype: int64"
      ]
     },
     "metadata": {},
     "execution_count": 109
    }
   ],
   "source": [
    "group_by_aih = merged_sp_rd.groupby('SP_NAIH').count()['SP_ATOPROF']\n",
    "group_by_aih"
   ]
  },
  {
   "cell_type": "code",
   "execution_count": 110,
   "metadata": {},
   "outputs": [
    {
     "output_type": "execute_result",
     "data": {
      "text/plain": [
       "0"
      ]
     },
     "metadata": {},
     "execution_count": 110
    }
   ],
   "source": [
    "group_by_aih.isna().sum()"
   ]
  },
  {
   "cell_type": "code",
   "execution_count": 112,
   "metadata": {},
   "outputs": [
    {
     "output_type": "execute_result",
     "data": {
      "text/plain": [
       "count    85131.000000\n",
       "mean        13.986080\n",
       "std          6.843525\n",
       "min          1.000000\n",
       "25%         10.000000\n",
       "50%         14.000000\n",
       "75%         17.000000\n",
       "max        400.000000\n",
       "Name: SP_ATOPROF, dtype: float64"
      ]
     },
     "metadata": {},
     "execution_count": 112
    }
   ],
   "source": [
    "group_by_aih.describe()"
   ]
  },
  {
   "cell_type": "code",
   "execution_count": 125,
   "metadata": {},
   "outputs": [
    {
     "output_type": "execute_result",
     "data": {
      "text/plain": [
       "SP_NAIH\n",
       "3517107562881    400\n",
       "3517128148556    177\n",
       "3517126938336    138\n",
       "3517128303238    117\n",
       "3518101249234    115\n",
       "3517128303216    111\n",
       "3518102279373     93\n",
       "3518104118518     93\n",
       "3517128302765     92\n",
       "3518115764383     91\n",
       "Name: SP_ATOPROF, dtype: int64"
      ]
     },
     "metadata": {},
     "execution_count": 125
    }
   ],
   "source": [
    "group_by_aih[group_by_aih.where(group_by_aih > 90).notna()].sort_values(ascending=False).head(10)"
   ]
  },
  {
   "cell_type": "markdown",
   "metadata": {},
   "source": [
    "### Group by ATO PROF"
   ]
  },
  {
   "cell_type": "code",
   "execution_count": 144,
   "metadata": {},
   "outputs": [
    {
     "output_type": "execute_result",
     "data": {
      "text/plain": [
       "SP_ATOPROF\n",
       "101020066        6\n",
       "101020074        1\n",
       "201010011        9\n",
       "201010020        1\n",
       "201010216        1\n",
       "             ...  \n",
       "802010032    33988\n",
       "802010083      393\n",
       "802010091       98\n",
       "802010105       28\n",
       "802010199     3793\n",
       "Name: SP_NAIH, Length: 633, dtype: int64"
      ]
     },
     "metadata": {},
     "execution_count": 144
    }
   ],
   "source": [
    "group_by_proc = merged_sp_rd.groupby('SP_ATOPROF').count()['SP_NAIH']\n",
    "group_by_proc"
   ]
  },
  {
   "cell_type": "code",
   "execution_count": 129,
   "metadata": {},
   "outputs": [
    {
     "output_type": "execute_result",
     "data": {
      "text/plain": [
       "count      633.000000\n",
       "mean      1880.962085\n",
       "std       8411.129658\n",
       "min          1.000000\n",
       "25%          3.000000\n",
       "50%         13.000000\n",
       "75%        209.000000\n",
       "max      85083.000000\n",
       "Name: SP_NAIH, dtype: float64"
      ]
     },
     "metadata": {},
     "execution_count": 129
    }
   ],
   "source": [
    "group_by_proc.describe()"
   ]
  },
  {
   "cell_type": "code",
   "execution_count": 145,
   "metadata": {},
   "outputs": [
    {
     "output_type": "execute_result",
     "data": {
      "text/plain": [
       "SP_ATOPROF\n",
       "214010040    85083\n",
       "211040061    83083\n",
       "310010039    66469\n",
       "301010170    62649\n",
       "310010020    62406\n",
       "301010145    60989\n",
       "202031179    58202\n",
       "202120023    48572\n",
       "417010010    41673\n",
       "411010034    40071\n",
       "802010032    33988\n",
       "202020380    29324\n",
       "202020541    26692\n",
       "301010048    26554\n",
       "202120082    20846\n",
       "801010039    20772\n",
       "211070149    20134\n",
       "303100044    16620\n",
       "801010047    16510\n",
       "417010028    14229\n",
       "Name: SP_NAIH, dtype: int64"
      ]
     },
     "metadata": {},
     "execution_count": 145
    }
   ],
   "source": [
    "group_by_proc[group_by_proc.where(group_by_proc > 10000).notna()].sort_values(ascending=False).head(20)"
   ]
  },
  {
   "cell_type": "code",
   "execution_count": 183,
   "metadata": {},
   "outputs": [
    {
     "output_type": "execute_result",
     "data": {
      "text/plain": [
       "        QTD         CODE                                        DESCRIPTION\n",
       "0       NaN    205020143                        Ultrassonografia obstétrica\n",
       "1       NaN    205020186                      Ultrassonografia transvaginal\n",
       "2       NaN    205010059       Ultrassonografia doppler de fluxo obstétrico\n",
       "3       NaN    205020151  Ultrassonografia obstétrica com doppler colori...\n",
       "4       NaN    201010011                                       Amniocentese\n",
       "5       NaN    211040010                                        Amnioscopia\n",
       "6   83083.0    211040061                         Tococardiografia anteparto\n",
       "7   85083.0    214010040      Teste rápido para detecção de HIV em gestante\n",
       "8       NaN    310010012                  Assistência ao parto sem distócia\n",
       "9   66469.0    310010039                                       Parto normal\n",
       "10      NaN    310010047             Parto normal em gestação de alto risco\n",
       "11      NaN    310010055       Parto normal em centro de parto normal (CPN)\n",
       "12      NaN    303100010  Tratamento de complicações relacionadas predom...\n",
       "13      NaN    303100028                            Tratamento de eclâmpsia\n",
       "14      NaN    303100036  Tratamento de edema, proteinúria e transtornos...\n",
       "15  16620.0    303100044  Tratamento de intercorrências clínicas na grav...\n",
       "16      NaN    303100052                     Tratamento de mola hidatiforme\n",
       "17      NaN  0409060011                          Cerclagem de colo do útero\n",
       "18      NaN    409060046  Curetagem semiótica com ou sem dilatação do co...\n",
       "19      NaN    409060054              Curetagem uterina em mola hidatiforme\n",
       "20      NaN    409060062                         Dilatação de colo de útero\n",
       "21      NaN    409060070  Esvaziamento de útero pós-aborto por aspiração...\n",
       "22      NaN    409060160                                      Histerorrafia\n",
       "23      NaN    411010018                    Descolamento manual de placenta\n",
       "24      NaN    411010026          Parto cesariano em gestação de alto risco\n",
       "25  40071.0    411010034                                    Parto cesariano\n",
       "26      NaN    411010042             Parto cesariano com laqueadura tubária\n",
       "27      NaN    411010050  Redução manual de inversão uterina aguda pós-p...\n",
       "28      NaN    411010069               Ressutura de episiorrafia pós-parto \n",
       "29      NaN    411010077  Sutura de lacerações de trajeto pélvico (no pa...\n",
       "30      NaN    411010085  Tratamento cirúrgico de inversão uterina aguda...\n",
       "31      NaN    411020013                Curetagem pos-abortamento/puerperal\n",
       "32      NaN    411020021                                        Embriotomia\n",
       "33      NaN    411020030                            Histerectomia puerperal\n",
       "34      NaN    411020048          Tratamento cirúrgico de gravidez ectópica\n",
       "35      NaN    411020056  Tratamento de outros transtornos maternos rela...\n",
       "36  14229.0    417010028              Analgesia Obstétrica p/ Parto Normal\n",
       "37  41673.0    417010010                 Anestesia Obstétrica p/ Cesariana\n",
       "38      NaN    417010036  Anestesia Obstétrica p/ Cesariana em Gestaça...\n",
       "39      NaN  0603040012                 Administração de Cabergolina 0,5mg \n",
       "40      NaN    603030017                             Imunoglobulina anti-Rh"
      ],
      "text/html": "<div>\n<style scoped>\n    .dataframe tbody tr th:only-of-type {\n        vertical-align: middle;\n    }\n\n    .dataframe tbody tr th {\n        vertical-align: top;\n    }\n\n    .dataframe thead th {\n        text-align: right;\n    }\n</style>\n<table border=\"1\" class=\"dataframe\">\n  <thead>\n    <tr style=\"text-align: right;\">\n      <th></th>\n      <th>QTD</th>\n      <th>CODE</th>\n      <th>DESCRIPTION</th>\n    </tr>\n  </thead>\n  <tbody>\n    <tr>\n      <th>0</th>\n      <td>NaN</td>\n      <td>205020143</td>\n      <td>Ultrassonografia obstétrica</td>\n    </tr>\n    <tr>\n      <th>1</th>\n      <td>NaN</td>\n      <td>205020186</td>\n      <td>Ultrassonografia transvaginal</td>\n    </tr>\n    <tr>\n      <th>2</th>\n      <td>NaN</td>\n      <td>205010059</td>\n      <td>Ultrassonografia doppler de fluxo obstétrico</td>\n    </tr>\n    <tr>\n      <th>3</th>\n      <td>NaN</td>\n      <td>205020151</td>\n      <td>Ultrassonografia obstétrica com doppler colori...</td>\n    </tr>\n    <tr>\n      <th>4</th>\n      <td>NaN</td>\n      <td>201010011</td>\n      <td>Amniocentese</td>\n    </tr>\n    <tr>\n      <th>5</th>\n      <td>NaN</td>\n      <td>211040010</td>\n      <td>Amnioscopia</td>\n    </tr>\n    <tr>\n      <th>6</th>\n      <td>83083.0</td>\n      <td>211040061</td>\n      <td>Tococardiografia anteparto</td>\n    </tr>\n    <tr>\n      <th>7</th>\n      <td>85083.0</td>\n      <td>214010040</td>\n      <td>Teste rápido para detecção de HIV em gestante</td>\n    </tr>\n    <tr>\n      <th>8</th>\n      <td>NaN</td>\n      <td>310010012</td>\n      <td>Assistência ao parto sem distócia</td>\n    </tr>\n    <tr>\n      <th>9</th>\n      <td>66469.0</td>\n      <td>310010039</td>\n      <td>Parto normal</td>\n    </tr>\n    <tr>\n      <th>10</th>\n      <td>NaN</td>\n      <td>310010047</td>\n      <td>Parto normal em gestação de alto risco</td>\n    </tr>\n    <tr>\n      <th>11</th>\n      <td>NaN</td>\n      <td>310010055</td>\n      <td>Parto normal em centro de parto normal (CPN)</td>\n    </tr>\n    <tr>\n      <th>12</th>\n      <td>NaN</td>\n      <td>303100010</td>\n      <td>Tratamento de complicações relacionadas predom...</td>\n    </tr>\n    <tr>\n      <th>13</th>\n      <td>NaN</td>\n      <td>303100028</td>\n      <td>Tratamento de eclâmpsia</td>\n    </tr>\n    <tr>\n      <th>14</th>\n      <td>NaN</td>\n      <td>303100036</td>\n      <td>Tratamento de edema, proteinúria e transtornos...</td>\n    </tr>\n    <tr>\n      <th>15</th>\n      <td>16620.0</td>\n      <td>303100044</td>\n      <td>Tratamento de intercorrências clínicas na grav...</td>\n    </tr>\n    <tr>\n      <th>16</th>\n      <td>NaN</td>\n      <td>303100052</td>\n      <td>Tratamento de mola hidatiforme</td>\n    </tr>\n    <tr>\n      <th>17</th>\n      <td>NaN</td>\n      <td>0409060011</td>\n      <td>Cerclagem de colo do útero</td>\n    </tr>\n    <tr>\n      <th>18</th>\n      <td>NaN</td>\n      <td>409060046</td>\n      <td>Curetagem semiótica com ou sem dilatação do co...</td>\n    </tr>\n    <tr>\n      <th>19</th>\n      <td>NaN</td>\n      <td>409060054</td>\n      <td>Curetagem uterina em mola hidatiforme</td>\n    </tr>\n    <tr>\n      <th>20</th>\n      <td>NaN</td>\n      <td>409060062</td>\n      <td>Dilatação de colo de útero</td>\n    </tr>\n    <tr>\n      <th>21</th>\n      <td>NaN</td>\n      <td>409060070</td>\n      <td>Esvaziamento de útero pós-aborto por aspiração...</td>\n    </tr>\n    <tr>\n      <th>22</th>\n      <td>NaN</td>\n      <td>409060160</td>\n      <td>Histerorrafia</td>\n    </tr>\n    <tr>\n      <th>23</th>\n      <td>NaN</td>\n      <td>411010018</td>\n      <td>Descolamento manual de placenta</td>\n    </tr>\n    <tr>\n      <th>24</th>\n      <td>NaN</td>\n      <td>411010026</td>\n      <td>Parto cesariano em gestação de alto risco</td>\n    </tr>\n    <tr>\n      <th>25</th>\n      <td>40071.0</td>\n      <td>411010034</td>\n      <td>Parto cesariano</td>\n    </tr>\n    <tr>\n      <th>26</th>\n      <td>NaN</td>\n      <td>411010042</td>\n      <td>Parto cesariano com laqueadura tubária</td>\n    </tr>\n    <tr>\n      <th>27</th>\n      <td>NaN</td>\n      <td>411010050</td>\n      <td>Redução manual de inversão uterina aguda pós-p...</td>\n    </tr>\n    <tr>\n      <th>28</th>\n      <td>NaN</td>\n      <td>411010069</td>\n      <td>Ressutura de episiorrafia pós-parto</td>\n    </tr>\n    <tr>\n      <th>29</th>\n      <td>NaN</td>\n      <td>411010077</td>\n      <td>Sutura de lacerações de trajeto pélvico (no pa...</td>\n    </tr>\n    <tr>\n      <th>30</th>\n      <td>NaN</td>\n      <td>411010085</td>\n      <td>Tratamento cirúrgico de inversão uterina aguda...</td>\n    </tr>\n    <tr>\n      <th>31</th>\n      <td>NaN</td>\n      <td>411020013</td>\n      <td>Curetagem pos-abortamento/puerperal</td>\n    </tr>\n    <tr>\n      <th>32</th>\n      <td>NaN</td>\n      <td>411020021</td>\n      <td>Embriotomia</td>\n    </tr>\n    <tr>\n      <th>33</th>\n      <td>NaN</td>\n      <td>411020030</td>\n      <td>Histerectomia puerperal</td>\n    </tr>\n    <tr>\n      <th>34</th>\n      <td>NaN</td>\n      <td>411020048</td>\n      <td>Tratamento cirúrgico de gravidez ectópica</td>\n    </tr>\n    <tr>\n      <th>35</th>\n      <td>NaN</td>\n      <td>411020056</td>\n      <td>Tratamento de outros transtornos maternos rela...</td>\n    </tr>\n    <tr>\n      <th>36</th>\n      <td>14229.0</td>\n      <td>417010028</td>\n      <td>Analgesia Obstétrica p/ Parto Normal</td>\n    </tr>\n    <tr>\n      <th>37</th>\n      <td>41673.0</td>\n      <td>417010010</td>\n      <td>Anestesia Obstétrica p/ Cesariana</td>\n    </tr>\n    <tr>\n      <th>38</th>\n      <td>NaN</td>\n      <td>417010036</td>\n      <td>Anestesia Obstétrica p/ Cesariana em Gestaça...</td>\n    </tr>\n    <tr>\n      <th>39</th>\n      <td>NaN</td>\n      <td>0603040012</td>\n      <td>Administração de Cabergolina 0,5mg</td>\n    </tr>\n    <tr>\n      <th>40</th>\n      <td>NaN</td>\n      <td>603030017</td>\n      <td>Imunoglobulina anti-Rh</td>\n    </tr>\n  </tbody>\n</table>\n</div>"
     },
     "metadata": {},
     "execution_count": 183
    }
   ],
   "source": [
    "top_20_gb_proc = group_by_proc[group_by_proc.where(group_by_proc > 10000).notna()].sort_values(ascending=False).head(20)\n",
    "top_20_gb_proc_df = pd.DataFrame(data = top_20_gb_proc.values, columns = ['QTD'], index = top_20_gb_proc.index)\n",
    "top_20_gb_proc_df\n",
    "mergex = top_20_gb_proc_df.merge(procedures, left_on='SP_ATOPROF', right_on='CODE', how='right')\n",
    "mergex"
   ]
  },
  {
   "cell_type": "code",
   "execution_count": 184,
   "metadata": {},
   "outputs": [
    {
     "output_type": "execute_result",
     "data": {
      "text/plain": [
       "        QTD       CODE                                        DESCRIPTION\n",
       "6   83083.0  211040061                         Tococardiografia anteparto\n",
       "7   85083.0  214010040      Teste rápido para detecção de HIV em gestante\n",
       "9   66469.0  310010039                                       Parto normal\n",
       "15  16620.0  303100044  Tratamento de intercorrências clínicas na grav...\n",
       "25  40071.0  411010034                                    Parto cesariano\n",
       "36  14229.0  417010028              Analgesia Obstétrica p/ Parto Normal\n",
       "37  41673.0  417010010                 Anestesia Obstétrica p/ Cesariana"
      ],
      "text/html": "<div>\n<style scoped>\n    .dataframe tbody tr th:only-of-type {\n        vertical-align: middle;\n    }\n\n    .dataframe tbody tr th {\n        vertical-align: top;\n    }\n\n    .dataframe thead th {\n        text-align: right;\n    }\n</style>\n<table border=\"1\" class=\"dataframe\">\n  <thead>\n    <tr style=\"text-align: right;\">\n      <th></th>\n      <th>QTD</th>\n      <th>CODE</th>\n      <th>DESCRIPTION</th>\n    </tr>\n  </thead>\n  <tbody>\n    <tr>\n      <th>6</th>\n      <td>83083.0</td>\n      <td>211040061</td>\n      <td>Tococardiografia anteparto</td>\n    </tr>\n    <tr>\n      <th>7</th>\n      <td>85083.0</td>\n      <td>214010040</td>\n      <td>Teste rápido para detecção de HIV em gestante</td>\n    </tr>\n    <tr>\n      <th>9</th>\n      <td>66469.0</td>\n      <td>310010039</td>\n      <td>Parto normal</td>\n    </tr>\n    <tr>\n      <th>15</th>\n      <td>16620.0</td>\n      <td>303100044</td>\n      <td>Tratamento de intercorrências clínicas na grav...</td>\n    </tr>\n    <tr>\n      <th>25</th>\n      <td>40071.0</td>\n      <td>411010034</td>\n      <td>Parto cesariano</td>\n    </tr>\n    <tr>\n      <th>36</th>\n      <td>14229.0</td>\n      <td>417010028</td>\n      <td>Analgesia Obstétrica p/ Parto Normal</td>\n    </tr>\n    <tr>\n      <th>37</th>\n      <td>41673.0</td>\n      <td>417010010</td>\n      <td>Anestesia Obstétrica p/ Cesariana</td>\n    </tr>\n  </tbody>\n</table>\n</div>"
     },
     "metadata": {},
     "execution_count": 184
    }
   ],
   "source": [
    "mergex[mergex['QTD'].notna()]"
   ]
  },
  {
   "cell_type": "code",
   "execution_count": 188,
   "metadata": {},
   "outputs": [
    {
     "output_type": "execute_result",
     "data": {
      "text/plain": [
       "',QTD,CODE,DESCRIPTION\\n0,85083,214010040,Teste rápido para detecção de HIV em gestante\\n1,83083,211040061,Tococardiografia anteparto\\n2,66469,310010039,Parto normal\\n8,41673,417010010,Anestesia Obstétrica p/ Cesariana\\n9,40071,411010034,Parto cesariano\\n17,16620,303100044,Tratamento de intercorrências clínicas na gravidez\\n19,14229,417010028,Analgesia Obstétrica p/ Parto Normal\\n20,13912,417010036,Anestesia Obstétrica p/ Cesariana em Gestação de Alto Risco\\n21,13851,411010026,Parto cesariano em gestação de alto risco\\n22,13844,211040010,Amnioscopia\\n23,13676,205020143,Ultrassonografia obstétrica\\n27,10154,411020013,Curetagem pos-abortamento/puerperal\\n31,7884,310010047,Parto normal em gestação de alto risco\\n36,6608,603030017,Imunoglobulina anti-Rh\\n40,5341,205020186,Ultrassonografia transvaginal\\n47,3969,205020151,Ultrassonografia obstétrica com doppler colorido e pulsado\\n55,3747,205010059,Ultrassonografia doppler de fluxo obstétrico\\n60,2653,411010042,Parto cesariano com laqueadura tubária\\n91,865,303100010,Tratamento de complicações relacionadas predominantemente ao puerpério\\n94,823,411020048,Tratamento cirúrgico de gravidez ectópica\\n107,666,303100036,\"Tratamento de edema, proteinúria e transtornos hipertensivos na gravidez, parto e puerpério.\"\\n117,525,411010077,Sutura de lacerações de trajeto pélvico (no parto antes da admissão)\\n120,501,409060046,Curetagem semiótica com ou sem dilatação do colo uterino\\n129,424,310010055,Parto normal em centro de parto normal (CPN)\\n144,326,409060070,Esvaziamento de útero pós-aborto por aspiração manual intra-uterina (AMIU)\\n181,126,411020030,Histerectomia puerperal\\n186,109,409060054,Curetagem uterina em mola hidatiforme\\n203,81,303100028,Tratamento de eclâmpsia\\n253,30,411010018,Descolamento manual de placenta\\n290,20,411020056,Tratamento de outros transtornos maternos relacionados predominantemente à gravidez\\n334,11,409060160,Histerorrafia\\n349,9,201010011,Amniocentese\\n435,4,411020021,Embriotomia\\n437,4,303100052,Tratamento de mola hidatiforme\\n438,4,411010085,Tratamento cirúrgico de inversão uterina aguda pós-parto\\n443,4,411010050,Redução manual de inversão uterina aguda pós-parto\\n'"
      ]
     },
     "metadata": {},
     "execution_count": 188
    }
   ],
   "source": [
    "gb_proc = group_by_proc[group_by_proc.notna()].sort_values(ascending=False)\n",
    "gb_proc_df = pd.DataFrame(data = gb_proc.values, columns = ['QTD'], index = gb_proc.index)\n",
    "gb_proc_df\n",
    "gb_proc_desc_df = gb_proc_df.merge(procedures, left_on='SP_ATOPROF', right_on='CODE', how='left')\n",
    "gb_proc_desc_df[gb_proc_desc_df['DESCRIPTION'].notna()].to_csv()"
   ]
  },
  {
   "cell_type": "code",
   "execution_count": null,
   "metadata": {},
   "outputs": [],
   "source": []
  }
 ],
 "metadata": {
  "kernelspec": {
   "name": "python394jvsc74a57bd0767d51c1340bd893661ea55ea3124f6de3c7a262a8b4abca0554b478b1e2ff90",
   "display_name": "Python 3.9.4 64-bit"
  },
  "language_info": {
   "codemirror_mode": {
    "name": "ipython",
    "version": 3
   },
   "file_extension": ".py",
   "mimetype": "text/x-python",
   "name": "python",
   "nbconvert_exporter": "python",
   "pygments_lexer": "ipython3",
   "version": "3.9.4"
  },
  "metadata": {
   "interpreter": {
    "hash": "767d51c1340bd893661ea55ea3124f6de3c7a262a8b4abca0554b478b1e2ff90"
   }
  },
  "orig_nbformat": 2
 },
 "nbformat": 4,
 "nbformat_minor": 2
}