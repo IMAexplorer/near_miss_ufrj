{
 "cells": [
  {
   "cell_type": "markdown",
   "metadata": {},
   "source": [
    "### Imports"
   ]
  },
  {
   "cell_type": "code",
   "execution_count": 3,
   "metadata": {},
   "outputs": [],
   "source": [
    "import numpy as np\r\n",
    "import pandas as pd"
   ]
  },
  {
   "cell_type": "markdown",
   "metadata": {},
   "source": [
    "### Read Data Sets"
   ]
  },
  {
   "cell_type": "code",
   "execution_count": 4,
   "metadata": {},
   "outputs": [],
   "source": [
    "types = {'SP_NAIH': str, 'SP_ATOPROF': str, 'SP_CIDPRI': str, 'SP_QTD_ATO': np.int32}"
   ]
  },
  {
   "cell_type": "markdown",
   "metadata": {},
   "source": [
    "#### March"
   ]
  },
  {
   "cell_type": "code",
   "execution_count": 17,
   "metadata": {},
   "outputs": [
    {
     "data": {
      "text/html": "<div>\n<style scoped>\n    .dataframe tbody tr th:only-of-type {\n        vertical-align: middle;\n    }\n\n    .dataframe tbody tr th {\n        vertical-align: top;\n    }\n\n    .dataframe thead th {\n        text-align: right;\n    }\n</style>\n<table border=\"1\" class=\"dataframe\">\n  <thead>\n    <tr style=\"text-align: right;\">\n      <th></th>\n      <th>SP_NAIH</th>\n      <th>SP_ATOPROF</th>\n      <th>SP_QTD_ATO</th>\n      <th>SP_CIDPRI</th>\n    </tr>\n  </thead>\n  <tbody>\n    <tr>\n      <th>0</th>\n      <td>3518100401101</td>\n      <td>0303010061</td>\n      <td>1</td>\n      <td>A09</td>\n    </tr>\n    <tr>\n      <th>1</th>\n      <td>3518100401101</td>\n      <td>0301010170</td>\n      <td>8</td>\n      <td>A09</td>\n    </tr>\n    <tr>\n      <th>2</th>\n      <td>3518100401101</td>\n      <td>0301010170</td>\n      <td>1</td>\n      <td>A09</td>\n    </tr>\n    <tr>\n      <th>3</th>\n      <td>3518100401101</td>\n      <td>0301010170</td>\n      <td>1</td>\n      <td>A09</td>\n    </tr>\n    <tr>\n      <th>4</th>\n      <td>3518100401101</td>\n      <td>0802010040</td>\n      <td>1</td>\n      <td>A09</td>\n    </tr>\n  </tbody>\n</table>\n</div>",
      "text/plain": "         SP_NAIH  SP_ATOPROF  SP_QTD_ATO SP_CIDPRI\n0  3518100401101  0303010061           1       A09\n1  3518100401101  0301010170           8       A09\n2  3518100401101  0301010170           1       A09\n3  3518100401101  0301010170           1       A09\n4  3518100401101  0802010040           1       A09"
     },
     "execution_count": 17,
     "metadata": {},
     "output_type": "execute_result"
    }
   ],
   "source": [
    "df_sp_mar = pd.read_csv('../../SPSP/SPSP1803.csv', sep=',', usecols=types.keys(), dtype=types)\r\n",
    "df_sp_mar.head()"
   ]
  },
  {
   "cell_type": "code",
   "execution_count": 8,
   "metadata": {},
   "outputs": [
    {
     "data": {
      "text/plain": "(3081817, 2)"
     },
     "execution_count": 8,
     "metadata": {},
     "output_type": "execute_result"
    }
   ],
   "source": [
    "df_sp_mar.shape"
   ]
  },
  {
   "cell_type": "markdown",
   "metadata": {},
   "source": [
    "#### April"
   ]
  },
  {
   "cell_type": "code",
   "execution_count": 18,
   "metadata": {},
   "outputs": [
    {
     "data": {
      "text/html": "<div>\n<style scoped>\n    .dataframe tbody tr th:only-of-type {\n        vertical-align: middle;\n    }\n\n    .dataframe tbody tr th {\n        vertical-align: top;\n    }\n\n    .dataframe thead th {\n        text-align: right;\n    }\n</style>\n<table border=\"1\" class=\"dataframe\">\n  <thead>\n    <tr style=\"text-align: right;\">\n      <th></th>\n      <th>SP_NAIH</th>\n      <th>SP_ATOPROF</th>\n      <th>SP_QTD_ATO</th>\n      <th>SP_CIDPRI</th>\n    </tr>\n  </thead>\n  <tbody>\n    <tr>\n      <th>0</th>\n      <td>3518102098456</td>\n      <td>0303010061</td>\n      <td>1</td>\n      <td>A09</td>\n    </tr>\n    <tr>\n      <th>1</th>\n      <td>3518102098456</td>\n      <td>0802010083</td>\n      <td>5</td>\n      <td>A09</td>\n    </tr>\n    <tr>\n      <th>2</th>\n      <td>3518102098456</td>\n      <td>0206030010</td>\n      <td>1</td>\n      <td>A09</td>\n    </tr>\n    <tr>\n      <th>3</th>\n      <td>3518102098456</td>\n      <td>0206030037</td>\n      <td>1</td>\n      <td>A09</td>\n    </tr>\n    <tr>\n      <th>4</th>\n      <td>3518102098456</td>\n      <td>0603070019</td>\n      <td>1</td>\n      <td>A09</td>\n    </tr>\n  </tbody>\n</table>\n</div>",
      "text/plain": "         SP_NAIH  SP_ATOPROF  SP_QTD_ATO SP_CIDPRI\n0  3518102098456  0303010061           1       A09\n1  3518102098456  0802010083           5       A09\n2  3518102098456  0206030010           1       A09\n3  3518102098456  0206030037           1       A09\n4  3518102098456  0603070019           1       A09"
     },
     "execution_count": 18,
     "metadata": {},
     "output_type": "execute_result"
    }
   ],
   "source": [
    "df_sp_apr = pd.read_csv('../../SPSP/SPSP1804.csv', sep=',', usecols=types.keys(), dtype=types)\r\n",
    "df_sp_apr.head()"
   ]
  },
  {
   "cell_type": "code",
   "execution_count": 9,
   "metadata": {},
   "outputs": [],
   "source": [
    "aih_types = {'N_AIH': str, 'SEXO': np.int32, 'IDADE': np.int32, 'INSTRU': np.int32}"
   ]
  },
  {
   "cell_type": "markdown",
   "metadata": {},
   "source": [
    "#### RD"
   ]
  },
  {
   "cell_type": "code",
   "execution_count": 23,
   "metadata": {},
   "outputs": [
    {
     "data": {
      "text/html": "<div>\n<style scoped>\n    .dataframe tbody tr th:only-of-type {\n        vertical-align: middle;\n    }\n\n    .dataframe tbody tr th {\n        vertical-align: top;\n    }\n\n    .dataframe thead th {\n        text-align: right;\n    }\n</style>\n<table border=\"1\" class=\"dataframe\">\n  <thead>\n    <tr style=\"text-align: right;\">\n      <th></th>\n      <th>N_AIH</th>\n      <th>SEXO</th>\n      <th>IDADE</th>\n      <th>INSTRU</th>\n    </tr>\n  </thead>\n  <tbody>\n    <tr>\n      <th>0</th>\n      <td>3518101448609</td>\n      <td>3</td>\n      <td>10</td>\n      <td>0</td>\n    </tr>\n    <tr>\n      <th>1</th>\n      <td>3518101279825</td>\n      <td>3</td>\n      <td>47</td>\n      <td>0</td>\n    </tr>\n    <tr>\n      <th>2</th>\n      <td>3518101457475</td>\n      <td>3</td>\n      <td>25</td>\n      <td>0</td>\n    </tr>\n    <tr>\n      <th>3</th>\n      <td>3518101457662</td>\n      <td>3</td>\n      <td>49</td>\n      <td>0</td>\n    </tr>\n    <tr>\n      <th>4</th>\n      <td>3518101525246</td>\n      <td>3</td>\n      <td>14</td>\n      <td>0</td>\n    </tr>\n  </tbody>\n</table>\n</div>",
      "text/plain": "           N_AIH  SEXO  IDADE  INSTRU\n0  3518101448609     3     10       0\n1  3518101279825     3     47       0\n2  3518101457475     3     25       0\n3  3518101457662     3     49       0\n4  3518101525246     3     14       0"
     },
     "execution_count": 23,
     "metadata": {},
     "output_type": "execute_result"
    }
   ],
   "source": [
    "df_rd = pd.read_csv('../../AIH/sih_sus_m_10_49.csv', sep='|', usecols=aih_types.keys(), dtype=aih_types)\r\n",
    "df_rd.head()"
   ]
  },
  {
   "cell_type": "markdown",
   "metadata": {},
   "source": [
    "### Concatenate March and April"
   ]
  },
  {
   "cell_type": "code",
   "execution_count": 20,
   "metadata": {},
   "outputs": [
    {
     "data": {
      "text/plain": "(6170520, 4)"
     },
     "execution_count": 20,
     "metadata": {},
     "output_type": "execute_result"
    }
   ],
   "source": [
    "df_concat_sp_mar_apr = pd.concat([df_sp_mar, df_sp_apr])\r\n",
    "df_concat_sp_mar_apr.shape"
   ]
  },
  {
   "cell_type": "code",
   "execution_count": 21,
   "metadata": {},
   "outputs": [
    {
     "data": {
      "text/plain": "6170520"
     },
     "execution_count": 21,
     "metadata": {},
     "output_type": "execute_result"
    }
   ],
   "source": [
    "df_sp_mar.shape[0] + df_sp_apr.shape[0]"
   ]
  },
  {
   "cell_type": "code",
   "execution_count": 22,
   "metadata": {},
   "outputs": [],
   "source": [
    "del df_sp_mar\r\n",
    "del df_sp_apr"
   ]
  },
  {
   "cell_type": "markdown",
   "metadata": {},
   "source": [
    "### Left Merge between SP and RD datasets"
   ]
  },
  {
   "cell_type": "code",
   "execution_count": 24,
   "metadata": {},
   "outputs": [],
   "source": [
    "# merged_dfs = sp_df.merge(o_cids, left_on='SP_CIDPRI', right_on='code', how='left').drop('code', axis=1)\r\n",
    "merged_sp_rd = df_concat_sp_mar_apr.merge(df_rd, left_on='SP_NAIH', right_on='N_AIH', how='left').drop('N_AIH', axis=1)"
   ]
  },
  {
   "cell_type": "code",
   "execution_count": 25,
   "metadata": {},
   "outputs": [
    {
     "data": {
      "text/plain": "(6267475, 7)"
     },
     "execution_count": 25,
     "metadata": {},
     "output_type": "execute_result"
    }
   ],
   "source": [
    "merged_sp_rd.shape"
   ]
  },
  {
   "cell_type": "code",
   "execution_count": 26,
   "metadata": {},
   "outputs": [
    {
     "data": {
      "text/plain": "(1950224, 7)"
     },
     "execution_count": 26,
     "metadata": {},
     "output_type": "execute_result"
    }
   ],
   "source": [
    "merged_sp_rd = merged_sp_rd[merged_sp_rd['SEXO'].notna()]\r\n",
    "merged_sp_rd.shape"
   ]
  },
  {
   "cell_type": "markdown",
   "metadata": {},
   "source": [
    "### Group by AIH Number"
   ]
  },
  {
   "cell_type": "code",
   "execution_count": 31,
   "metadata": {},
   "outputs": [
    {
     "data": {
      "text/plain": "SP_NAIH\n3508100259059     72\n3508100259081     64\n3508100259125    288\n3508100259235     24\n3508100259290     64\n                ... \n9918300002886      4\n9918300002908      4\n9918300002919     16\n9918300002920      4\n9918300002996      6\nName: SP_ATOPROF, Length: 142622, dtype: int64"
     },
     "execution_count": 31,
     "metadata": {},
     "output_type": "execute_result"
    }
   ],
   "source": [
    "group_by_aih = merged_sp_rd.groupby('SP_NAIH').count()['SP_ATOPROF']\r\n",
    "group_by_aih"
   ]
  },
  {
   "cell_type": "code",
   "execution_count": 41,
   "metadata": {},
   "outputs": [
    {
     "data": {
      "text/plain": "0"
     },
     "execution_count": 41,
     "metadata": {},
     "output_type": "execute_result"
    }
   ],
   "source": [
    "group_by_aih.isna().sum()"
   ]
  },
  {
   "cell_type": "code",
   "execution_count": 33,
   "metadata": {},
   "outputs": [
    {
     "data": {
      "text/plain": "count    142622.000000\nmean         13.674076\nstd          16.703053\nmin           1.000000\n25%           7.000000\n50%          12.000000\n75%          16.000000\nmax        1248.000000\nName: SP_ATOPROF, dtype: float64"
     },
     "execution_count": 33,
     "metadata": {},
     "output_type": "execute_result"
    }
   ],
   "source": [
    "group_by_aih.describe()"
   ]
  },
  {
   "cell_type": "code",
   "execution_count": 46,
   "metadata": {},
   "outputs": [
    {
     "data": {
      "text/plain": "SP_NAIH\n3512106003340     576\n3512114842379     704\n3513116296085    1183\n3513121638940     640\n3514104833668     768\n3514106583086     686\n3515112983833     960\n3516108690590    1152\n3516108690611    1216\n3516115989606    1216\n3516115989617    1248\n3516115989639    1200\n3516118590853    1008\n3516123381639     896\n3517107560835     912\n3517107562089    1120\n3517107562782     576\n3517107562881     736\n3517107563827    1088\n3517121081628     532\nName: SP_ATOPROF, dtype: int64"
     },
     "execution_count": 46,
     "metadata": {},
     "output_type": "execute_result"
    }
   ],
   "source": [
    "group_by_aih[group_by_aih.where(group_by_aih > 500).notna()] "
   ]
  },
  {
   "cell_type": "markdown",
   "metadata": {},
   "source": [
    "### Group by ATO PROF"
   ]
  },
  {
   "cell_type": "code",
   "execution_count": 53,
   "metadata": {},
   "outputs": [
    {
     "data": {
      "text/plain": "SP_ATOPROF\n0101020066      6\n0101020074      2\n0101020090      1\n0201010011      5\n0201010020     16\n             ... \n0802010229     18\n0802010253     77\n0802010261     20\n0802010270     22\n0802020011    106\nName: SP_NAIH, Length: 2254, dtype: int64"
     },
     "execution_count": 53,
     "metadata": {},
     "output_type": "execute_result"
    }
   ],
   "source": [
    "group_by_proc = merged_sp_rd.groupby('SP_ATOPROF').count()['SP_NAIH']\r\n",
    "group_by_proc"
   ]
  },
  {
   "cell_type": "code",
   "execution_count": 54,
   "metadata": {},
   "outputs": [
    {
     "data": {
      "text/plain": "count      2254.000000\nmean        865.228039\nstd        5584.232565\nmin           1.000000\n25%           6.000000\n50%          24.000000\n75%         119.500000\nmax      152444.000000\nName: SP_NAIH, dtype: float64"
     },
     "execution_count": 54,
     "metadata": {},
     "output_type": "execute_result"
    }
   ],
   "source": [
    "group_by_proc.describe()"
   ]
  },
  {
   "cell_type": "code",
   "execution_count": 57,
   "metadata": {},
   "outputs": [
    {
     "data": {
      "text/plain": "SP_ATOPROF\n0408060719       120\n0202020207       120\n0205010024       120\n0408050659       120\n0405020015       121\n               ...  \n0301010145     62094\n0310010020     63537\n0310010039     66622\n0301010048     71885\n0301010170    152444\nName: SP_NAIH, Length: 564, dtype: int64"
     },
     "execution_count": 57,
     "metadata": {},
     "output_type": "execute_result"
    }
   ],
   "source": [
    "group_by_proc[group_by_proc.where(group_by_proc > 119).notna()].sort_values()"
   ]
  }
 ],
 "metadata": {
  "kernelspec": {
   "display_name": "Python 3.9.1 64-bit",
   "name": "python391jvsc74a57bd04a084a36094e489725b71fac19ba57eb7fcc3fecfd40d07ce3750367820fb29b"
  },
  "language_info": {
   "codemirror_mode": {
    "name": "ipython",
    "version": 3
   },
   "file_extension": ".py",
   "mimetype": "text/x-python",
   "name": "python",
   "nbconvert_exporter": "python",
   "pygments_lexer": "ipython3",
   "version": "3.9.1"
  },
  "metadata": {
   "interpreter": {
    "hash": "4a084a36094e489725b71fac19ba57eb7fcc3fecfd40d07ce3750367820fb29b"
   }
  },
  "orig_nbformat": 2
 },
 "nbformat": 4,
 "nbformat_minor": 2
}